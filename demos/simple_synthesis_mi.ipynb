{
 "cells": [
  {
   "cell_type": "code",
   "execution_count": 1,
   "metadata": {
    "collapsed": false
   },
   "outputs": [],
   "source": [
    "from synthpop.recipes.starter import Starter\n",
    "from synthpop.synthesizer import synthesize_all, enable_logging \n",
    "import os\n",
    "import pandas as pd"
   ]
  },
  {
   "cell_type": "code",
   "execution_count": 2,
   "metadata": {
    "collapsed": false
   },
   "outputs": [],
   "source": [
    "starter = Starter(os.environ[\"CENSUS\"], \"MI\", \"Macomb County\")"
   ]
  },
  {
   "cell_type": "code",
   "execution_count": null,
   "metadata": {
    "collapsed": true
   },
   "outputs": [],
   "source": [
    "#26,099,230200,03003,03900\n",
    "#26,099,230300,03003,03900\n",
    "#26,099,230400,03003,03900\n",
    "#26,099,230500,03003,03900\n",
    "#26,099,230601,03003,03900\n",
    "#26,099,230602,03003,03900\n",
    "#26,099,230700,03003,03900\n",
    "#26,099,230800,03003,03900\n",
    "#26,099,230900,03003,03900\n",
    "#26,099,231000,03003,03900"
   ]
  },
  {
   "cell_type": "code",
   "execution_count": 3,
   "metadata": {
    "collapsed": false
   },
   "outputs": [],
   "source": [
    "ind = pd.Series([\"26\", \"099\", \"230200\", \"1\"], index=[\"state\", \"county\", \"tract\", \"block group\"])"
   ]
  },
  {
   "cell_type": "code",
   "execution_count": 4,
   "metadata": {
    "collapsed": false
   },
   "outputs": [
    {
     "name": "stdout",
     "output_type": "stream",
     "text": [
      "Synthesizing at geog level: 'block_group' (number of geographies is 627)\n",
      "Synthesizing geog id:\n",
      "state              26\n",
      "county            099\n",
      "tract          230200\n",
      "block group         1\n",
      "dtype: object\n",
      "Drawing 311 households\n",
      "CPU times: user 1.92 s, sys: 196 ms, total: 2.12 s\n",
      "Wall time: 2.33 s\n"
     ]
    },
    {
     "name": "stderr",
     "output_type": "stream",
     "text": [
      "/home/da/anaconda2/lib/python2.7/site-packages/SynthPop-0.1.dev0-py2.7.egg/synthpop/draw.py:157: FutureWarning: diff is deprecated. Use difference instead\n",
      "  diff = constraints.index.diff(counts.index)\n"
     ]
    }
   ],
   "source": [
    "%time households, persons, fit = synthesize_all(starter, indexes=[ind])"
   ]
  },
  {
   "cell_type": "code",
   "execution_count": 5,
   "metadata": {
    "collapsed": false
   },
   "outputs": [
    {
     "data": {
      "text/html": [
       "<div>\n",
       "<table border=\"1\" class=\"dataframe\">\n",
       "  <thead>\n",
       "    <tr style=\"text-align: right;\">\n",
       "      <th></th>\n",
       "      <th>ACR</th>\n",
       "      <th>ADJHSG</th>\n",
       "      <th>ADJINC</th>\n",
       "      <th>AGS</th>\n",
       "      <th>BATH</th>\n",
       "      <th>BDSP</th>\n",
       "      <th>BLD</th>\n",
       "      <th>BUS</th>\n",
       "      <th>CONP</th>\n",
       "      <th>DIVISION</th>\n",
       "      <th>...</th>\n",
       "      <th>serialno</th>\n",
       "      <th>cars</th>\n",
       "      <th>workers</th>\n",
       "      <th>children</th>\n",
       "      <th>income</th>\n",
       "      <th>cat_id</th>\n",
       "      <th>state</th>\n",
       "      <th>county</th>\n",
       "      <th>tract</th>\n",
       "      <th>block group</th>\n",
       "    </tr>\n",
       "  </thead>\n",
       "  <tbody>\n",
       "    <tr>\n",
       "      <th>0</th>\n",
       "      <td>NaN</td>\n",
       "      <td>1000000</td>\n",
       "      <td>1008425</td>\n",
       "      <td>NaN</td>\n",
       "      <td>1</td>\n",
       "      <td>1</td>\n",
       "      <td>9</td>\n",
       "      <td>NaN</td>\n",
       "      <td>NaN</td>\n",
       "      <td>3</td>\n",
       "      <td>...</td>\n",
       "      <td>2014001317052</td>\n",
       "      <td>none</td>\n",
       "      <td>none</td>\n",
       "      <td>no</td>\n",
       "      <td>lt35</td>\n",
       "      <td>2</td>\n",
       "      <td>26</td>\n",
       "      <td>099</td>\n",
       "      <td>230200</td>\n",
       "      <td>1</td>\n",
       "    </tr>\n",
       "    <tr>\n",
       "      <th>1</th>\n",
       "      <td>NaN</td>\n",
       "      <td>1031130</td>\n",
       "      <td>1041654</td>\n",
       "      <td>NaN</td>\n",
       "      <td>1</td>\n",
       "      <td>2</td>\n",
       "      <td>7</td>\n",
       "      <td>NaN</td>\n",
       "      <td>NaN</td>\n",
       "      <td>3</td>\n",
       "      <td>...</td>\n",
       "      <td>2012000171583</td>\n",
       "      <td>none</td>\n",
       "      <td>none</td>\n",
       "      <td>yes</td>\n",
       "      <td>lt35</td>\n",
       "      <td>5</td>\n",
       "      <td>26</td>\n",
       "      <td>099</td>\n",
       "      <td>230200</td>\n",
       "      <td>1</td>\n",
       "    </tr>\n",
       "    <tr>\n",
       "      <th>2</th>\n",
       "      <td>NaN</td>\n",
       "      <td>1031130</td>\n",
       "      <td>1041654</td>\n",
       "      <td>NaN</td>\n",
       "      <td>1</td>\n",
       "      <td>1</td>\n",
       "      <td>9</td>\n",
       "      <td>NaN</td>\n",
       "      <td>NaN</td>\n",
       "      <td>3</td>\n",
       "      <td>...</td>\n",
       "      <td>2012000368411</td>\n",
       "      <td>none</td>\n",
       "      <td>none</td>\n",
       "      <td>yes</td>\n",
       "      <td>lt35</td>\n",
       "      <td>5</td>\n",
       "      <td>26</td>\n",
       "      <td>099</td>\n",
       "      <td>230200</td>\n",
       "      <td>1</td>\n",
       "    </tr>\n",
       "  </tbody>\n",
       "</table>\n",
       "<p>3 rows × 215 columns</p>\n",
       "</div>"
      ],
      "text/plain": [
       "   ACR   ADJHSG   ADJINC  AGS  BATH  BDSP  BLD  BUS  CONP  DIVISION  \\\n",
       "0  NaN  1000000  1008425  NaN     1     1    9  NaN   NaN         3   \n",
       "1  NaN  1031130  1041654  NaN     1     2    7  NaN   NaN         3   \n",
       "2  NaN  1031130  1041654  NaN     1     1    9  NaN   NaN         3   \n",
       "\n",
       "      ...            serialno  cars  workers  children  income  cat_id  state  \\\n",
       "0     ...       2014001317052  none     none        no    lt35       2     26   \n",
       "1     ...       2012000171583  none     none       yes    lt35       5     26   \n",
       "2     ...       2012000368411  none     none       yes    lt35       5     26   \n",
       "\n",
       "   county   tract  block group  \n",
       "0     099  230200            1  \n",
       "1     099  230200            1  \n",
       "2     099  230200            1  \n",
       "\n",
       "[3 rows x 215 columns]"
      ]
     },
     "execution_count": 5,
     "metadata": {},
     "output_type": "execute_result"
    }
   ],
   "source": [
    "households.head(3)"
   ]
  },
  {
   "cell_type": "code",
   "execution_count": 8,
   "metadata": {
    "collapsed": false
   },
   "outputs": [
    {
     "data": {
      "text/html": [
       "<div style=\"max-height:1000px;max-width:1500px;overflow:auto;\">\n",
       "<table border=\"1\" class=\"dataframe\">\n",
       "  <thead>\n",
       "    <tr style=\"text-align: right;\">\n",
       "      <th></th>\n",
       "      <th>serialno</th>\n",
       "      <th>RT</th>\n",
       "      <th>SPORDER</th>\n",
       "      <th>PUMA00</th>\n",
       "      <th>PUMA10</th>\n",
       "      <th>ST</th>\n",
       "      <th>ADJINC</th>\n",
       "      <th>PWGTP</th>\n",
       "      <th>AGEP</th>\n",
       "      <th>CIT</th>\n",
       "      <th>...</th>\n",
       "      <th>PWGTP76</th>\n",
       "      <th>PWGTP77</th>\n",
       "      <th>PWGTP78</th>\n",
       "      <th>PWGTP79</th>\n",
       "      <th>PWGTP80</th>\n",
       "      <th>age</th>\n",
       "      <th>race</th>\n",
       "      <th>sex</th>\n",
       "      <th>cat_id</th>\n",
       "      <th>hh_id</th>\n",
       "    </tr>\n",
       "  </thead>\n",
       "  <tbody>\n",
       "    <tr>\n",
       "      <th>0</th>\n",
       "      <td> 2012000030460</td>\n",
       "      <td> P</td>\n",
       "      <td> 1</td>\n",
       "      <td>-9</td>\n",
       "      <td> 08502</td>\n",
       "      <td> 06</td>\n",
       "      <td> 1010207</td>\n",
       "      <td> 18</td>\n",
       "      <td> 46</td>\n",
       "      <td> 4</td>\n",
       "      <td>...</td>\n",
       "      <td> 5</td>\n",
       "      <td> 28</td>\n",
       "      <td> 21</td>\n",
       "      <td> 16</td>\n",
       "      <td> 6</td>\n",
       "      <td> 35 to 60</td>\n",
       "      <td> asian</td>\n",
       "      <td> female</td>\n",
       "      <td> 16</td>\n",
       "      <td>  0</td>\n",
       "    </tr>\n",
       "    <tr>\n",
       "      <th>1</th>\n",
       "      <td> 2012000030460</td>\n",
       "      <td> P</td>\n",
       "      <td> 1</td>\n",
       "      <td>-9</td>\n",
       "      <td> 08502</td>\n",
       "      <td> 06</td>\n",
       "      <td> 1010207</td>\n",
       "      <td> 18</td>\n",
       "      <td> 46</td>\n",
       "      <td> 4</td>\n",
       "      <td>...</td>\n",
       "      <td> 5</td>\n",
       "      <td> 28</td>\n",
       "      <td> 21</td>\n",
       "      <td> 16</td>\n",
       "      <td> 6</td>\n",
       "      <td> 35 to 60</td>\n",
       "      <td> asian</td>\n",
       "      <td> female</td>\n",
       "      <td> 16</td>\n",
       "      <td>  6</td>\n",
       "    </tr>\n",
       "    <tr>\n",
       "      <th>2</th>\n",
       "      <td> 2012000030460</td>\n",
       "      <td> P</td>\n",
       "      <td> 1</td>\n",
       "      <td>-9</td>\n",
       "      <td> 08502</td>\n",
       "      <td> 06</td>\n",
       "      <td> 1010207</td>\n",
       "      <td> 18</td>\n",
       "      <td> 46</td>\n",
       "      <td> 4</td>\n",
       "      <td>...</td>\n",
       "      <td> 5</td>\n",
       "      <td> 28</td>\n",
       "      <td> 21</td>\n",
       "      <td> 16</td>\n",
       "      <td> 6</td>\n",
       "      <td> 35 to 60</td>\n",
       "      <td> asian</td>\n",
       "      <td> female</td>\n",
       "      <td> 16</td>\n",
       "      <td> 20</td>\n",
       "    </tr>\n",
       "  </tbody>\n",
       "</table>\n",
       "<p>3 rows × 295 columns</p>\n",
       "</div>"
      ],
      "text/plain": [
       "        serialno RT  SPORDER  PUMA00 PUMA10  ST   ADJINC  PWGTP  AGEP  CIT  \\\n",
       "0  2012000030460  P        1      -9  08502  06  1010207     18    46    4   \n",
       "1  2012000030460  P        1      -9  08502  06  1010207     18    46    4   \n",
       "2  2012000030460  P        1      -9  08502  06  1010207     18    46    4   \n",
       "\n",
       "   ...    PWGTP76  PWGTP77  PWGTP78  PWGTP79  PWGTP80       age   race  \\\n",
       "0  ...          5       28       21       16        6  35 to 60  asian   \n",
       "1  ...          5       28       21       16        6  35 to 60  asian   \n",
       "2  ...          5       28       21       16        6  35 to 60  asian   \n",
       "\n",
       "      sex  cat_id  hh_id  \n",
       "0  female      16      0  \n",
       "1  female      16      6  \n",
       "2  female      16     20  \n",
       "\n",
       "[3 rows x 295 columns]"
      ]
     },
     "execution_count": 8,
     "metadata": {},
     "output_type": "execute_result"
    }
   ],
   "source": [
    "persons.head(3)"
   ]
  },
  {
   "cell_type": "code",
   "execution_count": 9,
   "metadata": {
    "collapsed": false
   },
   "outputs": [
    {
     "data": {
      "text/plain": [
       "{BlockGroupID(state='06', county='085', tract='508203', block_group='3'): FitQuality(household_chisq=1033957.2104660122, household_p=0.0, people_chisq=86.359051234185131, people_p=4.0257811248627773e-07)}"
      ]
     },
     "execution_count": 9,
     "metadata": {},
     "output_type": "execute_result"
    }
   ],
   "source": [
    "fit"
   ]
  },
  {
   "cell_type": "code",
   "execution_count": 13,
   "metadata": {
    "collapsed": false
   },
   "outputs": [],
   "source": [
    "starter = Starter(os.environ[\"CENSUS\"], \"MD\", \"Montgomery County\")"
   ]
  },
  {
   "cell_type": "code",
   "execution_count": 15,
   "metadata": {
    "collapsed": false
   },
   "outputs": [],
   "source": [
    "ind = pd.Series([\"24\", \"031\", \"700101\", \"1\"], index=[\"state\", \"county\", \"tract\", \"block group\"])"
   ]
  },
  {
   "cell_type": "code",
   "execution_count": 17,
   "metadata": {
    "collapsed": false
   },
   "outputs": [
    {
     "name": "stdout",
     "output_type": "stream",
     "text": [
      "Synthesizing at geog level: 'block_group' (number of geographies is 614)\n",
      "Synthesizing geog id:\n",
      "state              24\n",
      "county            031\n",
      "tract          700101\n",
      "block group         1\n",
      "dtype: object\n",
      "Drawing 548 households\n",
      "CPU times: user 873 ms, sys: 39.7 ms, total: 913 ms\n",
      "Wall time: 929 ms\n"
     ]
    }
   ],
   "source": [
    "%time households, persons, fit = synthesize_all(starter, indexes=[ind])"
   ]
  },
  {
   "cell_type": "code",
   "execution_count": null,
   "metadata": {
    "collapsed": false
   },
   "outputs": [],
   "source": []
  }
 ],
 "metadata": {
  "kernelspec": {
   "display_name": "Python 2",
   "language": "python",
   "name": "python2"
  },
  "language_info": {
   "codemirror_mode": {
    "name": "ipython",
    "version": 2
   },
   "file_extension": ".py",
   "mimetype": "text/x-python",
   "name": "python",
   "nbconvert_exporter": "python",
   "pygments_lexer": "ipython2",
   "version": "2.7.11"
  }
 },
 "nbformat": 4,
 "nbformat_minor": 0
}
