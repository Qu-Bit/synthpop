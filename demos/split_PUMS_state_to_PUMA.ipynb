{
 "cells": [
  {
   "cell_type": "code",
   "execution_count": 2,
   "metadata": {
    "collapsed": false
   },
   "outputs": [],
   "source": [
    "import pandas as pd\n",
    "import numpy as np\n",
    "folder='/home/da/tools/synthpop/demos/inputs/'"
   ]
  },
  {
   "cell_type": "code",
   "execution_count": 64,
   "metadata": {
    "collapsed": false
   },
   "outputs": [],
   "source": []
  },
  {
   "cell_type": "markdown",
   "metadata": {},
   "source": [
    "# select PUMS for the region"
   ]
  },
  {
   "cell_type": "code",
   "execution_count": 3,
   "metadata": {
    "collapsed": false
   },
   "outputs": [],
   "source": [
    "#select PUMS for the region\n",
    "\n",
    "dfgeo=pd.read_csv(folder+\"tract10_to_puma.csv\",dtype=object)\n",
    "g26=dfgeo[dfgeo['statefp']=='26']\n",
    "gr=g26[g26['countyfp'].isin(['093','099','115','125','147','161','163'])]\n",
    "g00=gr['puma00_id'].unique()\n",
    "g10=gr['puma10_id'].unique()\n",
    "\n",
    "dfh=pd.read_csv(folder+\"puma_h_26.csv\",dtype=object)\n",
    "dfa=dfh[dfh['PUMA00'].isin(g00)|dfh['PUMA10'].isin(g10)]\n",
    "dfa.to_csv('sem_h_pums.csv')\n",
    "\n",
    "dfp=pd.read_csv(folder+\"puma_p_26.csv\",dtype=object)\n",
    "dfa=dfp[dfp['PUMA00'].isin(g00)|dfp['PUMA10'].isin(g10)]\n",
    "dfa.to_csv('sem_p_pums.csv')"
   ]
  },
  {
   "cell_type": "code",
   "execution_count": 4,
   "metadata": {
    "collapsed": false
   },
   "outputs": [],
   "source": [
    "\n",
    "\n"
   ]
  },
  {
   "cell_type": "markdown",
   "metadata": {},
   "source": [
    "# split state PUMS by PUMA"
   ]
  },
  {
   "cell_type": "code",
   "execution_count": null,
   "metadata": {
    "collapsed": false
   },
   "outputs": [],
   "source": [
    "dfp=pd.read_csv(\"pums_p_26.csv\",dtype=object)"
   ]
  },
  {
   "cell_type": "code",
   "execution_count": null,
   "metadata": {
    "collapsed": false
   },
   "outputs": [],
   "source": [
    "dfp.head(2)"
   ]
  },
  {
   "cell_type": "code",
   "execution_count": null,
   "metadata": {
    "collapsed": false
   },
   "outputs": [],
   "source": [
    "pumayear='PUMA00'\n",
    "pumas=dfp[pumayear].unique()\n",
    "dfp=dfp.set_index([pumayear])"
   ]
  },
  {
   "cell_type": "code",
   "execution_count": null,
   "metadata": {
    "collapsed": false
   },
   "outputs": [],
   "source": [
    "dfp.head(2)"
   ]
  },
  {
   "cell_type": "code",
   "execution_count": null,
   "metadata": {
    "collapsed": false
   },
   "outputs": [],
   "source": [
    "\n",
    "for x in pumas:\n",
    "    dfp_t=dfp.loc[x].reset_index()\n",
    "    dfp_t.to_csv(pumayear.lower()+\"_p_26_\"+str(x)+\".csv\")\n",
    "    "
   ]
  },
  {
   "cell_type": "code",
   "execution_count": null,
   "metadata": {
    "collapsed": false
   },
   "outputs": [],
   "source": [
    "pumas"
   ]
  },
  {
   "cell_type": "code",
   "execution_count": null,
   "metadata": {
    "collapsed": false
   },
   "outputs": [],
   "source": []
  }
 ],
 "metadata": {
  "kernelspec": {
   "display_name": "Python 2",
   "language": "python",
   "name": "python2"
  },
  "language_info": {
   "codemirror_mode": {
    "name": "ipython",
    "version": 2
   },
   "file_extension": ".py",
   "mimetype": "text/x-python",
   "name": "python",
   "nbconvert_exporter": "python",
   "pygments_lexer": "ipython2",
   "version": "2.7.11"
  }
 },
 "nbformat": 4,
 "nbformat_minor": 0
}
