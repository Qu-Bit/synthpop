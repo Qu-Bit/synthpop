{
 "cells": [
  {
   "cell_type": "code",
   "execution_count": 7,
   "metadata": {
    "collapsed": false
   },
   "outputs": [],
   "source": [
    "import pandas as pd"
   ]
  },
  {
   "cell_type": "code",
   "execution_count": 8,
   "metadata": {
    "collapsed": false
   },
   "outputs": [],
   "source": [
    "dfp=pd.read_csv(\"pums_p_26.csv\",dtype=object)"
   ]
  },
  {
   "cell_type": "code",
   "execution_count": 9,
   "metadata": {
    "collapsed": false
   },
   "outputs": [
    {
     "data": {
      "text/html": [
       "<div>\n",
       "<table border=\"1\" class=\"dataframe\">\n",
       "  <thead>\n",
       "    <tr style=\"text-align: right;\">\n",
       "      <th></th>\n",
       "      <th>RT</th>\n",
       "      <th>SERIALNO</th>\n",
       "      <th>SPORDER</th>\n",
       "      <th>PUMA00</th>\n",
       "      <th>PUMA10</th>\n",
       "      <th>ST</th>\n",
       "      <th>ADJINC</th>\n",
       "      <th>PWGTP</th>\n",
       "      <th>AGEP</th>\n",
       "      <th>CIT</th>\n",
       "      <th>...</th>\n",
       "      <th>PWGTP71</th>\n",
       "      <th>PWGTP72</th>\n",
       "      <th>PWGTP73</th>\n",
       "      <th>PWGTP74</th>\n",
       "      <th>PWGTP75</th>\n",
       "      <th>PWGTP76</th>\n",
       "      <th>PWGTP77</th>\n",
       "      <th>PWGTP78</th>\n",
       "      <th>PWGTP79</th>\n",
       "      <th>PWGTP80</th>\n",
       "    </tr>\n",
       "  </thead>\n",
       "  <tbody>\n",
       "    <tr>\n",
       "      <th>0</th>\n",
       "      <td>P</td>\n",
       "      <td>2010000000033</td>\n",
       "      <td>01</td>\n",
       "      <td>03500</td>\n",
       "      <td>-0009</td>\n",
       "      <td>26</td>\n",
       "      <td>1094136</td>\n",
       "      <td>00004</td>\n",
       "      <td>63</td>\n",
       "      <td>1</td>\n",
       "      <td>...</td>\n",
       "      <td>00004</td>\n",
       "      <td>00007</td>\n",
       "      <td>00005</td>\n",
       "      <td>00004</td>\n",
       "      <td>00007</td>\n",
       "      <td>00005</td>\n",
       "      <td>00006</td>\n",
       "      <td>00001</td>\n",
       "      <td>00001</td>\n",
       "      <td>00004</td>\n",
       "    </tr>\n",
       "    <tr>\n",
       "      <th>1</th>\n",
       "      <td>P</td>\n",
       "      <td>2010000000033</td>\n",
       "      <td>02</td>\n",
       "      <td>03500</td>\n",
       "      <td>-0009</td>\n",
       "      <td>26</td>\n",
       "      <td>1094136</td>\n",
       "      <td>00005</td>\n",
       "      <td>24</td>\n",
       "      <td>1</td>\n",
       "      <td>...</td>\n",
       "      <td>00005</td>\n",
       "      <td>00008</td>\n",
       "      <td>00006</td>\n",
       "      <td>00007</td>\n",
       "      <td>00008</td>\n",
       "      <td>00006</td>\n",
       "      <td>00008</td>\n",
       "      <td>00002</td>\n",
       "      <td>00000</td>\n",
       "      <td>00006</td>\n",
       "    </tr>\n",
       "  </tbody>\n",
       "</table>\n",
       "<p>2 rows × 293 columns</p>\n",
       "</div>"
      ],
      "text/plain": [
       "  RT       SERIALNO SPORDER PUMA00 PUMA10  ST   ADJINC  PWGTP AGEP CIT  \\\n",
       "0  P  2010000000033      01  03500  -0009  26  1094136  00004   63   1   \n",
       "1  P  2010000000033      02  03500  -0009  26  1094136  00005   24   1   \n",
       "\n",
       "    ...   PWGTP71 PWGTP72 PWGTP73 PWGTP74 PWGTP75 PWGTP76 PWGTP77 PWGTP78  \\\n",
       "0   ...     00004   00007   00005   00004   00007   00005   00006   00001   \n",
       "1   ...     00005   00008   00006   00007   00008   00006   00008   00002   \n",
       "\n",
       "  PWGTP79 PWGTP80  \n",
       "0   00001   00004  \n",
       "1   00000   00006  \n",
       "\n",
       "[2 rows x 293 columns]"
      ]
     },
     "execution_count": 9,
     "metadata": {},
     "output_type": "execute_result"
    }
   ],
   "source": [
    "dfp.head(2)"
   ]
  },
  {
   "cell_type": "code",
   "execution_count": 10,
   "metadata": {
    "collapsed": false
   },
   "outputs": [],
   "source": [
    "pumayear='PUMA00'\n",
    "pumas=dfp[pumayear].unique()\n",
    "dfp=dfp.set_index([pumayear])"
   ]
  },
  {
   "cell_type": "code",
   "execution_count": 11,
   "metadata": {
    "collapsed": false
   },
   "outputs": [
    {
     "data": {
      "text/html": [
       "<div>\n",
       "<table border=\"1\" class=\"dataframe\">\n",
       "  <thead>\n",
       "    <tr style=\"text-align: right;\">\n",
       "      <th></th>\n",
       "      <th>RT</th>\n",
       "      <th>SERIALNO</th>\n",
       "      <th>SPORDER</th>\n",
       "      <th>PUMA10</th>\n",
       "      <th>ST</th>\n",
       "      <th>ADJINC</th>\n",
       "      <th>PWGTP</th>\n",
       "      <th>AGEP</th>\n",
       "      <th>CIT</th>\n",
       "      <th>CITWP05</th>\n",
       "      <th>...</th>\n",
       "      <th>PWGTP71</th>\n",
       "      <th>PWGTP72</th>\n",
       "      <th>PWGTP73</th>\n",
       "      <th>PWGTP74</th>\n",
       "      <th>PWGTP75</th>\n",
       "      <th>PWGTP76</th>\n",
       "      <th>PWGTP77</th>\n",
       "      <th>PWGTP78</th>\n",
       "      <th>PWGTP79</th>\n",
       "      <th>PWGTP80</th>\n",
       "    </tr>\n",
       "    <tr>\n",
       "      <th>PUMA00</th>\n",
       "      <th></th>\n",
       "      <th></th>\n",
       "      <th></th>\n",
       "      <th></th>\n",
       "      <th></th>\n",
       "      <th></th>\n",
       "      <th></th>\n",
       "      <th></th>\n",
       "      <th></th>\n",
       "      <th></th>\n",
       "      <th></th>\n",
       "      <th></th>\n",
       "      <th></th>\n",
       "      <th></th>\n",
       "      <th></th>\n",
       "      <th></th>\n",
       "      <th></th>\n",
       "      <th></th>\n",
       "      <th></th>\n",
       "      <th></th>\n",
       "      <th></th>\n",
       "    </tr>\n",
       "  </thead>\n",
       "  <tbody>\n",
       "    <tr>\n",
       "      <th>03500</th>\n",
       "      <td>P</td>\n",
       "      <td>2010000000033</td>\n",
       "      <td>01</td>\n",
       "      <td>-0009</td>\n",
       "      <td>26</td>\n",
       "      <td>1094136</td>\n",
       "      <td>00004</td>\n",
       "      <td>63</td>\n",
       "      <td>1</td>\n",
       "      <td>NaN</td>\n",
       "      <td>...</td>\n",
       "      <td>00004</td>\n",
       "      <td>00007</td>\n",
       "      <td>00005</td>\n",
       "      <td>00004</td>\n",
       "      <td>00007</td>\n",
       "      <td>00005</td>\n",
       "      <td>00006</td>\n",
       "      <td>00001</td>\n",
       "      <td>00001</td>\n",
       "      <td>00004</td>\n",
       "    </tr>\n",
       "    <tr>\n",
       "      <th>03500</th>\n",
       "      <td>P</td>\n",
       "      <td>2010000000033</td>\n",
       "      <td>02</td>\n",
       "      <td>-0009</td>\n",
       "      <td>26</td>\n",
       "      <td>1094136</td>\n",
       "      <td>00005</td>\n",
       "      <td>24</td>\n",
       "      <td>1</td>\n",
       "      <td>NaN</td>\n",
       "      <td>...</td>\n",
       "      <td>00005</td>\n",
       "      <td>00008</td>\n",
       "      <td>00006</td>\n",
       "      <td>00007</td>\n",
       "      <td>00008</td>\n",
       "      <td>00006</td>\n",
       "      <td>00008</td>\n",
       "      <td>00002</td>\n",
       "      <td>00000</td>\n",
       "      <td>00006</td>\n",
       "    </tr>\n",
       "  </tbody>\n",
       "</table>\n",
       "<p>2 rows × 292 columns</p>\n",
       "</div>"
      ],
      "text/plain": [
       "       RT       SERIALNO SPORDER PUMA10  ST   ADJINC  PWGTP AGEP CIT CITWP05  \\\n",
       "PUMA00                                                                         \n",
       "03500   P  2010000000033      01  -0009  26  1094136  00004   63   1     NaN   \n",
       "03500   P  2010000000033      02  -0009  26  1094136  00005   24   1     NaN   \n",
       "\n",
       "         ...   PWGTP71 PWGTP72 PWGTP73 PWGTP74 PWGTP75 PWGTP76 PWGTP77  \\\n",
       "PUMA00   ...                                                             \n",
       "03500    ...     00004   00007   00005   00004   00007   00005   00006   \n",
       "03500    ...     00005   00008   00006   00007   00008   00006   00008   \n",
       "\n",
       "       PWGTP78 PWGTP79 PWGTP80  \n",
       "PUMA00                          \n",
       "03500    00001   00001   00004  \n",
       "03500    00002   00000   00006  \n",
       "\n",
       "[2 rows x 292 columns]"
      ]
     },
     "execution_count": 11,
     "metadata": {},
     "output_type": "execute_result"
    }
   ],
   "source": [
    "dfp.head(2)"
   ]
  },
  {
   "cell_type": "code",
   "execution_count": 12,
   "metadata": {
    "collapsed": false
   },
   "outputs": [],
   "source": [
    "\n",
    "for x in pumas:\n",
    "    dfp_t=dfp.loc[x].reset_index()\n",
    "    dfp_t.to_csv(pumayear.lower()+\"_p_26_\"+str(x)+\".csv\")\n",
    "    "
   ]
  },
  {
   "cell_type": "code",
   "execution_count": null,
   "metadata": {
    "collapsed": false
   },
   "outputs": [],
   "source": [
    "pumas"
   ]
  },
  {
   "cell_type": "code",
   "execution_count": null,
   "metadata": {
    "collapsed": false
   },
   "outputs": [],
   "source": []
  }
 ],
 "metadata": {
  "kernelspec": {
   "display_name": "Python 2",
   "language": "python",
   "name": "python2"
  },
  "language_info": {
   "codemirror_mode": {
    "name": "ipython",
    "version": 2
   },
   "file_extension": ".py",
   "mimetype": "text/x-python",
   "name": "python",
   "nbconvert_exporter": "python",
   "pygments_lexer": "ipython2",
   "version": "2.7.10"
  }
 },
 "nbformat": 4,
 "nbformat_minor": 0
}
