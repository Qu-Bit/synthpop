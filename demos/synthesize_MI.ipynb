{
 "metadata": {
  "name": "",
  "signature": "sha256:96f827bb02506e62109f86d8960274bfe82131cffb2a54dccd6df618cb4f0aac"
 },
 "nbformat": 3,
 "nbformat_minor": 0,
 "worksheets": [
  {
   "cells": [
    {
     "cell_type": "code",
     "collapsed": false,
     "input": [
      "%load_ext autoreload\n",
      "%autoreload 2\n",
      "from synthpop.recipes.starter2 import Starter\n",
      "from synthpop.synthesizer import synthesize_all, enable_logging \n",
      "import os\n",
      "import pandas as pd\n",
      "import time\n",
      "#enable_logging()"
     ],
     "language": "python",
     "metadata": {},
     "outputs": [],
     "prompt_number": 1
    },
    {
     "cell_type": "code",
     "collapsed": false,
     "input": [
      "results=[]\n",
      "time0=time.time()\n",
      "\n",
      "def synthesize_counties(counties):\n",
      "    \n",
      "    for county in counties:\n",
      "        results=[]\n",
      "        starter = Starter(os.environ[\"CENSUS\"], \"MI\", county)\n",
      "        results=synthesize_all(starter)\n",
      "        print time.time()-time0\n",
      "        results[0].to_csv(county+\"_\"+\"HHs.csv\")\n",
      "        results[1].to_csv(county+\"_\"+\"Pops.csv\")\n",
      "        print results[2]\n",
      "\n",
      "\n",
      "#synthesize_counties([\"St. Clair County\",\"Livingston County\",\"Oakland County\",\"Washtenaw County\",\"Wayne County\",\"Monroe County\",\"Macomb County\"])\n",
      "synthesize_counties([\"Livingston County\"])\n"
     ],
     "language": "python",
     "metadata": {},
     "outputs": [
      {
       "output_type": "stream",
       "stream": "stdout",
       "text": [
        "Synthesizing at geog level: 'block_group' (number of geographies is 113)\n",
        "Synthesizing geog id:\n",
        "state              26\n",
        "county            093\n",
        "tract          710100\n",
        "block group         1\n",
        "dtype: object\n",
        "Drawing 845 households"
       ]
      },
      {
       "output_type": "stream",
       "stream": "stderr",
       "text": [
        "/home/da/anaconda/lib/python2.7/site-packages/pandas/io/parsers.py:1159: DtypeWarning: Columns (108) have mixed types. Specify dtype option on import or set low_memory=False.\n",
        "  data = self._reader.read(nrows)\n",
        "/home/da/anaconda/lib/python2.7/site-packages/pandas/util/decorators.py:13: FutureWarning: diff is deprecated. Use difference instead\n",
        "  FutureWarning)\n"
       ]
      },
      {
       "output_type": "stream",
       "stream": "stdout",
       "text": [
        "\n",
        "Synthesizing geog id:\n"
       ]
      },
      {
       "output_type": "stream",
       "stream": "stdout",
       "text": [
        "state              26\n",
        "county            093\n",
        "tract          710300\n",
        "block group         1\n",
        "dtype: object\n",
        "Drawing 818 households"
       ]
      },
      {
       "output_type": "stream",
       "stream": "stdout",
       "text": [
        "\n",
        "Synthesizing geog id:\n"
       ]
      },
      {
       "output_type": "stream",
       "stream": "stdout",
       "text": [
        "state              26\n",
        "county            093\n",
        "tract          710300\n",
        "block group         2\n",
        "dtype: object\n",
        "Drawing 462 households"
       ]
      },
      {
       "output_type": "stream",
       "stream": "stdout",
       "text": [
        "\n",
        "Synthesizing geog id:\n"
       ]
      },
      {
       "output_type": "stream",
       "stream": "stdout",
       "text": [
        "state              26\n",
        "county            093\n",
        "tract          710500\n",
        "block group         1\n",
        "dtype: object\n",
        "Drawing 666 households"
       ]
      },
      {
       "output_type": "stream",
       "stream": "stdout",
       "text": [
        "\n",
        "Synthesizing geog id:\n"
       ]
      },
      {
       "output_type": "stream",
       "stream": "stdout",
       "text": [
        "state              26\n",
        "county            093\n",
        "tract          710700\n",
        "block group         1\n",
        "dtype: object\n",
        "Drawing 647 households"
       ]
      },
      {
       "output_type": "stream",
       "stream": "stdout",
       "text": [
        "\n",
        "Synthesizing geog id:\n"
       ]
      },
      {
       "output_type": "stream",
       "stream": "stdout",
       "text": [
        "state              26\n",
        "county            093\n",
        "tract          711000\n",
        "block group         1\n",
        "dtype: object\n",
        "Drawing 802 households"
       ]
      },
      {
       "output_type": "stream",
       "stream": "stdout",
       "text": [
        "\n",
        "Synthesizing geog id:\n"
       ]
      },
      {
       "output_type": "stream",
       "stream": "stdout",
       "text": [
        "state              26\n",
        "county            093\n",
        "tract          711000\n",
        "block group         2\n",
        "dtype: object\n",
        "Drawing 707 households"
       ]
      },
      {
       "output_type": "stream",
       "stream": "stdout",
       "text": [
        "\n",
        "Synthesizing geog id:\n"
       ]
      },
      {
       "output_type": "stream",
       "stream": "stdout",
       "text": [
        "state              26\n",
        "county            093\n",
        "tract          712101\n",
        "block group         1\n",
        "dtype: object\n",
        "Drawing 1054 households"
       ]
      },
      {
       "output_type": "stream",
       "stream": "stdout",
       "text": [
        "\n",
        "Synthesizing geog id:\n"
       ]
      },
      {
       "output_type": "stream",
       "stream": "stdout",
       "text": [
        "state              26\n",
        "county            093\n",
        "tract          712102\n",
        "block group         1\n",
        "dtype: object\n",
        "Drawing 858 households"
       ]
      },
      {
       "output_type": "stream",
       "stream": "stdout",
       "text": [
        "\n",
        "Synthesizing geog id:\n"
       ]
      },
      {
       "output_type": "stream",
       "stream": "stdout",
       "text": [
        "state              26\n",
        "county            093\n",
        "tract          712601\n",
        "block group         1\n",
        "dtype: object\n",
        "Drawing 667 households"
       ]
      },
      {
       "output_type": "stream",
       "stream": "stdout",
       "text": [
        "\n",
        "Synthesizing geog id:\n"
       ]
      },
      {
       "output_type": "stream",
       "stream": "stdout",
       "text": [
        "state              26\n",
        "county            093\n",
        "tract          712601\n",
        "block group         2\n",
        "dtype: object\n",
        "Drawing 600 households"
       ]
      },
      {
       "output_type": "stream",
       "stream": "stdout",
       "text": [
        "\n",
        "Synthesizing geog id:\n"
       ]
      },
      {
       "output_type": "stream",
       "stream": "stdout",
       "text": [
        "state              26\n",
        "county            093\n",
        "tract          712602\n",
        "block group         1\n",
        "dtype: object\n",
        "Drawing 960 households"
       ]
      },
      {
       "output_type": "stream",
       "stream": "stdout",
       "text": [
        "\n",
        "Synthesizing geog id:\n"
       ]
      },
      {
       "output_type": "stream",
       "stream": "stdout",
       "text": [
        "state              26\n",
        "county            093\n",
        "tract          713100\n",
        "block group         1\n",
        "dtype: object\n",
        "Drawing 569 households"
       ]
      },
      {
       "output_type": "stream",
       "stream": "stdout",
       "text": [
        "\n",
        "Synthesizing geog id:\n"
       ]
      },
      {
       "output_type": "stream",
       "stream": "stdout",
       "text": [
        "state              26\n",
        "county            093\n",
        "tract          713100\n",
        "block group         2\n",
        "dtype: object\n",
        "Drawing 960 households"
       ]
      },
      {
       "output_type": "stream",
       "stream": "stdout",
       "text": [
        "\n",
        "Synthesizing geog id:\n"
       ]
      },
      {
       "output_type": "stream",
       "stream": "stdout",
       "text": [
        "state              26\n",
        "county            093\n",
        "tract          713300\n",
        "block group         1\n",
        "dtype: object\n",
        "Drawing 535 households"
       ]
      },
      {
       "output_type": "stream",
       "stream": "stdout",
       "text": [
        "\n",
        "Synthesizing geog id:\n"
       ]
      },
      {
       "output_type": "stream",
       "stream": "stdout",
       "text": [
        "state              26\n",
        "county            093\n",
        "tract          713500\n",
        "block group         1\n",
        "dtype: object\n",
        "Drawing 814 households"
       ]
      },
      {
       "output_type": "stream",
       "stream": "stdout",
       "text": [
        "\n",
        "Synthesizing geog id:\n"
       ]
      },
      {
       "output_type": "stream",
       "stream": "stdout",
       "text": [
        "state              26\n",
        "county            093\n",
        "tract          713500\n",
        "block group         2\n",
        "dtype: object\n",
        "Drawing 466 households"
       ]
      },
      {
       "output_type": "stream",
       "stream": "stdout",
       "text": [
        "\n",
        "Synthesizing geog id:\n"
       ]
      },
      {
       "output_type": "stream",
       "stream": "stdout",
       "text": [
        "state              26\n",
        "county            093\n",
        "tract          713700\n",
        "block group         1\n",
        "dtype: object\n",
        "Drawing 1518 households"
       ]
      },
      {
       "output_type": "stream",
       "stream": "stdout",
       "text": [
        "\n",
        "Synthesizing geog id:\n"
       ]
      },
      {
       "output_type": "stream",
       "stream": "stdout",
       "text": [
        "state              26\n",
        "county            093\n",
        "tract          720100\n",
        "block group         1\n",
        "dtype: object\n",
        "Drawing 530 households"
       ]
      },
      {
       "output_type": "stream",
       "stream": "stdout",
       "text": [
        "\n",
        "Synthesizing geog id:\n"
       ]
      },
      {
       "output_type": "stream",
       "stream": "stdout",
       "text": [
        "state              26\n",
        "county            093\n",
        "tract          720100\n",
        "block group         2\n",
        "dtype: object\n",
        "Drawing 626 households"
       ]
      },
      {
       "output_type": "stream",
       "stream": "stdout",
       "text": [
        "\n",
        "Synthesizing geog id:\n"
       ]
      },
      {
       "output_type": "stream",
       "stream": "stdout",
       "text": [
        "state              26\n",
        "county            093\n",
        "tract          721100\n",
        "block group         1\n",
        "dtype: object\n",
        "Drawing 454 households"
       ]
      },
      {
       "output_type": "stream",
       "stream": "stdout",
       "text": [
        "\n",
        "Synthesizing geog id:\n"
       ]
      },
      {
       "output_type": "stream",
       "stream": "stdout",
       "text": [
        "state              26\n",
        "county            093\n",
        "tract          721100\n",
        "block group         2\n",
        "dtype: object\n",
        "Drawing 733 households"
       ]
      },
      {
       "output_type": "stream",
       "stream": "stdout",
       "text": [
        "\n",
        "Synthesizing geog id:\n"
       ]
      },
      {
       "output_type": "stream",
       "stream": "stdout",
       "text": [
        "state              26\n",
        "county            093\n",
        "tract          722100\n",
        "block group         1\n",
        "dtype: object\n",
        "Drawing 566 households"
       ]
      },
      {
       "output_type": "stream",
       "stream": "stdout",
       "text": [
        "\n",
        "Synthesizing geog id:\n"
       ]
      },
      {
       "output_type": "stream",
       "stream": "stdout",
       "text": [
        "state              26\n",
        "county            093\n",
        "tract          722100\n",
        "block group         2\n",
        "dtype: object\n",
        "Drawing 501 households"
       ]
      },
      {
       "output_type": "stream",
       "stream": "stdout",
       "text": [
        "\n",
        "Synthesizing geog id:\n"
       ]
      },
      {
       "output_type": "stream",
       "stream": "stdout",
       "text": [
        "state              26\n",
        "county            093\n",
        "tract          722300\n",
        "block group         1\n",
        "dtype: object\n",
        "Drawing 624 households"
       ]
      },
      {
       "output_type": "stream",
       "stream": "stdout",
       "text": [
        "\n",
        "Synthesizing geog id:\n"
       ]
      },
      {
       "output_type": "stream",
       "stream": "stdout",
       "text": [
        "state              26\n",
        "county            093\n",
        "tract          722300\n",
        "block group         2\n",
        "dtype: object\n",
        "Drawing 548 households"
       ]
      },
      {
       "output_type": "stream",
       "stream": "stdout",
       "text": [
        "\n",
        "Synthesizing geog id:\n"
       ]
      },
      {
       "output_type": "stream",
       "stream": "stdout",
       "text": [
        "state              26\n",
        "county            093\n",
        "tract          722500\n",
        "block group         1\n",
        "dtype: object\n",
        "Drawing 684 households"
       ]
      },
      {
       "output_type": "stream",
       "stream": "stdout",
       "text": [
        "\n",
        "Synthesizing geog id:\n"
       ]
      },
      {
       "output_type": "stream",
       "stream": "stdout",
       "text": [
        "state              26\n",
        "county            093\n",
        "tract          724001\n",
        "block group         1\n",
        "dtype: object\n",
        "Drawing 771 households"
       ]
      },
      {
       "output_type": "stream",
       "stream": "stdout",
       "text": [
        "\n",
        "Synthesizing geog id:\n"
       ]
      },
      {
       "output_type": "stream",
       "stream": "stdout",
       "text": [
        "state              26\n",
        "county            093\n",
        "tract          724002\n",
        "block group         1\n",
        "dtype: object\n",
        "Drawing 980 households"
       ]
      },
      {
       "output_type": "stream",
       "stream": "stdout",
       "text": [
        "\n",
        "Synthesizing geog id:\n"
       ]
      },
      {
       "output_type": "stream",
       "stream": "stdout",
       "text": [
        "state              26\n",
        "county            093\n",
        "tract          724003\n",
        "block group         1\n",
        "dtype: object\n",
        "Drawing 885 households"
       ]
      },
      {
       "output_type": "stream",
       "stream": "stdout",
       "text": [
        "\n",
        "Synthesizing geog id:\n"
       ]
      },
      {
       "output_type": "stream",
       "stream": "stdout",
       "text": [
        "state              26\n",
        "county            093\n",
        "tract          725000\n",
        "block group         1\n",
        "dtype: object\n",
        "Drawing 193 households"
       ]
      },
      {
       "output_type": "stream",
       "stream": "stdout",
       "text": [
        "\n",
        "Synthesizing geog id:\n"
       ]
      },
      {
       "output_type": "stream",
       "stream": "stdout",
       "text": [
        "state              26\n",
        "county            093\n",
        "tract          725000\n",
        "block group         2\n",
        "dtype: object\n",
        "Drawing 1041 households"
       ]
      },
      {
       "output_type": "stream",
       "stream": "stdout",
       "text": [
        "\n",
        "Synthesizing geog id:\n"
       ]
      },
      {
       "output_type": "stream",
       "stream": "stdout",
       "text": [
        "state              26\n",
        "county            093\n",
        "tract          725000\n",
        "block group         3\n",
        "dtype: object\n",
        "Drawing 882 households"
       ]
      },
      {
       "output_type": "stream",
       "stream": "stdout",
       "text": [
        "\n",
        "Synthesizing geog id:\n"
       ]
      },
      {
       "output_type": "stream",
       "stream": "stdout",
       "text": [
        "state              26\n",
        "county            093\n",
        "tract          725000\n",
        "block group         4\n",
        "dtype: object\n",
        "Drawing 264 households"
       ]
      },
      {
       "output_type": "stream",
       "stream": "stdout",
       "text": [
        "\n",
        "Synthesizing geog id:\n"
       ]
      },
      {
       "output_type": "stream",
       "stream": "stdout",
       "text": [
        "state              26\n",
        "county            093\n",
        "tract          725100\n",
        "block group         1\n",
        "dtype: object\n",
        "Drawing 422 households"
       ]
      },
      {
       "output_type": "stream",
       "stream": "stdout",
       "text": [
        "\n",
        "Synthesizing geog id:\n"
       ]
      },
      {
       "output_type": "stream",
       "stream": "stdout",
       "text": [
        "state              26\n",
        "county            093\n",
        "tract          725100\n",
        "block group         2\n",
        "dtype: object\n",
        "Drawing 245 households"
       ]
      },
      {
       "output_type": "stream",
       "stream": "stdout",
       "text": [
        "\n",
        "Synthesizing geog id:\n"
       ]
      },
      {
       "output_type": "stream",
       "stream": "stdout",
       "text": [
        "state              26\n",
        "county            093\n",
        "tract          725100\n",
        "block group         3\n",
        "dtype: object\n",
        "Drawing 401 households"
       ]
      },
      {
       "output_type": "stream",
       "stream": "stdout",
       "text": [
        "\n",
        "Synthesizing geog id:\n"
       ]
      },
      {
       "output_type": "stream",
       "stream": "stdout",
       "text": [
        "state              26\n",
        "county            093\n",
        "tract          725100\n",
        "block group         4\n",
        "dtype: object\n",
        "Drawing 464 households"
       ]
      },
      {
       "output_type": "stream",
       "stream": "stdout",
       "text": [
        "\n",
        "Synthesizing geog id:\n"
       ]
      },
      {
       "output_type": "stream",
       "stream": "stdout",
       "text": [
        "state              26\n",
        "county            093\n",
        "tract          730101\n",
        "block group         1\n",
        "dtype: object\n",
        "Drawing 935 households"
       ]
      },
      {
       "output_type": "stream",
       "stream": "stdout",
       "text": [
        "\n",
        "Synthesizing geog id:\n"
       ]
      },
      {
       "output_type": "stream",
       "stream": "stdout",
       "text": [
        "state              26\n",
        "county            093\n",
        "tract          730102\n",
        "block group         1\n",
        "dtype: object\n",
        "Drawing 1225 households"
       ]
      },
      {
       "output_type": "stream",
       "stream": "stdout",
       "text": [
        "\n",
        "Synthesizing geog id:\n"
       ]
      },
      {
       "output_type": "stream",
       "stream": "stdout",
       "text": [
        "state              26\n",
        "county            093\n",
        "tract          730600\n",
        "block group         1\n",
        "dtype: object\n",
        "Drawing 912 households"
       ]
      },
      {
       "output_type": "stream",
       "stream": "stdout",
       "text": [
        "\n",
        "Synthesizing geog id:\n"
       ]
      },
      {
       "output_type": "stream",
       "stream": "stdout",
       "text": [
        "state              26\n",
        "county            093\n",
        "tract          730600\n",
        "block group         2\n",
        "dtype: object\n",
        "Drawing 340 households"
       ]
      },
      {
       "output_type": "stream",
       "stream": "stdout",
       "text": [
        "\n",
        "Synthesizing geog id:\n"
       ]
      },
      {
       "output_type": "stream",
       "stream": "stdout",
       "text": [
        "state              26\n",
        "county            093\n",
        "tract          731100\n",
        "block group         1\n",
        "dtype: object\n",
        "Drawing 978 households"
       ]
      },
      {
       "output_type": "stream",
       "stream": "stdout",
       "text": [
        "\n",
        "Synthesizing geog id:\n"
       ]
      },
      {
       "output_type": "stream",
       "stream": "stdout",
       "text": [
        "state              26\n",
        "county            093\n",
        "tract          731100\n",
        "block group         2\n",
        "dtype: object\n",
        "Drawing 435 households"
       ]
      },
      {
       "output_type": "stream",
       "stream": "stdout",
       "text": [
        "\n",
        "Synthesizing geog id:\n"
       ]
      },
      {
       "output_type": "stream",
       "stream": "stdout",
       "text": [
        "state              26\n",
        "county            093\n",
        "tract          732100\n",
        "block group         1\n",
        "dtype: object\n",
        "Drawing 620 households"
       ]
      },
      {
       "output_type": "stream",
       "stream": "stdout",
       "text": [
        "\n",
        "Synthesizing geog id:\n"
       ]
      },
      {
       "output_type": "stream",
       "stream": "stdout",
       "text": [
        "state              26\n",
        "county            093\n",
        "tract          732100\n",
        "block group         2\n",
        "dtype: object\n",
        "Drawing 349 households"
       ]
      },
      {
       "output_type": "stream",
       "stream": "stdout",
       "text": [
        "\n",
        "Synthesizing geog id:\n"
       ]
      },
      {
       "output_type": "stream",
       "stream": "stdout",
       "text": [
        "state              26\n",
        "county            093\n",
        "tract          732100\n",
        "block group         3\n",
        "dtype: object\n",
        "Drawing 291 households"
       ]
      },
      {
       "output_type": "stream",
       "stream": "stdout",
       "text": [
        "\n",
        "Synthesizing geog id:\n"
       ]
      },
      {
       "output_type": "stream",
       "stream": "stdout",
       "text": [
        "state              26\n",
        "county            093\n",
        "tract          733100\n",
        "block group         1\n",
        "dtype: object\n",
        "Drawing 255 households"
       ]
      },
      {
       "output_type": "stream",
       "stream": "stdout",
       "text": [
        "\n",
        "Synthesizing geog id:\n"
       ]
      },
      {
       "output_type": "stream",
       "stream": "stdout",
       "text": [
        "state              26\n",
        "county            093\n",
        "tract          733100\n",
        "block group         2\n",
        "dtype: object\n",
        "Drawing 441 households"
       ]
      },
      {
       "output_type": "stream",
       "stream": "stdout",
       "text": [
        "\n",
        "Synthesizing geog id:\n"
       ]
      },
      {
       "output_type": "stream",
       "stream": "stdout",
       "text": [
        "state              26\n",
        "county            093\n",
        "tract          733601\n",
        "block group         1\n",
        "dtype: object\n",
        "Drawing 434 households"
       ]
      },
      {
       "output_type": "stream",
       "stream": "stdout",
       "text": [
        "\n",
        "Synthesizing geog id:\n"
       ]
      },
      {
       "output_type": "stream",
       "stream": "stdout",
       "text": [
        "state              26\n",
        "county            093\n",
        "tract          733601\n",
        "block group         2\n",
        "dtype: object\n",
        "Drawing 258 households"
       ]
      },
      {
       "output_type": "stream",
       "stream": "stdout",
       "text": [
        "\n",
        "Synthesizing geog id:\n"
       ]
      },
      {
       "output_type": "stream",
       "stream": "stdout",
       "text": [
        "state              26\n",
        "county            093\n",
        "tract          733601\n",
        "block group         3\n",
        "dtype: object\n",
        "Drawing 426 households"
       ]
      },
      {
       "output_type": "stream",
       "stream": "stdout",
       "text": [
        "\n",
        "Synthesizing geog id:\n"
       ]
      },
      {
       "output_type": "stream",
       "stream": "stdout",
       "text": [
        "state              26\n",
        "county            093\n",
        "tract          733602\n",
        "block group         1\n",
        "dtype: object\n",
        "Drawing 637 households"
       ]
      },
      {
       "output_type": "stream",
       "stream": "stdout",
       "text": [
        "\n",
        "Synthesizing geog id:\n"
       ]
      },
      {
       "output_type": "stream",
       "stream": "stdout",
       "text": [
        "state              26\n",
        "county            093\n",
        "tract          733602\n",
        "block group         2\n",
        "dtype: object\n",
        "Drawing 741 households"
       ]
      },
      {
       "output_type": "stream",
       "stream": "stdout",
       "text": [
        "\n",
        "Synthesizing geog id:\n"
       ]
      },
      {
       "output_type": "stream",
       "stream": "stdout",
       "text": [
        "state              26\n",
        "county            093\n",
        "tract          740200\n",
        "block group         1\n",
        "dtype: object\n",
        "Drawing 610 households"
       ]
      },
      {
       "output_type": "stream",
       "stream": "stdout",
       "text": [
        "\n",
        "Synthesizing geog id:\n"
       ]
      },
      {
       "output_type": "stream",
       "stream": "stdout",
       "text": [
        "state              26\n",
        "county            093\n",
        "tract          740200\n",
        "block group         2\n",
        "dtype: object\n",
        "Drawing 530 households"
       ]
      },
      {
       "output_type": "stream",
       "stream": "stdout",
       "text": [
        "\n",
        "Synthesizing geog id:\n"
       ]
      },
      {
       "output_type": "stream",
       "stream": "stdout",
       "text": [
        "state              26\n",
        "county            093\n",
        "tract          740300\n",
        "block group         1\n",
        "dtype: object\n",
        "Drawing 679 households"
       ]
      },
      {
       "output_type": "stream",
       "stream": "stdout",
       "text": [
        "\n",
        "Synthesizing geog id:\n"
       ]
      },
      {
       "output_type": "stream",
       "stream": "stdout",
       "text": [
        "state              26\n",
        "county            093\n",
        "tract          740500\n",
        "block group         1\n",
        "dtype: object\n",
        "Drawing 681 households"
       ]
      },
      {
       "output_type": "stream",
       "stream": "stdout",
       "text": [
        "\n",
        "Synthesizing geog id:\n"
       ]
      },
      {
       "output_type": "stream",
       "stream": "stdout",
       "text": [
        "state              26\n",
        "county            093\n",
        "tract          740500\n",
        "block group         2\n",
        "dtype: object\n",
        "Drawing 171 households"
       ]
      },
      {
       "output_type": "stream",
       "stream": "stdout",
       "text": [
        "\n",
        "Synthesizing geog id:\n"
       ]
      },
      {
       "output_type": "stream",
       "stream": "stdout",
       "text": [
        "state              26\n",
        "county            093\n",
        "tract          740600\n",
        "block group         1\n",
        "dtype: object\n",
        "Drawing 554 households"
       ]
      },
      {
       "output_type": "stream",
       "stream": "stdout",
       "text": [
        "\n",
        "Synthesizing geog id:\n"
       ]
      },
      {
       "output_type": "stream",
       "stream": "stdout",
       "text": [
        "state              26\n",
        "county            093\n",
        "tract          740600\n",
        "block group         2\n",
        "dtype: object\n",
        "Drawing 450 households"
       ]
      },
      {
       "output_type": "stream",
       "stream": "stdout",
       "text": [
        "\n",
        "Synthesizing geog id:\n"
       ]
      },
      {
       "output_type": "stream",
       "stream": "stdout",
       "text": [
        "state              26\n",
        "county            093\n",
        "tract          740700\n",
        "block group         1\n",
        "dtype: object\n",
        "Drawing 575 households"
       ]
      },
      {
       "output_type": "stream",
       "stream": "stdout",
       "text": [
        "\n",
        "Synthesizing geog id:\n"
       ]
      },
      {
       "output_type": "stream",
       "stream": "stdout",
       "text": [
        "state              26\n",
        "county            093\n",
        "tract          740700\n",
        "block group         2\n",
        "dtype: object\n",
        "Drawing 347 households"
       ]
      },
      {
       "output_type": "stream",
       "stream": "stdout",
       "text": [
        "\n",
        "Synthesizing geog id:\n"
       ]
      },
      {
       "output_type": "stream",
       "stream": "stdout",
       "text": [
        "state              26\n",
        "county            093\n",
        "tract          740800\n",
        "block group         1\n",
        "dtype: object\n",
        "Drawing 152 households"
       ]
      },
      {
       "output_type": "stream",
       "stream": "stdout",
       "text": [
        "\n",
        "Synthesizing geog id:\n"
       ]
      },
      {
       "output_type": "stream",
       "stream": "stdout",
       "text": [
        "state              26\n",
        "county            093\n",
        "tract          740800\n",
        "block group         2\n",
        "dtype: object\n",
        "Drawing 480 households"
       ]
      },
      {
       "output_type": "stream",
       "stream": "stdout",
       "text": [
        "\n",
        "Synthesizing geog id:\n"
       ]
      },
      {
       "output_type": "stream",
       "stream": "stdout",
       "text": [
        "state              26\n",
        "county            093\n",
        "tract          740800\n",
        "block group         3\n",
        "dtype: object\n",
        "Drawing 392 households"
       ]
      },
      {
       "output_type": "stream",
       "stream": "stdout",
       "text": [
        "\n",
        "Synthesizing geog id:\n"
       ]
      },
      {
       "output_type": "stream",
       "stream": "stdout",
       "text": [
        "state              26\n",
        "county            093\n",
        "tract          740900\n",
        "block group         1\n",
        "dtype: object\n",
        "Drawing 684 households"
       ]
      },
      {
       "output_type": "stream",
       "stream": "stdout",
       "text": [
        "\n",
        "Synthesizing geog id:\n"
       ]
      },
      {
       "output_type": "stream",
       "stream": "stdout",
       "text": [
        "state              26\n",
        "county            093\n",
        "tract          741100\n",
        "block group         1\n",
        "dtype: object\n",
        "Drawing 860 households"
       ]
      },
      {
       "output_type": "stream",
       "stream": "stdout",
       "text": [
        "\n",
        "Synthesizing geog id:\n"
       ]
      },
      {
       "output_type": "stream",
       "stream": "stdout",
       "text": [
        "state              26\n",
        "county            093\n",
        "tract          741100\n",
        "block group         2\n",
        "dtype: object\n",
        "Drawing 394 households"
       ]
      },
      {
       "output_type": "stream",
       "stream": "stdout",
       "text": [
        "\n",
        "Synthesizing geog id:\n"
       ]
      },
      {
       "output_type": "stream",
       "stream": "stdout",
       "text": [
        "state              26\n",
        "county            093\n",
        "tract          741601\n",
        "block group         1\n",
        "dtype: object\n",
        "Drawing 316 households"
       ]
      },
      {
       "output_type": "stream",
       "stream": "stdout",
       "text": [
        "\n",
        "Synthesizing geog id:\n"
       ]
      },
      {
       "output_type": "stream",
       "stream": "stdout",
       "text": [
        "state              26\n",
        "county            093\n",
        "tract          741601\n",
        "block group         2\n",
        "dtype: object\n",
        "Drawing 673 households"
       ]
      },
      {
       "output_type": "stream",
       "stream": "stdout",
       "text": [
        "\n",
        "Synthesizing geog id:\n"
       ]
      },
      {
       "output_type": "stream",
       "stream": "stdout",
       "text": [
        "state              26\n",
        "county            093\n",
        "tract          741602\n",
        "block group         1\n",
        "dtype: object\n",
        "Drawing 1117 households"
       ]
      },
      {
       "output_type": "stream",
       "stream": "stdout",
       "text": [
        "\n",
        "Synthesizing geog id:\n"
       ]
      },
      {
       "output_type": "stream",
       "stream": "stdout",
       "text": [
        "state              26\n",
        "county            093\n",
        "tract          741602\n",
        "block group         2\n",
        "dtype: object\n",
        "Drawing 386 households"
       ]
      },
      {
       "output_type": "stream",
       "stream": "stdout",
       "text": [
        "\n",
        "Synthesizing geog id:\n"
       ]
      },
      {
       "output_type": "stream",
       "stream": "stdout",
       "text": [
        "state              26\n",
        "county            093\n",
        "tract          742201\n",
        "block group         1\n",
        "dtype: object\n",
        "Drawing 560 households"
       ]
      },
      {
       "output_type": "stream",
       "stream": "stdout",
       "text": [
        "\n",
        "Synthesizing geog id:\n"
       ]
      },
      {
       "output_type": "stream",
       "stream": "stdout",
       "text": [
        "state              26\n",
        "county            093\n",
        "tract          742201\n",
        "block group         2\n",
        "dtype: object\n",
        "Drawing 624 households"
       ]
      },
      {
       "output_type": "stream",
       "stream": "stdout",
       "text": [
        "\n",
        "Synthesizing geog id:\n"
       ]
      },
      {
       "output_type": "stream",
       "stream": "stdout",
       "text": [
        "state              26\n",
        "county            093\n",
        "tract          742202\n",
        "block group         1\n",
        "dtype: object\n",
        "Drawing 474 households"
       ]
      },
      {
       "output_type": "stream",
       "stream": "stdout",
       "text": [
        "\n",
        "Synthesizing geog id:\n"
       ]
      },
      {
       "output_type": "stream",
       "stream": "stdout",
       "text": [
        "state              26\n",
        "county            093\n",
        "tract          742202\n",
        "block group         2\n",
        "dtype: object\n",
        "Drawing 515 households"
       ]
      },
      {
       "output_type": "stream",
       "stream": "stdout",
       "text": [
        "\n",
        "Synthesizing geog id:\n"
       ]
      },
      {
       "output_type": "stream",
       "stream": "stdout",
       "text": [
        "state              26\n",
        "county            093\n",
        "tract          742401\n",
        "block group         1\n",
        "dtype: object\n",
        "Drawing 440 households"
       ]
      },
      {
       "output_type": "stream",
       "stream": "stdout",
       "text": [
        "\n",
        "Synthesizing geog id:\n"
       ]
      },
      {
       "output_type": "stream",
       "stream": "stdout",
       "text": [
        "state              26\n",
        "county            093\n",
        "tract          742402\n",
        "block group         1\n",
        "dtype: object\n",
        "Drawing 612 households"
       ]
      },
      {
       "output_type": "stream",
       "stream": "stdout",
       "text": [
        "\n",
        "Synthesizing geog id:\n"
       ]
      },
      {
       "output_type": "stream",
       "stream": "stdout",
       "text": [
        "state              26\n",
        "county            093\n",
        "tract          742402\n",
        "block group         2\n",
        "dtype: object\n",
        "Drawing 1072 households"
       ]
      },
      {
       "output_type": "stream",
       "stream": "stdout",
       "text": [
        "\n",
        "Synthesizing geog id:\n"
       ]
      },
      {
       "output_type": "stream",
       "stream": "stdout",
       "text": [
        "state              26\n",
        "county            093\n",
        "tract          742500\n",
        "block group         1\n",
        "dtype: object\n",
        "Drawing 393 households"
       ]
      },
      {
       "output_type": "stream",
       "stream": "stdout",
       "text": [
        "\n",
        "Synthesizing geog id:\n"
       ]
      },
      {
       "output_type": "stream",
       "stream": "stdout",
       "text": [
        "state              26\n",
        "county            093\n",
        "tract          742500\n",
        "block group         2\n",
        "dtype: object\n",
        "Drawing 435 households"
       ]
      },
      {
       "output_type": "stream",
       "stream": "stdout",
       "text": [
        "\n",
        "Synthesizing geog id:\n"
       ]
      },
      {
       "output_type": "stream",
       "stream": "stdout",
       "text": [
        "state              26\n",
        "county            093\n",
        "tract          742700\n",
        "block group         1\n",
        "dtype: object\n",
        "Drawing 881 households"
       ]
      },
      {
       "output_type": "stream",
       "stream": "stdout",
       "text": [
        "\n",
        "Synthesizing geog id:\n"
       ]
      },
      {
       "output_type": "stream",
       "stream": "stdout",
       "text": [
        "state              26\n",
        "county            093\n",
        "tract          742700\n",
        "block group         2\n",
        "dtype: object\n",
        "Drawing 546 households"
       ]
      },
      {
       "output_type": "stream",
       "stream": "stdout",
       "text": [
        "\n",
        "Synthesizing geog id:\n"
       ]
      },
      {
       "output_type": "stream",
       "stream": "stdout",
       "text": [
        "state              26\n",
        "county            093\n",
        "tract          742900\n",
        "block group         1\n",
        "dtype: object\n",
        "Drawing 240 households"
       ]
      },
      {
       "output_type": "stream",
       "stream": "stdout",
       "text": [
        "\n",
        "Synthesizing geog id:\n"
       ]
      },
      {
       "output_type": "stream",
       "stream": "stdout",
       "text": [
        "state              26\n",
        "county            093\n",
        "tract          742900\n",
        "block group         2\n",
        "dtype: object\n",
        "Drawing 526 households"
       ]
      },
      {
       "output_type": "stream",
       "stream": "stdout",
       "text": [
        "\n",
        "Synthesizing geog id:\n"
       ]
      },
      {
       "output_type": "stream",
       "stream": "stdout",
       "text": [
        "state              26\n",
        "county            093\n",
        "tract          742900\n",
        "block group         3\n",
        "dtype: object\n",
        "Drawing 544 households"
       ]
      },
      {
       "output_type": "stream",
       "stream": "stdout",
       "text": [
        "\n",
        "Synthesizing geog id:\n"
       ]
      },
      {
       "output_type": "stream",
       "stream": "stdout",
       "text": [
        "state              26\n",
        "county            093\n",
        "tract          743300\n",
        "block group         1\n",
        "dtype: object\n",
        "Drawing 563 households"
       ]
      },
      {
       "output_type": "stream",
       "stream": "stdout",
       "text": [
        "\n",
        "Synthesizing geog id:\n"
       ]
      },
      {
       "output_type": "stream",
       "stream": "stdout",
       "text": [
        "state              26\n",
        "county            093\n",
        "tract          743300\n",
        "block group         2\n",
        "dtype: object\n",
        "Drawing 333 households"
       ]
      },
      {
       "output_type": "stream",
       "stream": "stdout",
       "text": [
        "\n",
        "Synthesizing geog id:\n"
       ]
      },
      {
       "output_type": "stream",
       "stream": "stdout",
       "text": [
        "state              26\n",
        "county            093\n",
        "tract          743400\n",
        "block group         1\n",
        "dtype: object\n",
        "Drawing 874 households"
       ]
      },
      {
       "output_type": "stream",
       "stream": "stdout",
       "text": [
        "\n",
        "Synthesizing geog id:\n"
       ]
      },
      {
       "output_type": "stream",
       "stream": "stdout",
       "text": [
        "state              26\n",
        "county            093\n",
        "tract          743400\n",
        "block group         2\n",
        "dtype: object\n",
        "Drawing 463 households"
       ]
      },
      {
       "output_type": "stream",
       "stream": "stdout",
       "text": [
        "\n",
        "Synthesizing geog id:\n"
       ]
      },
      {
       "output_type": "stream",
       "stream": "stdout",
       "text": [
        "state              26\n",
        "county            093\n",
        "tract          743500\n",
        "block group         1\n",
        "dtype: object\n",
        "Drawing 682 households"
       ]
      },
      {
       "output_type": "stream",
       "stream": "stdout",
       "text": [
        "\n",
        "Synthesizing geog id:\n"
       ]
      },
      {
       "output_type": "stream",
       "stream": "stdout",
       "text": [
        "state              26\n",
        "county            093\n",
        "tract          743600\n",
        "block group         1\n",
        "dtype: object\n",
        "Drawing 240 households"
       ]
      },
      {
       "output_type": "stream",
       "stream": "stdout",
       "text": [
        "\n",
        "Synthesizing geog id:\n"
       ]
      },
      {
       "output_type": "stream",
       "stream": "stdout",
       "text": [
        "state              26\n",
        "county            093\n",
        "tract          743600\n",
        "block group         2\n",
        "dtype: object\n",
        "Drawing 845 households"
       ]
      },
      {
       "output_type": "stream",
       "stream": "stdout",
       "text": [
        "\n",
        "Synthesizing geog id:\n"
       ]
      },
      {
       "output_type": "stream",
       "stream": "stdout",
       "text": [
        "state              26\n",
        "county            093\n",
        "tract          743700\n",
        "block group         1\n",
        "dtype: object\n",
        "Drawing 383 households"
       ]
      },
      {
       "output_type": "stream",
       "stream": "stdout",
       "text": [
        "\n",
        "Synthesizing geog id:\n"
       ]
      },
      {
       "output_type": "stream",
       "stream": "stdout",
       "text": [
        "state              26\n",
        "county            093\n",
        "tract          743700\n",
        "block group         2\n",
        "dtype: object\n",
        "Drawing 682 households"
       ]
      },
      {
       "output_type": "stream",
       "stream": "stdout",
       "text": [
        "\n",
        "Synthesizing geog id:\n"
       ]
      },
      {
       "output_type": "stream",
       "stream": "stdout",
       "text": [
        "state              26\n",
        "county            093\n",
        "tract          743800\n",
        "block group         1\n",
        "dtype: object\n",
        "Drawing 601 households"
       ]
      },
      {
       "output_type": "stream",
       "stream": "stdout",
       "text": [
        "\n",
        "Synthesizing geog id:\n"
       ]
      },
      {
       "output_type": "stream",
       "stream": "stdout",
       "text": [
        "state              26\n",
        "county            093\n",
        "tract          743800\n",
        "block group         2\n",
        "dtype: object\n",
        "Drawing 435 households"
       ]
      },
      {
       "output_type": "stream",
       "stream": "stdout",
       "text": [
        "\n",
        "Synthesizing geog id:\n"
       ]
      },
      {
       "output_type": "stream",
       "stream": "stdout",
       "text": [
        "state              26\n",
        "county            093\n",
        "tract          743800\n",
        "block group         3\n",
        "dtype: object\n",
        "Drawing 249 households"
       ]
      },
      {
       "output_type": "stream",
       "stream": "stdout",
       "text": [
        "\n",
        "Synthesizing geog id:\n"
       ]
      },
      {
       "output_type": "stream",
       "stream": "stdout",
       "text": [
        "state              26\n",
        "county            093\n",
        "tract          743800\n",
        "block group         4\n",
        "dtype: object\n",
        "Drawing 213 households"
       ]
      },
      {
       "output_type": "stream",
       "stream": "stdout",
       "text": [
        "\n",
        "Synthesizing geog id:\n"
       ]
      },
      {
       "output_type": "stream",
       "stream": "stdout",
       "text": [
        "state              26\n",
        "county            093\n",
        "tract          743900\n",
        "block group         1\n",
        "dtype: object\n",
        "Drawing 351 households"
       ]
      },
      {
       "output_type": "stream",
       "stream": "stdout",
       "text": [
        "\n",
        "Synthesizing geog id:\n"
       ]
      },
      {
       "output_type": "stream",
       "stream": "stdout",
       "text": [
        "state              26\n",
        "county            093\n",
        "tract          743900\n",
        "block group         2\n",
        "dtype: object\n",
        "Drawing 1037 households"
       ]
      },
      {
       "output_type": "stream",
       "stream": "stdout",
       "text": [
        "\n",
        "Synthesizing geog id:\n"
       ]
      },
      {
       "output_type": "stream",
       "stream": "stdout",
       "text": [
        "state              26\n",
        "county            093\n",
        "tract          744200\n",
        "block group         1\n",
        "dtype: object\n",
        "Drawing 551 households"
       ]
      },
      {
       "output_type": "stream",
       "stream": "stdout",
       "text": [
        "\n",
        "Synthesizing geog id:\n"
       ]
      },
      {
       "output_type": "stream",
       "stream": "stdout",
       "text": [
        "state              26\n",
        "county            093\n",
        "tract          744200\n",
        "block group         2\n",
        "dtype: object\n",
        "Drawing 820 households"
       ]
      },
      {
       "output_type": "stream",
       "stream": "stdout",
       "text": [
        "\n",
        "Synthesizing geog id:\n"
       ]
      },
      {
       "output_type": "stream",
       "stream": "stdout",
       "text": [
        "state              26\n",
        "county            093\n",
        "tract          744400\n",
        "block group         1\n",
        "dtype: object\n",
        "Drawing 389 households"
       ]
      },
      {
       "output_type": "stream",
       "stream": "stdout",
       "text": [
        "\n",
        "Synthesizing geog id:\n"
       ]
      },
      {
       "output_type": "stream",
       "stream": "stdout",
       "text": [
        "state              26\n",
        "county            093\n",
        "tract          744400\n",
        "block group         2\n",
        "dtype: object\n",
        "Drawing 419 households"
       ]
      },
      {
       "output_type": "stream",
       "stream": "stdout",
       "text": [
        "\n",
        "Synthesizing geog id:\n"
       ]
      },
      {
       "output_type": "stream",
       "stream": "stdout",
       "text": [
        "state              26\n",
        "county            093\n",
        "tract          744600\n",
        "block group         1\n",
        "dtype: object\n",
        "Drawing 536 households"
       ]
      },
      {
       "output_type": "stream",
       "stream": "stdout",
       "text": [
        "\n",
        "Synthesizing geog id:\n"
       ]
      },
      {
       "output_type": "stream",
       "stream": "stdout",
       "text": [
        "state              26\n",
        "county            093\n",
        "tract          744600\n",
        "block group         2\n",
        "dtype: object\n",
        "Drawing 83 households"
       ]
      },
      {
       "output_type": "stream",
       "stream": "stdout",
       "text": [
        "\n",
        "Synthesizing geog id:\n"
       ]
      },
      {
       "output_type": "stream",
       "stream": "stdout",
       "text": [
        "state              26\n",
        "county            093\n",
        "tract          744700\n",
        "block group         1\n",
        "dtype: object\n",
        "Drawing 309 households"
       ]
      },
      {
       "output_type": "stream",
       "stream": "stdout",
       "text": [
        "\n",
        "Synthesizing geog id:\n"
       ]
      },
      {
       "output_type": "stream",
       "stream": "stdout",
       "text": [
        "state              26\n",
        "county            093\n",
        "tract          744700\n",
        "block group         2\n",
        "dtype: object\n",
        "Drawing 1006 households"
       ]
      },
      {
       "output_type": "stream",
       "stream": "stdout",
       "text": [
        "\n",
        "Synthesizing geog id:\n"
       ]
      },
      {
       "output_type": "stream",
       "stream": "stdout",
       "text": [
        "state              26\n",
        "county            093\n",
        "tract          744800\n",
        "block group         1\n",
        "dtype: object\n",
        "Drawing 828 households"
       ]
      },
      {
       "output_type": "stream",
       "stream": "stdout",
       "text": [
        "\n",
        "Synthesizing geog id:\n"
       ]
      },
      {
       "output_type": "stream",
       "stream": "stdout",
       "text": [
        "state              26\n",
        "county            093\n",
        "tract          744800\n",
        "block group         2\n",
        "dtype: object\n",
        "Drawing 641 households"
       ]
      },
      {
       "output_type": "stream",
       "stream": "stdout",
       "text": [
        "\n",
        "Synthesizing geog id:\n"
       ]
      },
      {
       "output_type": "stream",
       "stream": "stdout",
       "text": [
        "state              26\n",
        "county            093\n",
        "tract          744900\n",
        "block group         1\n",
        "dtype: object\n",
        "Drawing 1110 households"
       ]
      },
      {
       "output_type": "stream",
       "stream": "stdout",
       "text": [
        "\n",
        "9145.04408288"
       ]
      },
      {
       "output_type": "stream",
       "stream": "stdout",
       "text": [
        "\n",
        "{BlockGroupID(state=u'26', county=u'093', tract=u'724003', block_group=u'1'): FitQuality(people_chisq=31.979395994409607, people_p=0.19380367976932936), BlockGroupID(state=u'26', county=u'093', tract=u'742402', block_group=u'1'): FitQuality(people_chisq=66.556847091222878, people_p=2.2766644581882727e-06), BlockGroupID(state=u'26', county=u'093', tract=u'743900', block_group=u'2'): FitQuality(people_chisq=59.783387316260416, people_p=0.0056291653576905562), BlockGroupID(state=u'26', county=u'093', tract=u'732100', block_group=u'3'): FitQuality(people_chisq=43.016161015475589, people_p=0.019238407766093556), BlockGroupID(state=u'26', county=u'093', tract=u'733100', block_group=u'2'): FitQuality(people_chisq=58.283266972968022, people_p=4.9637927437410355e-07), BlockGroupID(state=u'26', county=u'093', tract=u'725000', block_group=u'3'): FitQuality(people_chisq=160.6111885792364, people_p=6.3255561239953803e-25), BlockGroupID(state=u'26', county=u'093', tract=u'740800', block_group=u'3'): FitQuality(people_chisq=54.246765630941148, people_p=0.00024764431649192104), BlockGroupID(state=u'26', county=u'093', tract=u'725100', block_group=u'2'): FitQuality(people_chisq=35.79529817107651, people_p=0.023051159105110457), BlockGroupID(state=u'26', county=u'093', tract=u'742201', block_group=u'1'): FitQuality(people_chisq=62.509384050903044, people_p=5.287795821690245e-06), BlockGroupID(state=u'26', county=u'093', tract=u'722300', block_group=u'2'): FitQuality(people_chisq=164.4614739608952, people_p=3.0108756336081498e-24), BlockGroupID(state=u'26', county=u'093', tract=u'742402', block_group=u'2'): FitQuality(people_chisq=123.75018279403398, people_p=1.4588340947175132e-16), BlockGroupID(state=u'26', county=u'093', tract=u'740500', block_group=u'1'): FitQuality(people_chisq=42.100489210797392, people_p=0.0088367853184977089), BlockGroupID(state=u'26', county=u'093', tract=u'743400', block_group=u'2'): FitQuality(people_chisq=54.493368105207551, people_p=0.00014012633161633253), BlockGroupID(state=u'26', county=u'093', tract=u'710300', block_group=u'2'): FitQuality(people_chisq=61.279938536040873, people_p=0.0028087690308362004), BlockGroupID(state=u'26', county=u'093', tract=u'733100', block_group=u'1'): FitQuality(people_chisq=33.593267281434308, people_p=0.020513892672465561), BlockGroupID(state=u'26', county=u'093', tract=u'725000', block_group=u'2'): FitQuality(people_chisq=122.04989515792217, people_p=3.8158779361172231e-12), BlockGroupID(state=u'26', county=u'093', tract=u'740600', block_group=u'1'): FitQuality(people_chisq=39.956043330705334, people_p=0.00079017758400181119), BlockGroupID(state=u'26', county=u'093', tract=u'743300', block_group=u'2'): FitQuality(people_chisq=22.929711816684467, people_p=0.018082885603116574), BlockGroupID(state=u'26', county=u'093', tract=u'742500', block_group=u'2'): FitQuality(people_chisq=38.255153839202677, people_p=2.7098115012267041e-06), BlockGroupID(state=u'26', county=u'093', tract=u'725100', block_group=u'3'): FitQuality(people_chisq=111.27630560591341, people_p=2.0543752902567843e-10), BlockGroupID(state=u'26', county=u'093', tract=u'743700', block_group=u'1'): FitQuality(people_chisq=23.500607637664849, people_p=0.0013939190621647874), BlockGroupID(state=u'26', county=u'093', tract=u'742202', block_group=u'1'): FitQuality(people_chisq=83.984151618703933, people_p=2.6750505381771345e-08), BlockGroupID(state=u'26', county=u'093', tract=u'733601', block_group=u'2'): FitQuality(people_chisq=11.309372516105865, people_p=0.41772084491236555), BlockGroupID(state=u'26', county=u'093', tract=u'740300', block_group=u'1'): FitQuality(people_chisq=38.664950560176699, people_p=0.0012154476474256972), BlockGroupID(state=u'26', county=u'093', tract=u'740200', block_group=u'2'): FitQuality(people_chisq=26.320821734501802, people_p=0.092645497661505538), BlockGroupID(state=u'26', county=u'093', tract=u'713500', block_group=u'1'): FitQuality(people_chisq=22.728604007058188, people_p=0.045050814344504996), BlockGroupID(state=u'26', county=u'093', tract=u'711000', block_group=u'1'): FitQuality(people_chisq=43.746997985799915, people_p=0.0081631359995189851), BlockGroupID(state=u'26', county=u'093', tract=u'742500', block_group=u'1'): FitQuality(people_chisq=32.304274657356338, people_p=3.5665328327371142e-05), BlockGroupID(state=u'26', county=u'093', tract=u'730600', block_group=u'2'): FitQuality(people_chisq=31.65879051456691, people_p=0.0044780810743814117), BlockGroupID(state=u'26', county=u'093', tract=u'725000', block_group=u'4'): FitQuality(people_chisq=30.873955167096856, people_p=0.0091323464733234216), BlockGroupID(state=u'26', county=u'093', tract=u'742900', block_group=u'3'): FitQuality(people_chisq=26.578264467110742, people_p=0.0053188010417493832), BlockGroupID(state=u'26', county=u'093', tract=u'744700', block_group=u'2'): FitQuality(people_chisq=36.811121144668661, people_p=0.0083777341818936993), BlockGroupID(state=u'26', county=u'093', tract=u'713100', block_group=u'1'): FitQuality(people_chisq=71.242186575973165, people_p=2.0463397590671927e-05), BlockGroupID(state=u'26', county=u'093', tract=u'744800', block_group=u'1'): FitQuality(people_chisq=84.044427868601872, people_p=2.4551156646703542e-06), BlockGroupID(state=u'26', county=u'093', tract=u'741602', block_group=u'2'): FitQuality(people_chisq=37.70405874544015, people_p=4.2726772916477745e-05), BlockGroupID(state=u'26', county=u'093', tract=u'731100', block_group=u'2'): FitQuality(people_chisq=72.370912314360808, people_p=1.4269160729923728e-05), BlockGroupID(state=u'26', county=u'093', tract=u'730102', block_group=u'1'): FitQuality(people_chisq=71.833520807397079, people_p=2.7466915722122002e-05), BlockGroupID(state=u'26', county=u'093', tract=u'743400', block_group=u'1'): FitQuality(people_chisq=42.044556154849495, people_p=0.11019730586957305), BlockGroupID(state=u'26', county=u'093', tract=u'743300', block_group=u'1'): FitQuality(people_chisq=39.564545974297232, people_p=0.091312506294866272), BlockGroupID(state=u'26', county=u'093', tract=u'743800', block_group=u'1'): FitQuality(people_chisq=52.583295123402621, people_p=4.5220576923968711e-06), BlockGroupID(state=u'26', county=u'093', tract=u'744800', block_group=u'2'): FitQuality(people_chisq=47.375942346614309, people_p=3.2046882633460451e-05), BlockGroupID(state=u'26', county=u'093', tract=u'740600', block_group=u'2'): FitQuality(people_chisq=29.695826145461933, people_p=0.013066835001839663), BlockGroupID(state=u'26', county=u'093', tract=u'744400', block_group=u'2'): FitQuality(people_chisq=30.229746306997868, people_p=0.04894636302320908), BlockGroupID(state=u'26', county=u'093', tract=u'741601', block_group=u'1'): FitQuality(people_chisq=24.105779870312606, people_p=0.001091581513800275), BlockGroupID(state=u'26', county=u'093', tract=u'722100', block_group=u'2'): FitQuality(people_chisq=16.260658784311971, people_p=0.29771669927504624), BlockGroupID(state=u'26', county=u'093', tract=u'743700', block_group=u'2'): FitQuality(people_chisq=40.895415813589516, people_p=0.0038421305683900425), BlockGroupID(state=u'26', county=u'093', tract=u'712101', block_group=u'1'): FitQuality(people_chisq=44.079254822159378, people_p=0.027286885587349794), BlockGroupID(state=u'26', county=u'093', tract=u'712602', block_group=u'1'): FitQuality(people_chisq=99.847257239388711, people_p=4.8899026760923524e-06), BlockGroupID(state=u'26', county=u'093', tract=u'740200', block_group=u'1'): FitQuality(people_chisq=93.64173798607186, people_p=1.9201421545994852e-05), BlockGroupID(state=u'26', county=u'093', tract=u'742900', block_group=u'1'): FitQuality(people_chisq=27.071226322679774, people_p=0.012164608033554843), BlockGroupID(state=u'26', county=u'093', tract=u'733601', block_group=u'1'): FitQuality(people_chisq=35.893664454315733, people_p=0.073228881998282966), BlockGroupID(state=u'26', county=u'093', tract=u'743900', block_group=u'1'): FitQuality(people_chisq=17.719512321688541, people_p=0.013301676531742806), BlockGroupID(state=u'26', county=u'093', tract=u'710300', block_group=u'1'): FitQuality(people_chisq=73.518763602957165, people_p=3.4822843935488512e-06), BlockGroupID(state=u'26', county=u'093', tract=u'740800', block_group=u'2'): FitQuality(people_chisq=32.898924699353216, people_p=0.10622417191316465), BlockGroupID(state=u'26', county=u'093', tract=u'742700', block_group=u'2'): FitQuality(people_chisq=50.317743893541163, people_p=0.0028806230248597229), BlockGroupID(state=u'26', county=u'093', tract=u'711000', block_group=u'2'): FitQuality(people_chisq=40.181846176742098, people_p=0.014663230510560449), BlockGroupID(state=u'26', county=u'093', tract=u'743500', block_group=u'1'): FitQuality(people_chisq=33.585703829193811, people_p=0.054096418344593569), BlockGroupID(state=u'26', county=u'093', tract=u'724002', block_group=u'1'): FitQuality(people_chisq=28.96074237149594, people_p=0.18161492372720275), BlockGroupID(state=u'26', county=u'093', tract=u'744600', block_group=u'2'): FitQuality(people_chisq=53.737348793933741, people_p=0.00046198980884384509), BlockGroupID(state=u'26', county=u'093', tract=u'741601', block_group=u'2'): FitQuality(people_chisq=145.02153476354897, people_p=7.4604589277449259e-23), BlockGroupID(state=u'26', county=u'093', tract=u'730600', block_group=u'1'): FitQuality(people_chisq=43.827721913167622, people_p=0.038104948259293239), BlockGroupID(state=u'26', county=u'093', tract=u'712601', block_group=u'2'): FitQuality(people_chisq=178.75491416201646, people_p=4.4647227210877892e-26), BlockGroupID(state=u'26', county=u'093', tract=u'712601', block_group=u'1'): FitQuality(people_chisq=19.061245794837639, people_p=0.007997631463274436), BlockGroupID(state=u'26', county=u'093', tract=u'744200', block_group=u'2'): FitQuality(people_chisq=37.712506993313234, people_p=0.34624447247992407), BlockGroupID(state=u'26', county=u'093', tract=u'742401', block_group=u'1'): FitQuality(people_chisq=183.57695516943039, people_p=2.7789001031412255e-20), BlockGroupID(state=u'26', county=u'093', tract=u'713100', block_group=u'2'): FitQuality(people_chisq=32.497083540432747, people_p=0.11513748543230067), BlockGroupID(state=u'26', county=u'093', tract=u'743800', block_group=u'3'): FitQuality(people_chisq=23.889464050872046, people_p=0.2004266011032633), BlockGroupID(state=u'26', county=u'093', tract=u'710700', block_group=u'1'): FitQuality(people_chisq=44.226138850949027, people_p=0.0014034328603620588), BlockGroupID(state=u'26', county=u'093', tract=u'725100', block_group=u'4'): FitQuality(people_chisq=181.11655433862975, people_p=5.5525616836693627e-22), BlockGroupID(state=u'26', county=u'093', tract=u'724001', block_group=u'1'): FitQuality(people_chisq=58.20329737610524, people_p=2.3794756171434811e-05), BlockGroupID(state=u'26', county=u'093', tract=u'733601', block_group=u'3'): FitQuality(people_chisq=20.69040861086842, people_p=0.10983335046818465), BlockGroupID(state=u'26', county=u'093', tract=u'731100', block_group=u'1'): FitQuality(people_chisq=17.32391916954543, people_p=0.50095066521679121), BlockGroupID(state=u'26', county=u'093', tract=u'743800', block_group=u'2'): FitQuality(people_chisq=30.298041928189924, people_p=0.010891021401114212), BlockGroupID(state=u'26', county=u'093', tract=u'740700', block_group=u'2'): FitQuality(people_chisq=32.414550072822472, people_p=0.053125594252989371), BlockGroupID(state=u'26', county=u'093', tract=u'713300', block_group=u'1'): FitQuality(people_chisq=49.002155935077518, people_p=0.0028233262533470939), BlockGroupID(state=u'26', county=u'093', tract=u'722300', block_group=u'1'): FitQuality(people_chisq=26.495019335404155, people_p=0.0145772611340597), BlockGroupID(state=u'26', county=u'093', tract=u'741100', block_group=u'2'): FitQuality(people_chisq=39.718532761215087, people_p=0.00050003934520705682), BlockGroupID(state=u'26', county=u'093', tract=u'722100', block_group=u'1'): FitQuality(people_chisq=30.956915305894867, people_p=0.0034208629395133519), BlockGroupID(state=u'26', county=u'093', tract=u'740700', block_group=u'1'): FitQuality(people_chisq=58.306245351711169, people_p=0.00066717824924963042), BlockGroupID(state=u'26', county=u'093', tract=u'720100', block_group=u'2'): FitQuality(people_chisq=45.070524203712395, people_p=0.021702108625097236), BlockGroupID(state=u'26', county=u'093', tract=u'744600', block_group=u'1'): FitQuality(people_chisq=36.93643835665641, people_p=0.12026889693940905), BlockGroupID(state=u'26', county=u'093', tract=u'733602', block_group=u'2'): FitQuality(people_chisq=58.534214353526913, people_p=4.4974513320078523e-07), BlockGroupID(state=u'26', county=u'093', tract=u'742700', block_group=u'1'): FitQuality(people_chisq=71.066890808638149, people_p=0.00043914877527937958), BlockGroupID(state=u'26', county=u'093', tract=u'744200', block_group=u'1'): FitQuality(people_chisq=20.910256918778895, people_p=0.10395447181143547), BlockGroupID(state=u'26', county=u'093', tract=u'743600', block_group=u'2'): FitQuality(people_chisq=49.02977308827861, people_p=0.027583153294920046), BlockGroupID(state=u'26', county=u'093', tract=u'740900', block_group=u'1'): FitQuality(people_chisq=77.191692921294603, people_p=7.8839569323950283e-05), BlockGroupID(state=u'26', county=u'093', tract=u'743800', block_group=u'4'): FitQuality(people_chisq=46.801486079232404, people_p=6.1024127589239782e-08), BlockGroupID(state=u'26', county=u'093', tract=u'720100', block_group=u'1'): FitQuality(people_chisq=67.654708847201462, people_p=1.5390081162268759e-06), BlockGroupID(state=u'26', county=u'093', tract=u'721100', block_group=u'1'): FitQuality(people_chisq=15.876455341309134, people_p=0.32097714103019132), BlockGroupID(state=u'26', county=u'093', tract=u'742201', block_group=u'2'): FitQuality(people_chisq=52.31330637104417, people_p=0.0050288753316572003), BlockGroupID(state=u'26', county=u'093', tract=u'740500', block_group=u'2'): FitQuality(people_chisq=32.736802888541433, people_p=2.9638619088845272e-05), BlockGroupID(state=u'26', county=u'093', tract=u'743600', block_group=u'1'): FitQuality(people_chisq=65.297970263596099, people_p=3.0296371089804006e-08), BlockGroupID(state=u'26', county=u'093', tract=u'742900', block_group=u'2'): FitQuality(people_chisq=44.580510214970872, people_p=8.9158053134447731e-05), BlockGroupID(state=u'26', county=u'093', tract=u'744700', block_group=u'1'): FitQuality(people_chisq=45.163459665011516, people_p=7.2154481106006881e-05), BlockGroupID(state=u'26', county=u'093', tract=u'732100', block_group=u'1'): FitQuality(people_chisq=43.762270257909371, people_p=0.0037973106581535472), BlockGroupID(state=u'26', county=u'093', tract=u'730101', block_group=u'1'): FitQuality(people_chisq=82.373919033620993, people_p=8.9529206887421122e-07), BlockGroupID(state=u'26', county=u'093', tract=u'725000', block_group=u'1'): FitQuality(people_chisq=56.683501355777729, people_p=4.4379003264399205e-07), BlockGroupID(state=u'26', county=u'093', tract=u'713700', block_group=u'1'): FitQuality(people_chisq=55.954089260831076, people_p=0.013712168022104943), BlockGroupID(state=u'26', county=u'093', tract=u'721100', block_group=u'2'): FitQuality(people_chisq=67.13847926053414, people_p=1.7152972494261028e-05), BlockGroupID(state=u'26', county=u'093', tract=u'740800', block_group=u'1'): FitQuality(people_chisq=30.683544416588724, people_p=7.110874512348342e-05), BlockGroupID(state=u'26', county=u'093', tract=u'741100', block_group=u'1'): FitQuality(people_chisq=345.69012144717703, people_p=7.822386060289951e-55), BlockGroupID(state=u'26', county=u'093', tract=u'712102', block_group=u'1'): FitQuality(people_chisq=52.720416736660091, people_p=0.035592061345140112), BlockGroupID(state=u'26', county=u'093', tract=u'710100', block_group=u'1'): FitQuality(people_chisq=78.951029453836597, people_p=4.6908660649718129e-08), BlockGroupID(state=u'26', county=u'093', tract=u'741602', block_group=u'1'): FitQuality(people_chisq=69.021871085577445, people_p=9.1991184104410198e-06), BlockGroupID(state=u'26', county=u'093', tract=u'744400', block_group=u'1'): FitQuality(people_chisq=55.854257953259818, people_p=1.2823710189640053e-06), BlockGroupID(state=u'26', county=u'093', tract=u'742202', block_group=u'2'): FitQuality(people_chisq=7.6470875877569249, people_p=0.36473900940886123), BlockGroupID(state=u'26', county=u'093', tract=u'744900', block_group=u'1'): FitQuality(people_chisq=84.92038618219533, people_p=3.7850342244151114e-07), BlockGroupID(state=u'26', county=u'093', tract=u'713500', block_group=u'2'): FitQuality(people_chisq=104.86115490390502, people_p=3.1227349269440222e-10), BlockGroupID(state=u'26', county=u'093', tract=u'732100', block_group=u'2'): FitQuality(people_chisq=25.664394870537524, people_p=0.42567734310261252), BlockGroupID(state=u'26', county=u'093', tract=u'710500', block_group=u'1'): FitQuality(people_chisq=153.90871823575878, people_p=1.118612105142319e-22), BlockGroupID(state=u'26', county=u'093', tract=u'722500', block_group=u'1'): FitQuality(people_chisq=76.058688098260362, people_p=0.00016327172857720225), BlockGroupID(state=u'26', county=u'093', tract=u'733602', block_group=u'1'): FitQuality(people_chisq=45.65081498238284, people_p=6.0411083934392953e-05), BlockGroupID(state=u'26', county=u'093', tract=u'725100', block_group=u'1'): FitQuality(people_chisq=54.681801324609758, people_p=7.706808481499947e-06)}"
       ]
      },
      {
       "output_type": "stream",
       "stream": "stdout",
       "text": [
        "\n"
       ]
      }
     ],
     "prompt_number": 2
    },
    {
     "cell_type": "code",
     "collapsed": false,
     "input": [
      "results[0]"
     ],
     "language": "python",
     "metadata": {},
     "outputs": [
      {
       "ename": "IndexError",
       "evalue": "list index out of range",
       "output_type": "pyerr",
       "traceback": [
        "\u001b[1;31m---------------------------------------------------------------------------\u001b[0m\n\u001b[1;31mIndexError\u001b[0m                                Traceback (most recent call last)",
        "\u001b[1;32m<ipython-input-6-dad7a04bf883>\u001b[0m in \u001b[0;36m<module>\u001b[1;34m()\u001b[0m\n\u001b[1;32m----> 1\u001b[1;33m \u001b[0mresults\u001b[0m\u001b[1;33m[\u001b[0m\u001b[1;36m0\u001b[0m\u001b[1;33m]\u001b[0m\u001b[1;33m\u001b[0m\u001b[0m\n\u001b[0m",
        "\u001b[1;31mIndexError\u001b[0m: list index out of range"
       ]
      }
     ],
     "prompt_number": 6
    },
    {
     "cell_type": "code",
     "collapsed": false,
     "input": [
      "hhs[0][0].describe()"
     ],
     "language": "python",
     "metadata": {},
     "outputs": [
      {
       "html": [
        "<div style=\"max-height:1000px;max-width:1500px;overflow:auto;\">\n",
        "<table border=\"1\" class=\"dataframe\">\n",
        "  <thead>\n",
        "    <tr style=\"text-align: right;\">\n",
        "      <th></th>\n",
        "      <th>serialno</th>\n",
        "      <th>insp</th>\n",
        "      <th>DIVISION</th>\n",
        "      <th>REGION</th>\n",
        "      <th>ADJHSG</th>\n",
        "      <th>ADJINC</th>\n",
        "      <th>WGTP</th>\n",
        "      <th>NP</th>\n",
        "      <th>TYPE</th>\n",
        "      <th>ACR</th>\n",
        "      <th>...</th>\n",
        "      <th>WGTP72</th>\n",
        "      <th>WGTP73</th>\n",
        "      <th>WGTP74</th>\n",
        "      <th>WGTP75</th>\n",
        "      <th>WGTP76</th>\n",
        "      <th>WGTP77</th>\n",
        "      <th>WGTP78</th>\n",
        "      <th>WGTP79</th>\n",
        "      <th>WGTP80</th>\n",
        "      <th>cat_id</th>\n",
        "    </tr>\n",
        "  </thead>\n",
        "  <tbody>\n",
        "    <tr>\n",
        "      <th>count</th>\n",
        "      <td> 1.354510e+05</td>\n",
        "      <td> 88730.000000</td>\n",
        "      <td> 135451</td>\n",
        "      <td> 135451</td>\n",
        "      <td>  135451.000000</td>\n",
        "      <td>  135451.000000</td>\n",
        "      <td> 135451.000000</td>\n",
        "      <td> 135451.000000</td>\n",
        "      <td> 135451</td>\n",
        "      <td> 99522.000000</td>\n",
        "      <td>...</td>\n",
        "      <td> 135451.000000</td>\n",
        "      <td> 135451.000000</td>\n",
        "      <td> 135451.000000</td>\n",
        "      <td> 135451.000000</td>\n",
        "      <td> 135451.000000</td>\n",
        "      <td> 135451.000000</td>\n",
        "      <td> 135451.000000</td>\n",
        "      <td> 135451.000000</td>\n",
        "      <td> 135451.000000</td>\n",
        "      <td> 135451.000000</td>\n",
        "    </tr>\n",
        "    <tr>\n",
        "      <th>mean</th>\n",
        "      <td> 2.010760e+12</td>\n",
        "      <td>   774.319306</td>\n",
        "      <td>      3</td>\n",
        "      <td>      2</td>\n",
        "      <td> 1046336.663790</td>\n",
        "      <td> 1054956.181874</td>\n",
        "      <td>     23.526471</td>\n",
        "      <td>      2.670294</td>\n",
        "      <td>      1</td>\n",
        "      <td>     1.383955</td>\n",
        "      <td>...</td>\n",
        "      <td>     23.664174</td>\n",
        "      <td>     23.694664</td>\n",
        "      <td>     23.649836</td>\n",
        "      <td>     23.544499</td>\n",
        "      <td>     23.607024</td>\n",
        "      <td>     23.244406</td>\n",
        "      <td>     23.348945</td>\n",
        "      <td>     23.571107</td>\n",
        "      <td>     23.613978</td>\n",
        "      <td>     35.733328</td>\n",
        "    </tr>\n",
        "    <tr>\n",
        "      <th>std</th>\n",
        "      <td> 1.382809e+09</td>\n",
        "      <td>   573.831607</td>\n",
        "      <td>      0</td>\n",
        "      <td>      0</td>\n",
        "      <td>   31781.568184</td>\n",
        "      <td>   28665.305359</td>\n",
        "      <td>     15.363932</td>\n",
        "      <td>      1.130766</td>\n",
        "      <td>      0</td>\n",
        "      <td>     0.628470</td>\n",
        "      <td>...</td>\n",
        "      <td>     20.877726</td>\n",
        "      <td>     20.133288</td>\n",
        "      <td>     20.337331</td>\n",
        "      <td>     20.307181</td>\n",
        "      <td>     20.264046</td>\n",
        "      <td>     19.642551</td>\n",
        "      <td>     19.703397</td>\n",
        "      <td>     20.954721</td>\n",
        "      <td>     20.912278</td>\n",
        "      <td>     14.174449</td>\n",
        "    </tr>\n",
        "    <tr>\n",
        "      <th>min</th>\n",
        "      <td> 2.009000e+12</td>\n",
        "      <td>     0.000000</td>\n",
        "      <td>      3</td>\n",
        "      <td>      2</td>\n",
        "      <td> 1000000.000000</td>\n",
        "      <td> 1007549.000000</td>\n",
        "      <td>      1.000000</td>\n",
        "      <td>      1.000000</td>\n",
        "      <td>      1</td>\n",
        "      <td>     1.000000</td>\n",
        "      <td>...</td>\n",
        "      <td>      1.000000</td>\n",
        "      <td>      0.000000</td>\n",
        "      <td>      1.000000</td>\n",
        "      <td>      0.000000</td>\n",
        "      <td>      1.000000</td>\n",
        "      <td>      0.000000</td>\n",
        "      <td>      1.000000</td>\n",
        "      <td>      0.000000</td>\n",
        "      <td>      0.000000</td>\n",
        "      <td>      1.000000</td>\n",
        "    </tr>\n",
        "    <tr>\n",
        "      <th>25%</th>\n",
        "      <td> 2.010000e+12</td>\n",
        "      <td>   480.000000</td>\n",
        "      <td>      3</td>\n",
        "      <td>      2</td>\n",
        "      <td> 1014531.000000</td>\n",
        "      <td> 1024887.000000</td>\n",
        "      <td>     15.000000</td>\n",
        "      <td>      2.000000</td>\n",
        "      <td>      1</td>\n",
        "      <td>     1.000000</td>\n",
        "      <td>...</td>\n",
        "      <td>      9.000000</td>\n",
        "      <td>      9.000000</td>\n",
        "      <td>      9.000000</td>\n",
        "      <td>      9.000000</td>\n",
        "      <td>     10.000000</td>\n",
        "      <td>      9.000000</td>\n",
        "      <td>      9.000000</td>\n",
        "      <td>      9.000000</td>\n",
        "      <td>      9.000000</td>\n",
        "      <td>     26.000000</td>\n",
        "    </tr>\n",
        "    <tr>\n",
        "      <th>50%</th>\n",
        "      <td> 2.011000e+12</td>\n",
        "      <td>   700.000000</td>\n",
        "      <td>      3</td>\n",
        "      <td>      2</td>\n",
        "      <td> 1035725.000000</td>\n",
        "      <td> 1054614.000000</td>\n",
        "      <td>     19.000000</td>\n",
        "      <td>      3.000000</td>\n",
        "      <td>      1</td>\n",
        "      <td>     1.000000</td>\n",
        "      <td>...</td>\n",
        "      <td>     19.000000</td>\n",
        "      <td>     19.000000</td>\n",
        "      <td>     19.000000</td>\n",
        "      <td>     19.000000</td>\n",
        "      <td>     19.000000</td>\n",
        "      <td>     19.000000</td>\n",
        "      <td>     19.000000</td>\n",
        "      <td>     19.000000</td>\n",
        "      <td>     19.000000</td>\n",
        "      <td>     38.000000</td>\n",
        "    </tr>\n",
        "    <tr>\n",
        "      <th>75%</th>\n",
        "      <td> 2.012001e+12</td>\n",
        "      <td>  1000.000000</td>\n",
        "      <td>      3</td>\n",
        "      <td>      2</td>\n",
        "      <td> 1068395.000000</td>\n",
        "      <td> 1076540.000000</td>\n",
        "      <td>     26.000000</td>\n",
        "      <td>      3.000000</td>\n",
        "      <td>      1</td>\n",
        "      <td>     2.000000</td>\n",
        "      <td>...</td>\n",
        "      <td>     30.000000</td>\n",
        "      <td>     31.000000</td>\n",
        "      <td>     31.000000</td>\n",
        "      <td>     30.000000</td>\n",
        "      <td>     30.000000</td>\n",
        "      <td>     29.000000</td>\n",
        "      <td>     30.000000</td>\n",
        "      <td>     29.000000</td>\n",
        "      <td>     30.000000</td>\n",
        "      <td>     48.000000</td>\n",
        "    </tr>\n",
        "    <tr>\n",
        "      <th>max</th>\n",
        "      <td> 2.013001e+12</td>\n",
        "      <td>  4100.000000</td>\n",
        "      <td>      3</td>\n",
        "      <td>      2</td>\n",
        "      <td> 1086032.000000</td>\n",
        "      <td> 1085467.000000</td>\n",
        "      <td>    131.000000</td>\n",
        "      <td>     12.000000</td>\n",
        "      <td>      1</td>\n",
        "      <td>     3.000000</td>\n",
        "      <td>...</td>\n",
        "      <td>    212.000000</td>\n",
        "      <td>    178.000000</td>\n",
        "      <td>    187.000000</td>\n",
        "      <td>    194.000000</td>\n",
        "      <td>    200.000000</td>\n",
        "      <td>    201.000000</td>\n",
        "      <td>    174.000000</td>\n",
        "      <td>    178.000000</td>\n",
        "      <td>    174.000000</td>\n",
        "      <td>     53.000000</td>\n",
        "    </tr>\n",
        "  </tbody>\n",
        "</table>\n",
        "<p>8 rows \u00d7 202 columns</p>\n",
        "</div>"
       ],
       "metadata": {},
       "output_type": "pyout",
       "prompt_number": 13,
       "text": [
        "           serialno          insp  DIVISION  REGION          ADJHSG  \\\n",
        "count  1.354510e+05  88730.000000    135451  135451   135451.000000   \n",
        "mean   2.010760e+12    774.319306         3       2  1046336.663790   \n",
        "std    1.382809e+09    573.831607         0       0    31781.568184   \n",
        "min    2.009000e+12      0.000000         3       2  1000000.000000   \n",
        "25%    2.010000e+12    480.000000         3       2  1014531.000000   \n",
        "50%    2.011000e+12    700.000000         3       2  1035725.000000   \n",
        "75%    2.012001e+12   1000.000000         3       2  1068395.000000   \n",
        "max    2.013001e+12   4100.000000         3       2  1086032.000000   \n",
        "\n",
        "               ADJINC           WGTP             NP    TYPE           ACR  \\\n",
        "count   135451.000000  135451.000000  135451.000000  135451  99522.000000   \n",
        "mean   1054956.181874      23.526471       2.670294       1      1.383955   \n",
        "std      28665.305359      15.363932       1.130766       0      0.628470   \n",
        "min    1007549.000000       1.000000       1.000000       1      1.000000   \n",
        "25%    1024887.000000      15.000000       2.000000       1      1.000000   \n",
        "50%    1054614.000000      19.000000       3.000000       1      1.000000   \n",
        "75%    1076540.000000      26.000000       3.000000       1      2.000000   \n",
        "max    1085467.000000     131.000000      12.000000       1      3.000000   \n",
        "\n",
        "           ...               WGTP72         WGTP73         WGTP74  \\\n",
        "count      ...        135451.000000  135451.000000  135451.000000   \n",
        "mean       ...            23.664174      23.694664      23.649836   \n",
        "std        ...            20.877726      20.133288      20.337331   \n",
        "min        ...             1.000000       0.000000       1.000000   \n",
        "25%        ...             9.000000       9.000000       9.000000   \n",
        "50%        ...            19.000000      19.000000      19.000000   \n",
        "75%        ...            30.000000      31.000000      31.000000   \n",
        "max        ...           212.000000     178.000000     187.000000   \n",
        "\n",
        "              WGTP75         WGTP76         WGTP77         WGTP78  \\\n",
        "count  135451.000000  135451.000000  135451.000000  135451.000000   \n",
        "mean       23.544499      23.607024      23.244406      23.348945   \n",
        "std        20.307181      20.264046      19.642551      19.703397   \n",
        "min         0.000000       1.000000       0.000000       1.000000   \n",
        "25%         9.000000      10.000000       9.000000       9.000000   \n",
        "50%        19.000000      19.000000      19.000000      19.000000   \n",
        "75%        30.000000      30.000000      29.000000      30.000000   \n",
        "max       194.000000     200.000000     201.000000     174.000000   \n",
        "\n",
        "              WGTP79         WGTP80         cat_id  \n",
        "count  135451.000000  135451.000000  135451.000000  \n",
        "mean       23.571107      23.613978      35.733328  \n",
        "std        20.954721      20.912278      14.174449  \n",
        "min         0.000000       0.000000       1.000000  \n",
        "25%         9.000000       9.000000      26.000000  \n",
        "50%        19.000000      19.000000      38.000000  \n",
        "75%        29.000000      30.000000      48.000000  \n",
        "max       178.000000     174.000000      53.000000  \n",
        "\n",
        "[8 rows x 202 columns]"
       ]
      }
     ],
     "prompt_number": 13
    },
    {
     "cell_type": "code",
     "collapsed": false,
     "input": [
      "hhs[0][1].shape"
     ],
     "language": "python",
     "metadata": {},
     "outputs": [
      {
       "metadata": {},
       "output_type": "pyout",
       "prompt_number": 5,
       "text": [
        "(1340413, 300)"
       ]
      }
     ],
     "prompt_number": 5
    },
    {
     "cell_type": "code",
     "collapsed": false,
     "input": [
      "hhs[0][0].shape"
     ],
     "language": "python",
     "metadata": {},
     "outputs": [
      {
       "metadata": {},
       "output_type": "pyout",
       "prompt_number": 4,
       "text": [
        "(485009, 214)"
       ]
      }
     ],
     "prompt_number": 4
    },
    {
     "cell_type": "code",
     "collapsed": false,
     "input": [],
     "language": "python",
     "metadata": {},
     "outputs": []
    }
   ],
   "metadata": {}
  }
 ]
}