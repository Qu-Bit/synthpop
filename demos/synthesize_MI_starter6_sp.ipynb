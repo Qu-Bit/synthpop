{
 "cells": [
  {
   "cell_type": "code",
   "execution_count": 6,
   "metadata": {
    "collapsed": false,
    "scrolled": true,
    "slideshow": {
     "slide_type": "-"
    }
   },
   "outputs": [],
   "source": [
    "%load_ext autoreload\n",
    "%autoreload 2\n",
    "from synthpop.recipes.starter6 import Starter\n",
    "starter_ver='6'\n",
    "\n",
    "from output_verify import output_verify\n",
    "from synthpop.synthesizer import synthesize_all, enable_logging \n",
    "import pandas as pd\n",
    "import os,time\n",
    "import pickle\n",
    "\n",
    "outputfolder='/home/da/tools/synthpop/demos/outputs/'"
   ]
  },
  {
   "cell_type": "code",
   "execution_count": null,
   "metadata": {
    "collapsed": true
   },
   "outputs": [],
   "source": [
    "\n",
    "\n"
   ]
  },
  {
   "cell_type": "markdown",
   "metadata": {},
   "source": [
    "# Synthesize by county "
   ]
  },
  {
   "cell_type": "code",
   "execution_count": null,
   "metadata": {
    "collapsed": false,
    "scrolled": true
   },
   "outputs": [],
   "source": [
    "#for whole county\n",
    "time0=time.time()\n",
    "results=[]\n",
    "\n",
    "def synthesize_counties(counties):\n",
    "\n",
    "    for county in counties:\n",
    "        phases=3\n",
    "        df_check=None\n",
    "        for phase in range(phases):\n",
    "            print \"\\n county = \",county,\" phase = \", phase, \"\\n\"\n",
    "            \n",
    "            pathout=outputfolder+county+\"_starter%s_\"%(starter_ver) #output folder\n",
    "            \n",
    "            starter = Starter(os.environ[\"CENSUS\"], \"MI\", county, phase=phase)\n",
    "            \n",
    "            households, persons, fit, marginals=synthesize_all(starter)\n",
    "\n",
    "            households.index.name='hh_id' #result[0] is hh\n",
    "            #households['serialno'] = households['serialno'].map(lambda x: '%f' % x)\n",
    "            #persons['serialno'] = persons['serialno'].map(lambda x: '%f' % x)\n",
    "            #results[0].to_csv(outputfolder+county+\"_starter%s_\"%('3')+\"HHs.csv\",float_format='%.f') #float_format, not use scentific, pplies to all fp numbers \n",
    "            #could use results['serialno'] = results['serialno'].map(lambda x: '%f' % x) to change output format for serialno only\n",
    "            \n",
    "            #HHs and Persons output\n",
    "            if phase == phases-1:\n",
    "                households.to_csv(pathout+'_households.csv')\n",
    "                persons.to_csv(pathout+'_persons.csv')\n",
    "\n",
    "            df_check=output_verify(households,persons,marginals)\n",
    "            df_check[0].set_index(['cat_value'], append=True,inplace=True)\n",
    "            df_check[1].set_index(['cat_value'], append=True,inplace=True)\n",
    "            df_check[2].set_index(['state','county','tract','block group','cat_name','hh_size'],inplace=True)\n",
    "            for j in range(3):\n",
    "                df_check[j].rename(columns={col:col+\"_\"+str(phase) for col in df_check[j].columns}, inplace=True)\n",
    "            \n",
    "            \n",
    "            if phase == 0:\n",
    "                HH_check, Person_check, HHsize_check = df_check[0] , df_check[1], df_check[2]\n",
    "            else:\n",
    "                HH_check=pd.merge(HH_check, df_check[0], left_index=True, right_index=True, how='left')\n",
    "                Person_check=pd.merge(Person_check, df_check[1], left_index=True, right_index=True, how='left')\n",
    "                HHsize_check=pd.merge(HHsize_check, df_check[2], left_index=True, right_index=True, how='left')\n",
    "\n",
    "            if phase == phases-1:\n",
    "                HH_check.to_csv(pathout+\"_check_households.csv\")\n",
    "                Person_check.to_csv(pathout+\"_check_persons.csv\")\n",
    "                HHsize_check.to_csv(pathout+\"_check_hh_size.csv\")\n",
    "            if phase == 0:\n",
    "                df_check[3].to_csv(\"hh7_persons_drawing.csv\")\n",
    "            if phase == 1:\n",
    "                #df_ttlpersons=pd.DataFrame(data=[totalpersons],columns=['hh_size_person_factor'])\n",
    "                df_check[4].to_csv(\"hh_size_person_factor.csv\")\n",
    "            if phase == 2:\n",
    "                os.rename(\"hh7_persons_drawing.csv\", pathout+\"_hh7_persons_drawing.csv\")\n",
    "                os.rename(\"hh_size_person_factor.csv\", pathout+\"_hh_size_person_factor.csv\")\n",
    "\n",
    "            households,persons,marginals=None, None, None\n",
    "\n",
    "            with open(pathout+'_fit_stats.pkl', 'wb') as f:\n",
    "                pickle.dump(fit, f)\n",
    "            print time.time()-time0\n",
    "    return\n",
    "    #return households, persons, fit, marginals\n",
    "#synthesize_counties([\"Livingston County\",\"Oakland County\",\"Washtenaw County\",\"Wayne County\",\"Monroe County\",\"Macomb County\",\"St. Clair County\"])\n",
    "synthesize_counties([\"St. Clair County\"])\n",
    "print 'total time', time.time()-time0"
   ]
  },
  {
   "cell_type": "code",
   "execution_count": 3,
   "metadata": {
    "collapsed": true
   },
   "outputs": [],
   "source": []
  },
  {
   "cell_type": "markdown",
   "metadata": {
    "collapsed": true
   },
   "source": [
    "# Synthesize by selected BGs"
   ]
  },
  {
   "cell_type": "code",
   "execution_count": 9,
   "metadata": {
    "collapsed": false,
    "scrolled": true
   },
   "outputs": [
    {
     "name": "stdout",
     "output_type": "stream",
     "text": [
      "\n",
      "phase =  0 \n",
      "\n",
      "Synthesizing at geog level: 'block_group' (number of geographies is 627)\n",
      "progress: 0.0% Synthesizing [state, county, tract, block group]: ['26' '099' '232300' '3'] Drawing 6 households\n",
      "progress: 0.2% Synthesizing [state, county, tract, block group]: ['26' '099' '258000' '3'] Drawing 318 households\n",
      "progress: 0.3% Synthesizing [state, county, tract, block group]: ['26' '099' '206700' '1'] Drawing 749 households\n",
      "progress: 0.5% Synthesizing [state, county, tract, block group]: ['26' '099' '210000' '1'] Drawing 722 households\n",
      "progress: 0.6% Synthesizing [state, county, tract, block group]: ['26' '099' '206700' '2'] Drawing 783 households\n",
      "progress: 0.8% Synthesizing [state, county, tract, block group]: ['26' '099' '210000' '2'] Drawing 737 households\n",
      "progress: 1.0% Synthesizing [state, county, tract, block group]: ['26' '099' '211000' '1'] Drawing 722 households\n",
      "progress: 1.1% Synthesizing [state, county, tract, block group]: ['26' '099' '211000' '2'] Drawing 467 households\n",
      "progress: 1.3% Synthesizing [state, county, tract, block group]: ['26' '099' '211000' '3'] Drawing 1178 households\n",
      "\n",
      "phase =  1 \n",
      "\n",
      "Synthesizing at geog level: 'block_group' (number of geographies is 627)\n",
      "progress: 0.0% Synthesizing [state, county, tract, block group]: ['26' '099' '232300' '3'] Drawing 6 households\n",
      "progress: 0.2% Synthesizing [state, county, tract, block group]: ['26' '099' '258000' '3'] Drawing 318 households\n",
      "progress: 0.3% Synthesizing [state, county, tract, block group]: ['26' '099' '206700' '1'] Drawing 749 households\n",
      "progress: 0.5% Synthesizing [state, county, tract, block group]: ['26' '099' '210000' '1'] Drawing 722 households\n",
      "progress: 0.6% Synthesizing [state, county, tract, block group]: ['26' '099' '206700' '2'] Drawing 783 households\n",
      "progress: 0.8% Synthesizing [state, county, tract, block group]: ['26' '099' '210000' '2'] Drawing 737 households\n",
      "progress: 1.0% Synthesizing [state, county, tract, block group]: ['26' '099' '211000' '1'] Drawing 722 households\n",
      "progress: 1.1% Synthesizing [state, county, tract, block group]: ['26' '099' '211000' '2'] Drawing 467 households\n",
      "progress: 1.3% Synthesizing [state, county, tract, block group]: ['26' '099' '211000' '3'] Drawing 1178 households\n",
      "\n",
      "phase =  2 \n",
      "\n",
      "Synthesizing at geog level: 'block_group' (number of geographies is 627)\n",
      "progress: 0.0% Synthesizing [state, county, tract, block group]: ['26' '099' '232300' '3'] Drawing 6 households\n",
      "progress: 0.2% Synthesizing [state, county, tract, block group]: ['26' '099' '258000' '3'] Drawing 318 households\n",
      "progress: 0.3% Synthesizing [state, county, tract, block group]: ['26' '099' '206700' '1'] Drawing 749 households\n",
      "progress: 0.5% Synthesizing [state, county, tract, block group]: ['26' '099' '210000' '1'] Drawing 722 households\n",
      "progress: 0.6% Synthesizing [state, county, tract, block group]: ['26' '099' '206700' '2'] Drawing 783 households\n",
      "progress: 0.8% Synthesizing [state, county, tract, block group]: ['26' '099' '210000' '2'] Drawing 737 households\n",
      "progress: 1.0% Synthesizing [state, county, tract, block group]: ['26' '099' '211000' '1'] Drawing 722 households\n",
      "progress: 1.1% Synthesizing [state, county, tract, block group]: ['26' '099' '211000' '2'] Drawing 467 households\n",
      "progress: 1.3% Synthesizing [state, county, tract, block group]: ['26' '099' '211000' '3'] Drawing 1178 households\n",
      "239.588028908\n"
     ]
    },
    {
     "name": "stderr",
     "output_type": "stream",
     "text": [
      "output_verify.py:60: SettingWithCopyWarning: \n",
      "A value is trying to be set on a copy of a slice from a DataFrame.\n",
      "Try using .loc[row_indexer,col_indexer] = value instead\n",
      "\n",
      "See the caveats in the documentation: http://pandas.pydata.org/pandas-docs/stable/indexing.html#indexing-view-versus-copy\n",
      "  dfhh7size['hh_size_weight_7']=dfhh7size['output_persons']/dfhh7size['output_households']\n"
     ]
    }
   ],
   "source": [
    "###for selected BGs\n",
    "#enable_logging()\n",
    "time0=time.time()\n",
    "geoname=\"problembgs2.csv\"\n",
    "pathout=outputfolder+geoname+\"_starter%s_\"%(starter_ver)\n",
    "\n",
    "dfbg=pd.read_csv(geoname,index_col=None,dtype=str) #make sure csv column in text not number, so read as'099' not 99\n",
    "indd=[ind for i, ind in dfbg.iterrows()]\n",
    "phases=3\n",
    "df_check=None\n",
    "for phase in range(phases):\n",
    "    print \"\\nphase = \", phase, \"\\n\"\n",
    "    starter = Starter(os.environ[\"CENSUS\"], \"MI\", 'Macomb County', phase=phase)\n",
    "\n",
    "    households, persons, fit, marginals = synthesize_all(starter, indexes=indd)\n",
    "    #print fit\n",
    "    \n",
    "    #HHs and Persons output\n",
    "    if phase == phases-1:\n",
    "        households.to_csv(pathout+'_households.csv')\n",
    "        persons.to_csv(pathout+'_persons.csv')\n",
    "    \n",
    "    df_check=output_verify(households,persons,marginals)\n",
    "    df_check[0].set_index(['cat_value'], append=True,inplace=True)\n",
    "    df_check[1].set_index(['cat_value'], append=True,inplace=True)\n",
    "    df_check[2].set_index(['state','county','tract','block group','cat_name','hh_size'],inplace=True)\n",
    "    for j in range(3):\n",
    "        df_check[j].rename(columns={col:col+\"_\"+str(phase) for col in df_check[j].columns}, inplace=True)\n",
    "                \n",
    "    if phase == 0:\n",
    "        HH_check, Person_check, HHsize_check = df_check[0] , df_check[1], df_check[2]\n",
    "    else:\n",
    "        HH_check=pd.merge(HH_check, df_check[0], left_index=True, right_index=True, how='left')\n",
    "        Person_check=pd.merge(Person_check, df_check[1], left_index=True, right_index=True, how='left')\n",
    "        HHsize_check=pd.merge(HHsize_check, df_check[2], left_index=True, right_index=True, how='left')\n",
    "      \n",
    "    if phase == phases-1:\n",
    "        HH_check.to_csv(pathout+\"_check_households.csv\")\n",
    "        Person_check.to_csv(pathout+\"_check_persons.csv\")\n",
    "        HHsize_check.to_csv(pathout+\"_check_hh_size.csv\")\n",
    "    if phase == 0:\n",
    "        df_check[3].to_csv(\"hh7_persons_drawing.csv\")\n",
    "    if phase == 1:\n",
    "        #df_ttlpersons=pd.DataFrame(data=[totalpersons],columns=['hh_size_person_factor'])\n",
    "        df_check[4].to_csv(\"hh_size_person_factor.csv\")\n",
    "    if phase == 2:\n",
    "        os.rename(\"hh7_persons_drawing.csv\", pathout+\"_hh7_persons_drawing.csv\")\n",
    "        os.rename(\"hh_size_person_factor.csv\", pathout+\"_hh_size_person_factor.csv\")\n",
    "        \n",
    "    households,persons,marginals=None, None, None\n",
    "print time.time()-time0"
   ]
  },
  {
   "cell_type": "code",
   "execution_count": null,
   "metadata": {
    "collapsed": false
   },
   "outputs": [],
   "source": [
    "HH_check"
   ]
  },
  {
   "cell_type": "code",
   "execution_count": null,
   "metadata": {
    "collapsed": false
   },
   "outputs": [],
   "source": [
    "a==None"
   ]
  },
  {
   "cell_type": "code",
   "execution_count": null,
   "metadata": {
    "collapsed": true
   },
   "outputs": [],
   "source": []
  },
  {
   "cell_type": "code",
   "execution_count": null,
   "metadata": {
    "collapsed": false
   },
   "outputs": [],
   "source": [
    "str(indd[0].values)"
   ]
  },
  {
   "cell_type": "code",
   "execution_count": null,
   "metadata": {
    "collapsed": false
   },
   "outputs": [],
   "source": [
    "import numpy as np\n",
    "import math\n",
    "math.isnan(np.NaN)"
   ]
  },
  {
   "cell_type": "code",
   "execution_count": null,
   "metadata": {
    "collapsed": false
   },
   "outputs": [],
   "source": [
    "float('1.2')"
   ]
  },
  {
   "cell_type": "code",
   "execution_count": null,
   "metadata": {
    "collapsed": true
   },
   "outputs": [],
   "source": []
  }
 ],
 "metadata": {
  "kernelspec": {
   "display_name": "Python 2",
   "language": "python",
   "name": "python2"
  },
  "language_info": {
   "codemirror_mode": {
    "name": "ipython",
    "version": 2
   },
   "file_extension": ".py",
   "mimetype": "text/x-python",
   "name": "python",
   "nbconvert_exporter": "python",
   "pygments_lexer": "ipython2",
   "version": "2.7.11"
  }
 },
 "nbformat": 4,
 "nbformat_minor": 0
}
