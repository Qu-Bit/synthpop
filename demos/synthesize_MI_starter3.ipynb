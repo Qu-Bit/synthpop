{
 "cells": [
  {
   "cell_type": "code",
   "execution_count": null,
   "metadata": {
    "collapsed": false
   },
   "outputs": [],
   "source": [
    "%load_ext autoreload\n",
    "%autoreload 2\n",
    "from synthpop.recipes.starter3 import Starter\n",
    "from synthpop.synthesizer import synthesize_all, enable_logging \n",
    "import os\n",
    "import pandas as pd\n",
    "import time\n",
    "import json\n",
    "import pickle\n",
    "\n",
    "\n",
    "#enable_logging()"
   ]
  },
  {
   "cell_type": "code",
   "execution_count": null,
   "metadata": {
    "collapsed": false
   },
   "outputs": [],
   "source": [
    "results=[]\n",
    "time0=time.time()\n",
    "\n",
    "def synthesize_counties(counties):\n",
    "    \n",
    "    for county in counties:\n",
    "        results=[]\n",
    "        starter = Starter(os.environ[\"CENSUS\"], \"MI\", county)\n",
    "        results=synthesize_all(starter)\n",
    "        print time.time()-time0\n",
    "        results[0].to_csv(county+\"_starter3_\"+\"HHs.csv\",float_format='%.f') #floating point numbers will not use scentific format\n",
    "        results[1].to_csv(county+\"_starter3_\"+\"Pops.csv\",float_format='%.f')#float_format applies to all floating point fields\n",
    "        #could use results['serialno'] = results['serialno'].map(lambda x: '%f' % x) to change output format for serialno only\n",
    "        \n",
    "#        with open(county+\"_starter3_\"+'.json', 'w') as fp:\n",
    "#            json.dump(results[2], fp)\n",
    "        with open(county+\"_starter3_\"+'.pkl', 'wb') as f:\n",
    "            pickle.dump(results[2], f)\n",
    "    return results\n",
    "#synthesize_counties([\"Livingston County\",\"Oakland County\",\"Washtenaw County\",\"Wayne County\",\"Monroe County\",\"Macomb County\"])\n",
    "res=synthesize_counties([\"Macomb County\"])\n"
   ]
  },
  {
   "cell_type": "code",
   "execution_count": null,
   "metadata": {
    "collapsed": false
   },
   "outputs": [],
   "source": [
    "res[1].head()"
   ]
  },
  {
   "cell_type": "code",
   "execution_count": null,
   "metadata": {
    "collapsed": false
   },
   "outputs": [],
   "source": [
    "hhs=res[1].copy()\n",
    "\n"
   ]
  },
  {
   "cell_type": "code",
   "execution_count": null,
   "metadata": {
    "collapsed": false
   },
   "outputs": [],
   "source": [
    "hhs.to_csv('testserial.no',float_format='%.f')"
   ]
  },
  {
   "cell_type": "code",
   "execution_count": null,
   "metadata": {
    "collapsed": true
   },
   "outputs": [],
   "source": [
    "hhs=hhs.serialno"
   ]
  },
  {
   "cell_type": "code",
   "execution_count": null,
   "metadata": {
    "collapsed": false
   },
   "outputs": [],
   "source": [
    "import numpy\n",
    "hhs.head()"
   ]
  },
  {
   "cell_type": "code",
   "execution_count": null,
   "metadata": {
    "collapsed": false
   },
   "outputs": [],
   "source": [
    "with open('test.pkl', 'wb') as f:\n",
    "        pickle.dump(results[2], f)\n"
   ]
  },
  {
   "cell_type": "code",
   "execution_count": null,
   "metadata": {
    "collapsed": false
   },
   "outputs": [],
   "source": []
  },
  {
   "cell_type": "code",
   "execution_count": null,
   "metadata": {
    "collapsed": false
   },
   "outputs": [],
   "source": [
    "hhs[0][0].describe()"
   ]
  },
  {
   "cell_type": "code",
   "execution_count": null,
   "metadata": {
    "collapsed": false
   },
   "outputs": [],
   "source": [
    "hhs[0][1].shape"
   ]
  },
  {
   "cell_type": "code",
   "execution_count": null,
   "metadata": {
    "collapsed": false
   },
   "outputs": [],
   "source": [
    "hhs[0][0].shape"
   ]
  },
  {
   "cell_type": "code",
   "execution_count": null,
   "metadata": {
    "collapsed": false
   },
   "outputs": [],
   "source": []
  }
 ],
 "metadata": {
  "kernelspec": {
   "display_name": "Python 2",
   "language": "python",
   "name": "python2"
  },
  "language_info": {
   "codemirror_mode": {
    "name": "ipython",
    "version": 2
   },
   "file_extension": ".py",
   "mimetype": "text/x-python",
   "name": "python",
   "nbconvert_exporter": "python",
   "pygments_lexer": "ipython2",
   "version": "2.7.11"
  }
 },
 "nbformat": 4,
 "nbformat_minor": 0
}
