{
 "metadata": {
  "name": "",
  "signature": "sha256:d67b4aae0eca063a8ceeb7f17ddc1413a00c0e8ec044a28893955383d84ff96b"
 },
 "nbformat": 3,
 "nbformat_minor": 0,
 "worksheets": [
  {
   "cells": [
    {
     "cell_type": "code",
     "collapsed": false,
     "input": [
      "%load_ext autoreload\n",
      "%autoreload 2\n",
      "\n",
      "from synthpop.recipes.starter4 import Starter\n",
      "receipt='starter4'\n",
      "\n",
      "from synthpop.synthesizer import synthesize_all, enable_logging \n",
      "import os\n",
      "import pandas as pd\n",
      "import time\n",
      "import json\n",
      "import pickle\n",
      "\n",
      "\n",
      "#enable_logging()"
     ],
     "language": "python",
     "metadata": {},
     "outputs": [
      {
       "output_type": "stream",
       "stream": "stdout",
       "text": [
        "The autoreload extension is already loaded. To reload it, use:\n",
        "  %reload_ext autoreload\n"
       ]
      }
     ],
     "prompt_number": 2
    },
    {
     "cell_type": "code",
     "collapsed": false,
     "input": [
      "results=[]\n",
      "time0=time.time()\n",
      "\n",
      "def synthesize_counties(counties):\n",
      "    \n",
      "    for county in counties:\n",
      "        results=[]\n",
      "        starter = Starter(os.environ[\"CENSUS\"], \"MI\", county)\n",
      "        results=synthesize_all(starter)\n",
      "        print time.time()-time0\n",
      "        results[0].to_csv(\"%s_%s_HHs.csv\"%(county,receipt))\n",
      "        results[1].to_csv(\"%s_%s_Pops.csv\"%(county,receipt))\n",
      "        #print results[2]\n",
      "#        with open(county+\"_starter3_\"+'.json', 'w') as fp:\n",
      "#            json.dump(results[2], fp)\n",
      "        with open(\"%s_%s_fit.pkl\"%(county,receipt), 'wb') as f:\n",
      "            pickle.dump(results[2], f)\n",
      "\n",
      "#synthesize_counties([\"St. Clair County\",\"Livingston County\",\"Oakland County\",\"Washtenaw County\",\"Wayne County\",\"Monroe County\",\"Macomb County\"])\n",
      "synthesize_counties([\"St. Clair County\"])\n"
     ],
     "language": "python",
     "metadata": {},
     "outputs": [
      {
       "output_type": "stream",
       "stream": "stdout",
       "text": [
        "Synthesizing at geog level: 'block_group' (number of geographies is 138)\n",
        "Synthesizing geog id:\n",
        "state              26\n",
        "county            147\n",
        "tract          620000\n",
        "block group         1\n",
        "dtype: object\n",
        "Drawing 353 households"
       ]
      },
      {
       "output_type": "stream",
       "stream": "stderr",
       "text": [
        "/home/da/anaconda/lib/python2.7/site-packages/pandas/io/parsers.py:1159: DtypeWarning: Columns (107,108) have mixed types. Specify dtype option on import or set low_memory=False.\n",
        "  data = self._reader.read(nrows)\n",
        "/home/da/anaconda/lib/python2.7/site-packages/pandas/util/decorators.py:13: FutureWarning: diff is deprecated. Use difference instead\n",
        "  FutureWarning)\n"
       ]
      },
      {
       "output_type": "stream",
       "stream": "stdout",
       "text": [
        "\n",
        "Synthesizing geog id:\n"
       ]
      },
      {
       "output_type": "stream",
       "stream": "stdout",
       "text": [
        "state              26\n",
        "county            147\n",
        "tract          620000\n",
        "block group         2\n",
        "dtype: object\n",
        "Drawing 385 households"
       ]
      },
      {
       "output_type": "stream",
       "stream": "stdout",
       "text": [
        "\n",
        "Synthesizing geog id:\n"
       ]
      },
      {
       "output_type": "stream",
       "stream": "stdout",
       "text": [
        "state              26\n",
        "county            147\n",
        "tract          620000\n",
        "block group         3\n",
        "dtype: object\n",
        "Drawing 154 households"
       ]
      },
      {
       "output_type": "stream",
       "stream": "stdout",
       "text": [
        "\n",
        "Synthesizing geog id:\n"
       ]
      },
      {
       "output_type": "stream",
       "stream": "stdout",
       "text": [
        "state              26\n",
        "county            147\n",
        "tract          620000\n",
        "block group         4\n",
        "dtype: object\n",
        "Drawing 436 households"
       ]
      },
      {
       "output_type": "stream",
       "stream": "stdout",
       "text": [
        "\n",
        "Synthesizing geog id:\n"
       ]
      },
      {
       "output_type": "stream",
       "stream": "stdout",
       "text": [
        "state              26\n",
        "county            147\n",
        "tract          620000\n",
        "block group         5\n",
        "dtype: object\n",
        "Drawing 364 households"
       ]
      },
      {
       "output_type": "stream",
       "stream": "stdout",
       "text": [
        "\n",
        "Synthesizing geog id:\n"
       ]
      },
      {
       "output_type": "stream",
       "stream": "stdout",
       "text": [
        "state              26\n",
        "county            147\n",
        "tract          621000\n",
        "block group         1\n",
        "dtype: object\n",
        "Drawing 291 households"
       ]
      },
      {
       "output_type": "stream",
       "stream": "stdout",
       "text": [
        "\n",
        "Synthesizing geog id:\n"
       ]
      },
      {
       "output_type": "stream",
       "stream": "stdout",
       "text": [
        "state              26\n",
        "county            147\n",
        "tract          621000\n",
        "block group         2\n",
        "dtype: object\n",
        "Drawing 439 households"
       ]
      },
      {
       "output_type": "stream",
       "stream": "stdout",
       "text": [
        "\n",
        "Synthesizing geog id:\n"
       ]
      },
      {
       "output_type": "stream",
       "stream": "stdout",
       "text": [
        "state              26\n",
        "county            147\n",
        "tract          621000\n",
        "block group         3\n",
        "dtype: object\n",
        "Drawing 590 households"
       ]
      },
      {
       "output_type": "stream",
       "stream": "stdout",
       "text": [
        "\n",
        "Synthesizing geog id:\n"
       ]
      },
      {
       "output_type": "stream",
       "stream": "stdout",
       "text": [
        "state              26\n",
        "county            147\n",
        "tract          622000\n",
        "block group         1\n",
        "dtype: object\n",
        "Drawing 383 households"
       ]
      },
      {
       "output_type": "stream",
       "stream": "stdout",
       "text": [
        "\n",
        "Synthesizing geog id:\n"
       ]
      },
      {
       "output_type": "stream",
       "stream": "stdout",
       "text": [
        "state              26\n",
        "county            147\n",
        "tract          622000\n",
        "block group         2\n",
        "dtype: object\n",
        "Drawing 389 households"
       ]
      },
      {
       "output_type": "stream",
       "stream": "stdout",
       "text": [
        "\n",
        "Synthesizing geog id:\n"
       ]
      },
      {
       "output_type": "stream",
       "stream": "stdout",
       "text": [
        "state              26\n",
        "county            147\n",
        "tract          622000\n",
        "block group         3\n",
        "dtype: object\n",
        "Drawing 646 households"
       ]
      },
      {
       "output_type": "stream",
       "stream": "stdout",
       "text": [
        "\n",
        "Synthesizing geog id:\n"
       ]
      },
      {
       "output_type": "stream",
       "stream": "stdout",
       "text": [
        "state              26\n",
        "county            147\n",
        "tract          623000\n",
        "block group         1\n",
        "dtype: object\n",
        "Drawing 382 households"
       ]
      },
      {
       "output_type": "stream",
       "stream": "stdout",
       "text": [
        "\n",
        "Synthesizing geog id:\n"
       ]
      },
      {
       "output_type": "stream",
       "stream": "stdout",
       "text": [
        "state              26\n",
        "county            147\n",
        "tract          623000\n",
        "block group         2\n",
        "dtype: object\n",
        "Drawing 273 households"
       ]
      },
      {
       "output_type": "stream",
       "stream": "stdout",
       "text": [
        "\n",
        "Synthesizing geog id:\n"
       ]
      },
      {
       "output_type": "stream",
       "stream": "stdout",
       "text": [
        "state              26\n",
        "county            147\n",
        "tract          623000\n",
        "block group         3\n",
        "dtype: object\n",
        "Drawing 500 households"
       ]
      },
      {
       "output_type": "stream",
       "stream": "stdout",
       "text": [
        "\n",
        "Synthesizing geog id:\n"
       ]
      },
      {
       "output_type": "stream",
       "stream": "stdout",
       "text": [
        "state              26\n",
        "county            147\n",
        "tract          624000\n",
        "block group         1\n",
        "dtype: object\n",
        "Drawing 220 households"
       ]
      },
      {
       "output_type": "stream",
       "stream": "stdout",
       "text": [
        "\n",
        "Synthesizing geog id:\n"
       ]
      },
      {
       "output_type": "stream",
       "stream": "stdout",
       "text": [
        "state              26\n",
        "county            147\n",
        "tract          624000\n",
        "block group         2\n",
        "dtype: object\n",
        "Drawing 213 households"
       ]
      },
      {
       "output_type": "stream",
       "stream": "stdout",
       "text": [
        "\n",
        "Synthesizing geog id:\n"
       ]
      },
      {
       "output_type": "stream",
       "stream": "stdout",
       "text": [
        "state              26\n",
        "county            147\n",
        "tract          624000\n",
        "block group         3\n",
        "dtype: object\n",
        "Drawing 428 households"
       ]
      },
      {
       "output_type": "stream",
       "stream": "stdout",
       "text": [
        "\n",
        "Synthesizing geog id:\n"
       ]
      },
      {
       "output_type": "stream",
       "stream": "stdout",
       "text": [
        "state              26\n",
        "county            147\n",
        "tract          625000\n",
        "block group         1\n",
        "dtype: object\n",
        "Drawing 294 households"
       ]
      },
      {
       "output_type": "stream",
       "stream": "stdout",
       "text": [
        "\n",
        "Synthesizing geog id:\n"
       ]
      },
      {
       "output_type": "stream",
       "stream": "stdout",
       "text": [
        "state              26\n",
        "county            147\n",
        "tract          625000\n",
        "block group         2\n",
        "dtype: object\n",
        "Drawing 414 households"
       ]
      },
      {
       "output_type": "stream",
       "stream": "stdout",
       "text": [
        "\n",
        "Synthesizing geog id:\n"
       ]
      },
      {
       "output_type": "stream",
       "stream": "stdout",
       "text": [
        "state              26\n",
        "county            147\n",
        "tract          626000\n",
        "block group         1\n",
        "dtype: object\n",
        "Drawing 379 households"
       ]
      },
      {
       "output_type": "stream",
       "stream": "stdout",
       "text": [
        "\n",
        "Synthesizing geog id:\n"
       ]
      },
      {
       "output_type": "stream",
       "stream": "stdout",
       "text": [
        "state              26\n",
        "county            147\n",
        "tract          626000\n",
        "block group         2\n",
        "dtype: object\n",
        "Drawing 223 households"
       ]
      },
      {
       "output_type": "stream",
       "stream": "stdout",
       "text": [
        "\n",
        "Synthesizing geog id:\n"
       ]
      },
      {
       "output_type": "stream",
       "stream": "stdout",
       "text": [
        "state              26\n",
        "county            147\n",
        "tract          626000\n",
        "block group         3\n",
        "dtype: object\n",
        "Drawing 287 households"
       ]
      },
      {
       "output_type": "stream",
       "stream": "stdout",
       "text": [
        "\n",
        "Synthesizing geog id:\n"
       ]
      },
      {
       "output_type": "stream",
       "stream": "stdout",
       "text": [
        "state              26\n",
        "county            147\n",
        "tract          627000\n",
        "block group         1\n",
        "dtype: object\n",
        "Drawing 428 households"
       ]
      },
      {
       "output_type": "stream",
       "stream": "stdout",
       "text": [
        "\n",
        "Synthesizing geog id:\n"
       ]
      },
      {
       "output_type": "stream",
       "stream": "stdout",
       "text": [
        "state              26\n",
        "county            147\n",
        "tract          627000\n",
        "block group         2\n",
        "dtype: object\n",
        "Drawing 391 households"
       ]
      },
      {
       "output_type": "stream",
       "stream": "stdout",
       "text": [
        "\n",
        "Synthesizing geog id:\n"
       ]
      },
      {
       "output_type": "stream",
       "stream": "stdout",
       "text": [
        "state              26\n",
        "county            147\n",
        "tract          627000\n",
        "block group         3\n",
        "dtype: object\n",
        "Drawing 319 households"
       ]
      },
      {
       "output_type": "stream",
       "stream": "stdout",
       "text": [
        "\n",
        "Synthesizing geog id:\n"
       ]
      },
      {
       "output_type": "stream",
       "stream": "stdout",
       "text": [
        "state              26\n",
        "county            147\n",
        "tract          628000\n",
        "block group         1\n",
        "dtype: object\n",
        "Drawing 454 households"
       ]
      },
      {
       "output_type": "stream",
       "stream": "stdout",
       "text": [
        "\n",
        "Synthesizing geog id:\n"
       ]
      },
      {
       "output_type": "stream",
       "stream": "stdout",
       "text": [
        "state              26\n",
        "county            147\n",
        "tract          628000\n",
        "block group         2\n",
        "dtype: object\n",
        "Drawing 496 households"
       ]
      },
      {
       "output_type": "stream",
       "stream": "stdout",
       "text": [
        "\n",
        "Synthesizing geog id:\n"
       ]
      },
      {
       "output_type": "stream",
       "stream": "stdout",
       "text": [
        "state              26\n",
        "county            147\n",
        "tract          628000\n",
        "block group         3\n",
        "dtype: object\n",
        "Drawing 362 households"
       ]
      },
      {
       "output_type": "stream",
       "stream": "stdout",
       "text": [
        "\n",
        "Synthesizing geog id:\n"
       ]
      },
      {
       "output_type": "stream",
       "stream": "stdout",
       "text": [
        "state              26\n",
        "county            147\n",
        "tract          628000\n",
        "block group         4\n",
        "dtype: object\n",
        "Drawing 261 households"
       ]
      },
      {
       "output_type": "stream",
       "stream": "stdout",
       "text": [
        "\n",
        "Synthesizing geog id:\n"
       ]
      },
      {
       "output_type": "stream",
       "stream": "stdout",
       "text": [
        "state              26\n",
        "county            147\n",
        "tract          629000\n",
        "block group         1\n",
        "dtype: object\n",
        "Drawing 325 households"
       ]
      },
      {
       "output_type": "stream",
       "stream": "stdout",
       "text": [
        "\n",
        "Synthesizing geog id:\n"
       ]
      },
      {
       "output_type": "stream",
       "stream": "stdout",
       "text": [
        "state              26\n",
        "county            147\n",
        "tract          629000\n",
        "block group         2\n",
        "dtype: object\n",
        "Drawing 1114 households"
       ]
      },
      {
       "output_type": "stream",
       "stream": "stdout",
       "text": [
        "\n",
        "Synthesizing geog id:\n"
       ]
      },
      {
       "output_type": "stream",
       "stream": "stdout",
       "text": [
        "state              26\n",
        "county            147\n",
        "tract          630100\n",
        "block group         1\n",
        "dtype: object\n",
        "Drawing 702 households"
       ]
      },
      {
       "output_type": "stream",
       "stream": "stdout",
       "text": [
        "\n",
        "Synthesizing geog id:\n"
       ]
      },
      {
       "output_type": "stream",
       "stream": "stdout",
       "text": [
        "state              26\n",
        "county            147\n",
        "tract          630400\n",
        "block group         1\n",
        "dtype: object\n",
        "Drawing 432 households"
       ]
      },
      {
       "output_type": "stream",
       "stream": "stdout",
       "text": [
        "\n",
        "Synthesizing geog id:\n"
       ]
      },
      {
       "output_type": "stream",
       "stream": "stdout",
       "text": [
        "state              26\n",
        "county            147\n",
        "tract          630400\n",
        "block group         2\n",
        "dtype: object\n",
        "Drawing 520 households"
       ]
      },
      {
       "output_type": "stream",
       "stream": "stdout",
       "text": [
        "\n",
        "Synthesizing geog id:\n"
       ]
      },
      {
       "output_type": "stream",
       "stream": "stdout",
       "text": [
        "state              26\n",
        "county            147\n",
        "tract          630400\n",
        "block group         3\n",
        "dtype: object\n",
        "Drawing 298 households"
       ]
      },
      {
       "output_type": "stream",
       "stream": "stdout",
       "text": [
        "\n",
        "Synthesizing geog id:\n"
       ]
      },
      {
       "output_type": "stream",
       "stream": "stdout",
       "text": [
        "state              26\n",
        "county            147\n",
        "tract          630400\n",
        "block group         4\n",
        "dtype: object\n",
        "Drawing 909 households"
       ]
      },
      {
       "output_type": "stream",
       "stream": "stdout",
       "text": [
        "\n",
        "Synthesizing geog id:\n"
       ]
      },
      {
       "output_type": "stream",
       "stream": "stdout",
       "text": [
        "state              26\n",
        "county            147\n",
        "tract          631100\n",
        "block group         1\n",
        "dtype: object\n",
        "Drawing 695 households"
       ]
      },
      {
       "output_type": "stream",
       "stream": "stdout",
       "text": [
        "\n",
        "Synthesizing geog id:\n"
       ]
      },
      {
       "output_type": "stream",
       "stream": "stdout",
       "text": [
        "state              26\n",
        "county            147\n",
        "tract          631600\n",
        "block group         1\n",
        "dtype: object\n",
        "Drawing 503 households"
       ]
      },
      {
       "output_type": "stream",
       "stream": "stdout",
       "text": [
        "\n",
        "Synthesizing geog id:\n"
       ]
      },
      {
       "output_type": "stream",
       "stream": "stdout",
       "text": [
        "state              26\n",
        "county            147\n",
        "tract          631600\n",
        "block group         2\n",
        "dtype: object\n",
        "Drawing 570 households"
       ]
      },
      {
       "output_type": "stream",
       "stream": "stdout",
       "text": [
        "\n",
        "Synthesizing geog id:\n"
       ]
      },
      {
       "output_type": "stream",
       "stream": "stdout",
       "text": [
        "state              26\n",
        "county            147\n",
        "tract          632000\n",
        "block group         1\n",
        "dtype: object\n",
        "Drawing 293 households"
       ]
      },
      {
       "output_type": "stream",
       "stream": "stdout",
       "text": [
        "\n",
        "Synthesizing geog id:\n"
       ]
      },
      {
       "output_type": "stream",
       "stream": "stdout",
       "text": [
        "state              26\n",
        "county            147\n",
        "tract          632000\n",
        "block group         2\n",
        "dtype: object\n",
        "Drawing 356 households"
       ]
      },
      {
       "output_type": "stream",
       "stream": "stdout",
       "text": [
        "\n",
        "Synthesizing geog id:\n"
       ]
      },
      {
       "output_type": "stream",
       "stream": "stdout",
       "text": [
        "state              26\n",
        "county            147\n",
        "tract          632000\n",
        "block group         3\n",
        "dtype: object\n",
        "Drawing 232 households"
       ]
      },
      {
       "output_type": "stream",
       "stream": "stdout",
       "text": [
        "\n",
        "Synthesizing geog id:\n"
       ]
      },
      {
       "output_type": "stream",
       "stream": "stdout",
       "text": [
        "state              26\n",
        "county            147\n",
        "tract          632000\n",
        "block group         4\n",
        "dtype: object\n",
        "Drawing 376 households"
       ]
      },
      {
       "output_type": "stream",
       "stream": "stdout",
       "text": [
        "\n",
        "Synthesizing geog id:\n"
       ]
      },
      {
       "output_type": "stream",
       "stream": "stdout",
       "text": [
        "state              26\n",
        "county            147\n",
        "tract          632000\n",
        "block group         5\n",
        "dtype: object\n",
        "Drawing 324 households"
       ]
      },
      {
       "output_type": "stream",
       "stream": "stdout",
       "text": [
        "\n",
        "Synthesizing geog id:\n"
       ]
      },
      {
       "output_type": "stream",
       "stream": "stdout",
       "text": [
        "state              26\n",
        "county            147\n",
        "tract          633100\n",
        "block group         1\n",
        "dtype: object\n",
        "Drawing 290 households"
       ]
      },
      {
       "output_type": "stream",
       "stream": "stdout",
       "text": [
        "\n",
        "Synthesizing geog id:\n"
       ]
      },
      {
       "output_type": "stream",
       "stream": "stdout",
       "text": [
        "state              26\n",
        "county            147\n",
        "tract          633100\n",
        "block group         2\n",
        "dtype: object\n",
        "Drawing 273 households"
       ]
      },
      {
       "output_type": "stream",
       "stream": "stdout",
       "text": [
        "\n",
        "Synthesizing geog id:\n"
       ]
      },
      {
       "output_type": "stream",
       "stream": "stdout",
       "text": [
        "state              26\n",
        "county            147\n",
        "tract          633100\n",
        "block group         3\n",
        "dtype: object\n",
        "Drawing 483 households"
       ]
      },
      {
       "output_type": "stream",
       "stream": "stdout",
       "text": [
        "\n",
        "Synthesizing geog id:\n"
       ]
      },
      {
       "output_type": "stream",
       "stream": "stdout",
       "text": [
        "state              26\n",
        "county            147\n",
        "tract          633200\n",
        "block group         1\n",
        "dtype: object\n",
        "Drawing 634 households"
       ]
      },
      {
       "output_type": "stream",
       "stream": "stdout",
       "text": [
        "\n",
        "Synthesizing geog id:\n"
       ]
      },
      {
       "output_type": "stream",
       "stream": "stdout",
       "text": [
        "state              26\n",
        "county            147\n",
        "tract          633200\n",
        "block group         2\n",
        "dtype: object\n",
        "Drawing 354 households"
       ]
      },
      {
       "output_type": "stream",
       "stream": "stdout",
       "text": [
        "\n",
        "Synthesizing geog id:\n"
       ]
      },
      {
       "output_type": "stream",
       "stream": "stdout",
       "text": [
        "state              26\n",
        "county            147\n",
        "tract          634100\n",
        "block group         1\n",
        "dtype: object\n",
        "Drawing 449 households"
       ]
      },
      {
       "output_type": "stream",
       "stream": "stdout",
       "text": [
        "\n",
        "Synthesizing geog id:\n"
       ]
      },
      {
       "output_type": "stream",
       "stream": "stdout",
       "text": [
        "state              26\n",
        "county            147\n",
        "tract          634100\n",
        "block group         2\n",
        "dtype: object\n",
        "Drawing 640 households"
       ]
      },
      {
       "output_type": "stream",
       "stream": "stdout",
       "text": [
        "\n",
        "Synthesizing geog id:\n"
       ]
      },
      {
       "output_type": "stream",
       "stream": "stdout",
       "text": [
        "state              26\n",
        "county            147\n",
        "tract          634100\n",
        "block group         3\n",
        "dtype: object\n",
        "Drawing 388 households"
       ]
      },
      {
       "output_type": "stream",
       "stream": "stdout",
       "text": [
        "\n",
        "Synthesizing geog id:\n"
       ]
      },
      {
       "output_type": "stream",
       "stream": "stdout",
       "text": [
        "state              26\n",
        "county            147\n",
        "tract          634600\n",
        "block group         1\n",
        "dtype: object\n",
        "Drawing 587 households"
       ]
      },
      {
       "output_type": "stream",
       "stream": "stdout",
       "text": [
        "\n",
        "Synthesizing geog id:\n"
       ]
      },
      {
       "output_type": "stream",
       "stream": "stdout",
       "text": [
        "state              26\n",
        "county            147\n",
        "tract          634600\n",
        "block group         2\n",
        "dtype: object\n",
        "Drawing 1068 households"
       ]
      },
      {
       "output_type": "stream",
       "stream": "stdout",
       "text": [
        "\n",
        "Synthesizing geog id:\n"
       ]
      },
      {
       "output_type": "stream",
       "stream": "stdout",
       "text": [
        "state              26\n",
        "county            147\n",
        "tract          634600\n",
        "block group         3\n",
        "dtype: object\n"
       ]
      },
      {
       "ename": "KeyboardInterrupt",
       "evalue": "",
       "output_type": "pyerr",
       "traceback": [
        "\u001b[1;31m---------------------------------------------------------------------------\u001b[0m\n\u001b[1;31mKeyboardInterrupt\u001b[0m                         Traceback (most recent call last)",
        "\u001b[1;32m<ipython-input-3-e945b8d912d5>\u001b[0m in \u001b[0;36m<module>\u001b[1;34m()\u001b[0m\n\u001b[0;32m     18\u001b[0m \u001b[1;33m\u001b[0m\u001b[0m\n\u001b[0;32m     19\u001b[0m \u001b[1;31m#synthesize_counties([\"St. Clair County\",\"Livingston County\",\"Oakland County\",\"Washtenaw County\",\"Wayne County\",\"Monroe County\",\"Macomb County\"])\u001b[0m\u001b[1;33m\u001b[0m\u001b[1;33m\u001b[0m\u001b[0m\n\u001b[1;32m---> 20\u001b[1;33m \u001b[0msynthesize_counties\u001b[0m\u001b[1;33m(\u001b[0m\u001b[1;33m[\u001b[0m\u001b[1;34m\"St. Clair County\"\u001b[0m\u001b[1;33m]\u001b[0m\u001b[1;33m)\u001b[0m\u001b[1;33m\u001b[0m\u001b[0m\n\u001b[0m",
        "\u001b[1;32m<ipython-input-3-e945b8d912d5>\u001b[0m in \u001b[0;36msynthesize_counties\u001b[1;34m(counties)\u001b[0m\n\u001b[0;32m      7\u001b[0m         \u001b[0mresults\u001b[0m\u001b[1;33m=\u001b[0m\u001b[1;33m[\u001b[0m\u001b[1;33m]\u001b[0m\u001b[1;33m\u001b[0m\u001b[0m\n\u001b[0;32m      8\u001b[0m         \u001b[0mstarter\u001b[0m \u001b[1;33m=\u001b[0m \u001b[0mStarter\u001b[0m\u001b[1;33m(\u001b[0m\u001b[0mos\u001b[0m\u001b[1;33m.\u001b[0m\u001b[0menviron\u001b[0m\u001b[1;33m[\u001b[0m\u001b[1;34m\"CENSUS\"\u001b[0m\u001b[1;33m]\u001b[0m\u001b[1;33m,\u001b[0m \u001b[1;34m\"MI\"\u001b[0m\u001b[1;33m,\u001b[0m \u001b[0mcounty\u001b[0m\u001b[1;33m)\u001b[0m\u001b[1;33m\u001b[0m\u001b[0m\n\u001b[1;32m----> 9\u001b[1;33m         \u001b[0mresults\u001b[0m\u001b[1;33m=\u001b[0m\u001b[0msynthesize_all\u001b[0m\u001b[1;33m(\u001b[0m\u001b[0mstarter\u001b[0m\u001b[1;33m)\u001b[0m\u001b[1;33m\u001b[0m\u001b[0m\n\u001b[0m\u001b[0;32m     10\u001b[0m         \u001b[1;32mprint\u001b[0m \u001b[0mtime\u001b[0m\u001b[1;33m.\u001b[0m\u001b[0mtime\u001b[0m\u001b[1;33m(\u001b[0m\u001b[1;33m)\u001b[0m\u001b[1;33m-\u001b[0m\u001b[0mtime0\u001b[0m\u001b[1;33m\u001b[0m\u001b[0m\n\u001b[0;32m     11\u001b[0m         \u001b[0mresults\u001b[0m\u001b[1;33m[\u001b[0m\u001b[1;36m0\u001b[0m\u001b[1;33m]\u001b[0m\u001b[1;33m.\u001b[0m\u001b[0mto_csv\u001b[0m\u001b[1;33m(\u001b[0m\u001b[1;34m\"%s_%s_HHs.csv\"\u001b[0m\u001b[1;33m%\u001b[0m\u001b[1;33m(\u001b[0m\u001b[0mcounty\u001b[0m\u001b[1;33m,\u001b[0m\u001b[0mreceipt\u001b[0m\u001b[1;33m)\u001b[0m\u001b[1;33m)\u001b[0m\u001b[1;33m\u001b[0m\u001b[0m\n",
        "\u001b[1;32m/home/da/anaconda/lib/python2.7/site-packages/SynthPop-0.1.dev0-py2.7.egg/synthpop/synthesizer.pyc\u001b[0m in \u001b[0;36msynthesize_all\u001b[1;34m(recipe, num_geogs, indexes, marginal_zero_sub, jd_zero_sub)\u001b[0m\n\u001b[0;32m    126\u001b[0m         \u001b[0mlogger\u001b[0m\u001b[1;33m.\u001b[0m\u001b[0mdebug\u001b[0m\u001b[1;33m(\u001b[0m\u001b[0mh_jd\u001b[0m\u001b[1;33m)\u001b[0m\u001b[1;33m\u001b[0m\u001b[0m\n\u001b[0;32m    127\u001b[0m \u001b[1;33m\u001b[0m\u001b[0m\n\u001b[1;32m--> 128\u001b[1;33m         \u001b[0mp_pums\u001b[0m\u001b[1;33m,\u001b[0m \u001b[0mp_jd\u001b[0m \u001b[1;33m=\u001b[0m \u001b[0mrecipe\u001b[0m\u001b[1;33m.\u001b[0m\u001b[0mget_person_joint_dist_for_geography\u001b[0m\u001b[1;33m(\u001b[0m\u001b[0mgeog_id\u001b[0m\u001b[1;33m)\u001b[0m\u001b[1;33m\u001b[0m\u001b[0m\n\u001b[0m\u001b[0;32m    129\u001b[0m         \u001b[0mlogger\u001b[0m\u001b[1;33m.\u001b[0m\u001b[0mdebug\u001b[0m\u001b[1;33m(\u001b[0m\u001b[1;34m\"Person joint distribution\"\u001b[0m\u001b[1;33m)\u001b[0m\u001b[1;33m\u001b[0m\u001b[0m\n\u001b[0;32m    130\u001b[0m         \u001b[0mlogger\u001b[0m\u001b[1;33m.\u001b[0m\u001b[0mdebug\u001b[0m\u001b[1;33m(\u001b[0m\u001b[0mp_jd\u001b[0m\u001b[1;33m)\u001b[0m\u001b[1;33m\u001b[0m\u001b[0m\n",
        "\u001b[1;32m/home/da/anaconda/lib/python2.7/site-packages/SynthPop-0.1.dev0-py2.7.egg/synthpop/recipes/starter4.py\u001b[0m in \u001b[0;36mget_person_joint_dist_for_geography\u001b[1;34m(self, ind)\u001b[0m\n\u001b[0;32m    369\u001b[0m             \u001b[0mp_pums\u001b[0m\u001b[1;33m,\u001b[0m\u001b[1;33m\u001b[0m\u001b[0m\n\u001b[0;32m    370\u001b[0m             \u001b[0mcat\u001b[0m\u001b[1;33m.\u001b[0m\u001b[0mcategory_combinations\u001b[0m\u001b[1;33m(\u001b[0m\u001b[0mself\u001b[0m\u001b[1;33m.\u001b[0m\u001b[0mp_acs_cat\u001b[0m\u001b[1;33m.\u001b[0m\u001b[0mcolumns\u001b[0m\u001b[1;33m)\u001b[0m\u001b[1;33m,\u001b[0m\u001b[1;33m\u001b[0m\u001b[0m\n\u001b[1;32m--> 371\u001b[1;33m             {\"person_age\": age_cat, \"race\": race_cat, \"person_sex\": sex_cat,\n\u001b[0m\u001b[0;32m    372\u001b[0m              \u001b[1;31m#\"hispanic\": hispanic_cat\u001b[0m\u001b[1;33m\u001b[0m\u001b[1;33m\u001b[0m\u001b[0m\n\u001b[0;32m    373\u001b[0m              }\n",
        "\u001b[1;32m/home/da/anaconda/lib/python2.7/site-packages/SynthPop-0.1.dev0-py2.7.egg/synthpop/categorizer.pyc\u001b[0m in \u001b[0;36mjoint_distribution\u001b[1;34m(sample_df, category_df, mapping_functions)\u001b[0m\n\u001b[0;32m     69\u001b[0m                                           \u001b[1;34m\"name to define that category for \"\u001b[0m\u001b[0;31m \u001b[0m\u001b[0;31m\\\u001b[0m\u001b[1;33m\u001b[0m\u001b[0m\n\u001b[0;32m     70\u001b[0m                                           \u001b[1;34m\"the pums sample records\"\u001b[0m\u001b[1;33m\u001b[0m\u001b[0m\n\u001b[1;32m---> 71\u001b[1;33m         \u001b[0msample_df\u001b[0m\u001b[1;33m[\u001b[0m\u001b[0mname\u001b[0m\u001b[1;33m]\u001b[0m \u001b[1;33m=\u001b[0m \u001b[0msample_df\u001b[0m\u001b[1;33m.\u001b[0m\u001b[0mapply\u001b[0m\u001b[1;33m(\u001b[0m\u001b[0mmapping_functions\u001b[0m\u001b[1;33m[\u001b[0m\u001b[0mname\u001b[0m\u001b[1;33m]\u001b[0m\u001b[1;33m,\u001b[0m \u001b[0maxis\u001b[0m\u001b[1;33m=\u001b[0m\u001b[1;36m1\u001b[0m\u001b[1;33m)\u001b[0m\u001b[1;33m\u001b[0m\u001b[0m\n\u001b[0m\u001b[0;32m     72\u001b[0m \u001b[1;33m\u001b[0m\u001b[0m\n\u001b[0;32m     73\u001b[0m     \u001b[0mcategory_df\u001b[0m\u001b[1;33m[\u001b[0m\u001b[1;34m\"frequency\"\u001b[0m\u001b[1;33m]\u001b[0m \u001b[1;33m=\u001b[0m \u001b[0msample_df\u001b[0m\u001b[1;33m.\u001b[0m\u001b[0mgroupby\u001b[0m\u001b[1;33m(\u001b[0m\u001b[0mcategory_names\u001b[0m\u001b[1;33m)\u001b[0m\u001b[1;33m.\u001b[0m\u001b[0msize\u001b[0m\u001b[1;33m(\u001b[0m\u001b[1;33m)\u001b[0m\u001b[1;33m\u001b[0m\u001b[0m\n",
        "\u001b[1;32m/home/da/anaconda/lib/python2.7/site-packages/pandas/core/frame.pyc\u001b[0m in \u001b[0;36mapply\u001b[1;34m(self, func, axis, broadcast, raw, reduce, args, **kwds)\u001b[0m\n\u001b[0;32m   3594\u001b[0m                     \u001b[1;32mif\u001b[0m \u001b[0mreduce\u001b[0m \u001b[1;32mis\u001b[0m \u001b[0mNone\u001b[0m\u001b[1;33m:\u001b[0m\u001b[1;33m\u001b[0m\u001b[0m\n\u001b[0;32m   3595\u001b[0m                         \u001b[0mreduce\u001b[0m \u001b[1;33m=\u001b[0m \u001b[0mTrue\u001b[0m\u001b[1;33m\u001b[0m\u001b[0m\n\u001b[1;32m-> 3596\u001b[1;33m                     \u001b[1;32mreturn\u001b[0m \u001b[0mself\u001b[0m\u001b[1;33m.\u001b[0m\u001b[0m_apply_standard\u001b[0m\u001b[1;33m(\u001b[0m\u001b[0mf\u001b[0m\u001b[1;33m,\u001b[0m \u001b[0maxis\u001b[0m\u001b[1;33m,\u001b[0m \u001b[0mreduce\u001b[0m\u001b[1;33m=\u001b[0m\u001b[0mreduce\u001b[0m\u001b[1;33m)\u001b[0m\u001b[1;33m\u001b[0m\u001b[0m\n\u001b[0m\u001b[0;32m   3597\u001b[0m             \u001b[1;32melse\u001b[0m\u001b[1;33m:\u001b[0m\u001b[1;33m\u001b[0m\u001b[0m\n\u001b[0;32m   3598\u001b[0m                 \u001b[1;32mreturn\u001b[0m \u001b[0mself\u001b[0m\u001b[1;33m.\u001b[0m\u001b[0m_apply_broadcast\u001b[0m\u001b[1;33m(\u001b[0m\u001b[0mf\u001b[0m\u001b[1;33m,\u001b[0m \u001b[0maxis\u001b[0m\u001b[1;33m)\u001b[0m\u001b[1;33m\u001b[0m\u001b[0m\n",
        "\u001b[1;32m/home/da/anaconda/lib/python2.7/site-packages/pandas/core/frame.pyc\u001b[0m in \u001b[0;36m_apply_standard\u001b[1;34m(self, func, axis, ignore_failures, reduce)\u001b[0m\n\u001b[0;32m   3646\u001b[0m                 \u001b[0mlabels\u001b[0m \u001b[1;33m=\u001b[0m \u001b[0mself\u001b[0m\u001b[1;33m.\u001b[0m\u001b[0m_get_agg_axis\u001b[0m\u001b[1;33m(\u001b[0m\u001b[0maxis\u001b[0m\u001b[1;33m)\u001b[0m\u001b[1;33m\u001b[0m\u001b[0m\n\u001b[0;32m   3647\u001b[0m                 result = lib.reduce(values, func, axis=axis, dummy=dummy,\n\u001b[1;32m-> 3648\u001b[1;33m                                     labels=labels)\n\u001b[0m\u001b[0;32m   3649\u001b[0m                 \u001b[1;32mreturn\u001b[0m \u001b[0mSeries\u001b[0m\u001b[1;33m(\u001b[0m\u001b[0mresult\u001b[0m\u001b[1;33m,\u001b[0m \u001b[0mindex\u001b[0m\u001b[1;33m=\u001b[0m\u001b[0mlabels\u001b[0m\u001b[1;33m)\u001b[0m\u001b[1;33m\u001b[0m\u001b[0m\n\u001b[0;32m   3650\u001b[0m             \u001b[1;32mexcept\u001b[0m \u001b[0mException\u001b[0m\u001b[1;33m:\u001b[0m\u001b[1;33m\u001b[0m\u001b[0m\n",
        "\u001b[1;32m/home/da/anaconda/lib/python2.7/site-packages/pandas/lib.so\u001b[0m in \u001b[0;36mpandas.lib.reduce (pandas/lib.c:40132)\u001b[1;34m()\u001b[0m\n",
        "\u001b[1;32m/home/da/anaconda/lib/python2.7/site-packages/pandas/lib.so\u001b[0m in \u001b[0;36mpandas.lib.Reducer.get_result (pandas/lib.c:29820)\u001b[1;34m()\u001b[0m\n",
        "\u001b[1;32m/home/da/anaconda/lib/python2.7/site-packages/pandas/lib.so\u001b[0m in \u001b[0;36mpandas.lib.AxisProperty.__set__ (pandas/lib.c:41295)\u001b[1;34m()\u001b[0m\n",
        "\u001b[1;32m/home/da/anaconda/lib/python2.7/site-packages/pandas/core/series.pyc\u001b[0m in \u001b[0;36m_set_axis\u001b[1;34m(self, axis, labels, fastpath)\u001b[0m\n\u001b[0;32m    243\u001b[0m     \u001b[0m_index\u001b[0m \u001b[1;33m=\u001b[0m \u001b[0mNone\u001b[0m\u001b[1;33m\u001b[0m\u001b[0m\n\u001b[0;32m    244\u001b[0m \u001b[1;33m\u001b[0m\u001b[0m\n\u001b[1;32m--> 245\u001b[1;33m     \u001b[1;32mdef\u001b[0m \u001b[0m_set_axis\u001b[0m\u001b[1;33m(\u001b[0m\u001b[0mself\u001b[0m\u001b[1;33m,\u001b[0m \u001b[0maxis\u001b[0m\u001b[1;33m,\u001b[0m \u001b[0mlabels\u001b[0m\u001b[1;33m,\u001b[0m \u001b[0mfastpath\u001b[0m\u001b[1;33m=\u001b[0m\u001b[0mFalse\u001b[0m\u001b[1;33m)\u001b[0m\u001b[1;33m:\u001b[0m\u001b[1;33m\u001b[0m\u001b[0m\n\u001b[0m\u001b[0;32m    246\u001b[0m         \u001b[1;34m\"\"\" override generic, we want to set the _typ here \"\"\"\u001b[0m\u001b[1;33m\u001b[0m\u001b[0m\n\u001b[0;32m    247\u001b[0m \u001b[1;33m\u001b[0m\u001b[0m\n",
        "\u001b[1;31mKeyboardInterrupt\u001b[0m: "
       ]
      }
     ],
     "prompt_number": 3
    },
    {
     "cell_type": "code",
     "collapsed": false,
     "input": [],
     "language": "python",
     "metadata": {},
     "outputs": []
    },
    {
     "cell_type": "code",
     "collapsed": false,
     "input": [],
     "language": "python",
     "metadata": {},
     "outputs": []
    },
    {
     "cell_type": "code",
     "collapsed": false,
     "input": [],
     "language": "python",
     "metadata": {},
     "outputs": []
    },
    {
     "cell_type": "code",
     "collapsed": false,
     "input": [
      "#stats of output\n",
      "import pickle"
     ],
     "language": "python",
     "metadata": {},
     "outputs": [],
     "prompt_number": 7
    },
    {
     "cell_type": "code",
     "collapsed": false,
     "input": [
      "clist=[\"St. Clair County\",\"Livingston County\",\"Oakland County\",\"Washtenaw County\",\"Wayne County\",\"Monroe County\",\"Macomb County\"]\n",
      "clist=[\"St. Clair County\"]"
     ],
     "language": "python",
     "metadata": {},
     "outputs": [],
     "prompt_number": 8
    },
    {
     "cell_type": "code",
     "collapsed": false,
     "input": [
      "\n",
      "hhs,pops=[],[]\n",
      "for county in clist:\n",
      "    print cnty\n",
      "    hh=pd.read_csv(\"%s_%s_HHs.csv\"%(county,receipt))\n",
      "    hhs.append([cnty,hh.shape[0]])\n",
      "    hh=[]\n",
      "for cnty in clist:\n",
      "    print cnty    \n",
      "    pop=pd.read_csv(\"%s_%s_Pops.csv\"%(county,receipt))\n",
      "    pops.append([cnty,pop.shape[0]])\n",
      "    pop=[]\n"
     ],
     "language": "python",
     "metadata": {},
     "outputs": [
      {
       "output_type": "stream",
       "stream": "stdout",
       "text": [
        "St. Clair County\n",
        "St. Clair County"
       ]
      },
      {
       "output_type": "stream",
       "stream": "stdout",
       "text": [
        "\n"
       ]
      },
      {
       "output_type": "stream",
       "stream": "stderr",
       "text": [
        "/home/da/anaconda/lib/python2.7/site-packages/pandas/io/parsers.py:1159: DtypeWarning: Columns (155) have mixed types. Specify dtype option on import or set low_memory=False.\n",
        "  data = self._reader.read(nrows)\n"
       ]
      }
     ],
     "prompt_number": 9
    },
    {
     "cell_type": "code",
     "collapsed": false,
     "input": [
      "for x,y in zip(hhs,pops):\n",
      "    print x\n",
      "    print y"
     ],
     "language": "python",
     "metadata": {},
     "outputs": [
      {
       "output_type": "stream",
       "stream": "stdout",
       "text": [
        "['St. Clair County', 64181]\n",
        "['St. Clair County', 178703]\n"
       ]
      }
     ],
     "prompt_number": 10
    },
    {
     "cell_type": "code",
     "collapsed": false,
     "input": [],
     "language": "python",
     "metadata": {},
     "outputs": []
    }
   ],
   "metadata": {}
  }
 ]
}