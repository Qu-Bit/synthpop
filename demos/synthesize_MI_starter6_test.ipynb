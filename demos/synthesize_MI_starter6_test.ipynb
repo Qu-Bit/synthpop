{
 "cells": [
  {
   "cell_type": "code",
   "execution_count": null,
   "metadata": {
    "collapsed": false,
    "scrolled": true,
    "slideshow": {
     "slide_type": "-"
    }
   },
   "outputs": [],
   "source": [
    "%load_ext autoreload\n",
    "%autoreload 2\n",
    "from synthpop.recipes.starter6 import Starter\n",
    "starter_ver='6'\n",
    "\n",
    "from output_verify import output_verify\n",
    "from synthpop.synthesizer import synthesize_all, enable_logging \n",
    "import pandas as pd\n",
    "import os,time\n",
    "import pickle\n",
    "\n",
    "outputfolder='/home/da/tools/synthpop/demos/outputs/'"
   ]
  },
  {
   "cell_type": "markdown",
   "metadata": {},
   "source": [
    "# Synthesize by county "
   ]
  },
  {
   "cell_type": "code",
   "execution_count": null,
   "metadata": {
    "collapsed": false
   },
   "outputs": [],
   "source": [
    "#for whole county\n",
    "time0=time.time()\n",
    "results=[]\n",
    "def synthesize_counties(counties):\n",
    "    \n",
    "    for county in counties:\n",
    "        pathout=outputfolder+county+\"_starter%s_\"%(starter_ver)\n",
    "        starter = Starter(os.environ[\"CENSUS\"], \"MI\", county)\n",
    "        households, persons, fit, marginals=synthesize_all(starter)\n",
    "        \n",
    "        households.index.name='hh_id' #result[0] is hh\n",
    "        households['serialno'] = households['serialno'].map(lambda x: '%f' % x)\n",
    "        persons['serialno'] = persons['serialno'].map(lambda x: '%f' % x)\n",
    "        #results[0].to_csv(outputfolder+county+\"_starter%s_\"%('3')+\"HHs.csv\",float_format='%.f') #float_format, not use scentific, pplies to all fp numbers \n",
    "        #could use results['serialno'] = results['serialno'].map(lambda x: '%f' % x) to change output format for serialno only\n",
    "        households.to_csv(pathout+'_households.csv')\n",
    "        persons.to_csv(pathout+'_persons.csv')\n",
    "        \n",
    "        df_verify=output_verify(households,persons,marginals)\n",
    "        df_verify[0].to_csv(pathout+\"_verify_households.csv\")\n",
    "        df_verify[1].to_csv(pathout+\"_verify_persons.csv\")\n",
    "        df_verify[2].to_csv(pathout+\"_verify_hh_size.csv\")\n",
    "        \n",
    "        with open(pathout+'_fit_stats.pkl', 'wb') as f:\n",
    "            pickle.dump(results[2], f)\n",
    "        print time.time()-time0\n",
    "    return results\n",
    "#synthesize_counties([\"Livingston County\",\"Oakland County\",\"Washtenaw County\",\"Wayne County\",\"Monroe County\",\"Macomb County\"])\n",
    "res=synthesize_counties([\"Macomb County\"])\n"
   ]
  },
  {
   "cell_type": "markdown",
   "metadata": {
    "collapsed": true
   },
   "source": [
    "# Synthesize by selected BGs"
   ]
  },
  {
   "cell_type": "code",
   "execution_count": null,
   "metadata": {
    "collapsed": false
   },
   "outputs": [],
   "source": [
    "###for selected BGs\n",
    "#enable_logging()\n",
    "time0=time.time()\n",
    "starter = Starter(os.environ[\"CENSUS\"], \"MI\", 'Macomb County')\n",
    "geoname=\"problembgs2.csv\"\n",
    "pathout=outputfolder+geoname+\"_starter%s_\"%(starter_ver)\n",
    "\n",
    "dfbg=pd.read_csv(geoname,index_col=None,dtype=str) #make sure csv column in text not number, so read as'099' not 99\n",
    "indd=[ind for i, ind in dfbg.iterrows()]\n",
    "households, persons, fit, marginals = synthesize_all(starter, indexes=indd)\n",
    "#HHs and Persons output\n",
    "households.to_csv(pathout+'_households.csv')\n",
    "persons.to_csv(pathout+'_persons.csv')\n",
    "\n",
    "#save marginal and output comparison tables\n",
    "df_veri=output_verify(households,persons,marginals)\n",
    "df_veri[0].to_csv(pathout+\"_verify_households.csv\")\n",
    "df_veri[1].to_csv(pathout+\"_verify_persons.csv\")\n",
    "df_veri[2].to_csv(pathout+\"_verify_hh_size.csv\")\n",
    "print time.time()-time0"
   ]
  },
  {
   "cell_type": "code",
   "execution_count": null,
   "metadata": {
    "collapsed": true
   },
   "outputs": [],
   "source": []
  }
 ],
 "metadata": {
  "kernelspec": {
   "display_name": "Python 2",
   "language": "python",
   "name": "python2"
  },
  "language_info": {
   "codemirror_mode": {
    "name": "ipython",
    "version": 2
   },
   "file_extension": ".py",
   "mimetype": "text/x-python",
   "name": "python",
   "nbconvert_exporter": "python",
   "pygments_lexer": "ipython2",
   "version": "2.7.11"
  }
 },
 "nbformat": 4,
 "nbformat_minor": 0
}
