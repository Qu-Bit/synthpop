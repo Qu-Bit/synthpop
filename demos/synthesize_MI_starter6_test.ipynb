{
 "cells": [
  {
   "cell_type": "code",
   "execution_count": null,
   "metadata": {
    "collapsed": false,
    "scrolled": true
   },
   "outputs": [],
   "source": [
    "%load_ext autoreload\n",
    "%autoreload 2\n",
    "from synthpop.recipes.starter6 import Starter\n",
    "starter_ver='6'\n",
    "\n",
    "from output_verify import output_verify\n",
    "from synthpop.synthesizer import synthesize_all, enable_logging \n",
    "import os\n",
    "import pandas as pd\n",
    "import time\n",
    "import json\n",
    "import pickle\n",
    "\n",
    "\n",
    "outputfolder='/home/da/tools/synthpop/demos/outputs/'\n",
    "#hh_out=outputfolder+geoname+\"_starter%s_\"%(starter_ver)+'_households.csv'\n",
    "#pp_out=outputfolder+geoname+\"_starter%s_\"%(starter_ver)+'_persons.csv'"
   ]
  },
  {
   "cell_type": "code",
   "execution_count": null,
   "metadata": {
    "collapsed": false
   },
   "outputs": [],
   "source": [
    "#for whole county\n",
    "\n",
    "results=[]\n",
    "def synthesize_counties(counties):\n",
    "    \n",
    "    for county in counties:\n",
    "        hh_out=outputfolder+geoname+\"_starter%s_\"%(starter_ver)+'_households.csv'\n",
    "        pp_out=outputfolder+geoname+\"_starter%s_\"%(starter_ver)+'_persons.csv'\n",
    "        results=[]\n",
    "        starter = Starter(os.environ[\"CENSUS\"], \"MI\", county)\n",
    "        results=synthesize_all(starter)\n",
    "        print time.time()-time0\n",
    "        results[0].index.name='hh_id' #result[0] is hh\n",
    "        results[0]['serialno'] = results[0]['serialno'].map(lambda x: '%f' % x)\n",
    "        results[1]['serialno'] = results[1]['serialno'].map(lambda x: '%f' % x)\n",
    "        #results[0].to_csv(outputfolder+county+\"_starter%s_\"%('3')+\"HHs.csv\",float_format='%.f') #float_format, not use scentific, pplies to all fp numbers \n",
    "        #could use results['serialno'] = results['serialno'].map(lambda x: '%f' % x) to change output format for serialno only\n",
    "        results[0].to_csv(hh_out)\n",
    "        results[1].to_csv(pp_out)\n",
    "        dfveri=output_verify(results[0],results[1],results[3])\n",
    "        dfveri[0].to_csv(outputfolder+county+\"_compare_starter%s_\"%(starter_ver)+\"households.csv\")\n",
    "        dfveri[1].to_csv(outputfolder+county+\"_compare_starter%s_\"%(starter_ver)+\"persons.csv\")\n",
    "        \n",
    "        with open(outputfolder+county+\"_starter%s_\"%(starter_ver)+'.pkl', 'wb') as f:\n",
    "            pickle.dump(results[2], f)\n",
    "    return results\n",
    "#synthesize_counties([\"Livingston County\",\"Oakland County\",\"Washtenaw County\",\"Wayne County\",\"Monroe County\",\"Macomb County\"])\n",
    "res=synthesize_counties([\"Macomb County\"])\n"
   ]
  },
  {
   "cell_type": "code",
   "execution_count": null,
   "metadata": {
    "collapsed": true
   },
   "outputs": [],
   "source": [
    "###for selected BGs\n",
    "#enable_logging()\n",
    "starter = Starter(os.environ[\"CENSUS\"], \"MI\", 'Macomb County')\n",
    "geoname=\"problembgs2.csv\"\n",
    "dfbg=pd.read_csv(geoname,index_col=None,dtype=str)\n",
    "hh_out=outputfolder+geoname+\"_starter%s_\"%(starter_ver)+'_households.csv'\n",
    "pp_out=outputfolder+geoname+\"_starter%s_\"%(starter_ver)+'_persons.csv'\n",
    "indd=[ind for i, ind in dfbg.iterrows()]\n",
    "households, persons, fit, marginals = synthesize_all(starter, indexes=indd)\n",
    "print \"##### output\", persons.shape[0]\n",
    "\n",
    "#save outputs to two seperate HH and Persons files\n",
    "\n",
    "households.to_csv(hh_out)\n",
    "persons.to_csv(pp_out)\n",
    "\n",
    "dfveri=output_verify(households,persons,marginals)\n",
    "dfveri[0].to_csv(outputfolder+geoname+\"_compare_starter%s_\"%(starter_ver)+\"households.csv\")\n",
    "dfveri[1].to_csv(outputfolder+geoname+\"_compare_starter%s_\"%(starter_ver)+\"persons.csv\")"
   ]
  },
  {
   "cell_type": "code",
   "execution_count": null,
   "metadata": {
    "collapsed": false
   },
   "outputs": [],
   "source": []
  },
  {
   "cell_type": "code",
   "execution_count": null,
   "metadata": {
    "collapsed": true
   },
   "outputs": [],
   "source": []
  }
 ],
 "metadata": {
  "kernelspec": {
   "display_name": "Python 2",
   "language": "python",
   "name": "python2"
  },
  "language_info": {
   "codemirror_mode": {
    "name": "ipython",
    "version": 2
   },
   "file_extension": ".py",
   "mimetype": "text/x-python",
   "name": "python",
   "nbconvert_exporter": "python",
   "pygments_lexer": "ipython2",
   "version": "2.7.11"
  }
 },
 "nbformat": 4,
 "nbformat_minor": 0
}
