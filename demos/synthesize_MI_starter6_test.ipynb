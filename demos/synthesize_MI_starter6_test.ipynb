{
 "cells": [
  {
   "cell_type": "code",
   "execution_count": 1,
   "metadata": {
    "collapsed": false,
    "scrolled": true,
    "slideshow": {
     "slide_type": "-"
    }
   },
   "outputs": [],
   "source": [
    "%load_ext autoreload\n",
    "%autoreload 2\n",
    "from synthpop.recipes.starter6 import Starter\n",
    "starter_ver='6'\n",
    "\n",
    "from output_verify import output_verify\n",
    "from synthpop.synthesizer import synthesize_all, enable_logging \n",
    "import pandas as pd\n",
    "import os,time\n",
    "import pickle\n",
    "\n",
    "outputfolder='/home/da/tools/synthpop/demos/outputs/'"
   ]
  },
  {
   "cell_type": "markdown",
   "metadata": {},
   "source": [
    "# Synthesize by county "
   ]
  },
  {
   "cell_type": "code",
   "execution_count": null,
   "metadata": {
    "collapsed": false
   },
   "outputs": [
    {
     "name": "stdout",
     "output_type": "stream",
     "text": [
      "Synthesizing at geog level: 'block_group' (number of geographies is 627)\n",
      "Synthesizing geog id:\n",
      "state              26\n",
      "county            099\n",
      "tract          206700\n",
      "block group         1\n",
      "dtype: object\n",
      "Drawing 749 households\n",
      "Synthesizing geog id:\n",
      "state              26\n",
      "county            099\n",
      "tract          206700\n",
      "block group         2\n",
      "dtype: object\n",
      "Drawing 783 households\n",
      "Synthesizing geog id:\n",
      "state              26\n",
      "county            099\n",
      "tract          210000\n",
      "block group         1\n",
      "dtype: object\n",
      "Drawing 722 households\n",
      "Synthesizing geog id:\n",
      "state              26\n",
      "county            099\n",
      "tract          210000\n",
      "block group         2\n",
      "dtype: object\n",
      "Drawing 737 households\n",
      "Synthesizing geog id:\n",
      "state              26\n",
      "county            099\n",
      "tract          211000\n",
      "block group         1\n",
      "dtype: object\n",
      "Drawing 722 households\n",
      "Synthesizing geog id:\n",
      "state              26\n",
      "county            099\n",
      "tract          211000\n",
      "block group         2\n",
      "dtype: object\n",
      "Drawing 467 households\n",
      "Synthesizing geog id:\n",
      "state              26\n",
      "county            099\n",
      "tract          211000\n",
      "block group         3\n",
      "dtype: object\n",
      "Drawing 1178 households\n",
      "Synthesizing geog id:\n",
      "state              26\n",
      "county            099\n",
      "tract          212000\n",
      "block group         1\n",
      "dtype: object\n",
      "Drawing 648 households\n",
      "Synthesizing geog id:\n",
      "state              26\n",
      "county            099\n",
      "tract          212000\n",
      "block group         2\n",
      "dtype: object\n",
      "Drawing 1091 households\n",
      "Synthesizing geog id:\n"
     ]
    }
   ],
   "source": [
    "#for whole county\n",
    "time0=time.time()\n",
    "results=[]\n",
    "def synthesize_counties(counties):\n",
    "    for county in counties:\n",
    "        for phase in range(3):\n",
    "            pathout=outputfolder+county+\"_starter%s_\"%(starter_ver)\n",
    "            starter = Starter(os.environ[\"CENSUS\"], \"MI\", county, phase=phase)\n",
    "            households, persons, fit, marginals=synthesize_all(starter)\n",
    "\n",
    "            households.index.name='hh_id' #result[0] is hh\n",
    "            households['serialno'] = households['serialno'].map(lambda x: '%f' % x)\n",
    "            persons['serialno'] = persons['serialno'].map(lambda x: '%f' % x)\n",
    "            #results[0].to_csv(outputfolder+county+\"_starter%s_\"%('3')+\"HHs.csv\",float_format='%.f') #float_format, not use scentific, pplies to all fp numbers \n",
    "            #could use results['serialno'] = results['serialno'].map(lambda x: '%f' % x) to change output format for serialno only\n",
    "            households.to_csv(pathout+'_households.csv')\n",
    "            persons.to_csv(pathout+'_persons.csv')\n",
    "\n",
    "            df_verify=output_verify(households,persons,marginals)\n",
    "            df_verify[0].to_csv(pathout+\"_verify_households.csv\")\n",
    "            df_verify[1].to_csv(pathout+\"_verify_persons.csv\")\n",
    "            df_verify[2].to_csv(pathout+\"_verify_hh_size.csv\")\n",
    "            if phase == 0:\n",
    "                df_verify[3].to_csv(\"hh7_persons_drawing.csv\")\n",
    "            if phase == 1:\n",
    "                df_ttlpersons=pd.DataFrame(data=[totalpersons],columns=['hh_size_person_factor'])\n",
    "                df_verify[4].to_csv(\"hh_size_person_factor.csv\")\n",
    "            if phase == 2:\n",
    "                os.rename(\"hh7_persons_drawing.csv\", pathout+\"_hh7_persons_drawing.csv\")\n",
    "                os.rename(\"hh_size_person_factor.csv\", pathout+\"_hh_size_person_factor.csv\")\n",
    "\n",
    "            with open(pathout+'_fit_stats.pkl', 'wb') as f:\n",
    "                pickle.dump(fit, f)\n",
    "            print time.time()-time0\n",
    "    return households, persons, fit, marginals\n",
    "#synthesize_counties([\"Livingston County\",\"Oakland County\",\"Washtenaw County\",\"Wayne County\",\"Monroe County\",\"Macomb County\"])\n",
    "res=synthesize_counties([\"Macomb County\"])\n"
   ]
  },
  {
   "cell_type": "markdown",
   "metadata": {
    "collapsed": true
   },
   "source": [
    "# Synthesize by selected BGs"
   ]
  },
  {
   "cell_type": "code",
   "execution_count": null,
   "metadata": {
    "collapsed": false,
    "scrolled": true
   },
   "outputs": [],
   "source": [
    "###for selected BGs\n",
    "#enable_logging()\n",
    "time0=time.time()\n",
    "geoname=\"problembgs.csv\"\n",
    "pathout=outputfolder+geoname+\"_starter%s_\"%(starter_ver)\n",
    "\n",
    "dfbg=pd.read_csv(geoname,index_col=None,dtype=str) #make sure csv column in text not number, so read as'099' not 99\n",
    "indd=[ind for i, ind in dfbg.iterrows()]\n",
    "for phase in range(3):\n",
    "    print \"\\nphase = \", phase, \"\\n\"\n",
    "    starter = Starter(os.environ[\"CENSUS\"], \"MI\", 'Macomb County', phase=phase)\n",
    "    households, persons, fit, marginals = synthesize_all(starter, indexes=indd)\n",
    "    print fit\n",
    "    #HHs and Persons output\n",
    "    households.to_csv(pathout+'_households.csv')\n",
    "    persons.to_csv(pathout+'_persons.csv')\n",
    "\n",
    "    df_verify=output_verify(households,persons,marginals)\n",
    "    df_verify[0].to_csv(pathout+\"_verify_households.csv\")\n",
    "    df_verify[1].to_csv(pathout+\"_verify_persons.csv\")\n",
    "    df_verify[2].to_csv(pathout+\"_verify_hh_size.csv\")\n",
    "    if phase == 0:\n",
    "        df_verify[3].to_csv(\"hh7_persons_drawing.csv\")\n",
    "    if phase == 1:\n",
    "        df_verify[4].to_csv(\"hh_size_person_factor.csv\")\n",
    "    if phase == 2:\n",
    "        os.rename(\"hh7_persons_drawing.csv\", pathout+\"_hh7_persons_drawing.csv\")\n",
    "        os.rename(\"hh_size_person_factor.csv\", pathout+\"_hh_size_person_factor.csv\")\n",
    "print time.time()-time0"
   ]
  },
  {
   "cell_type": "code",
   "execution_count": null,
   "metadata": {
    "collapsed": true
   },
   "outputs": [],
   "source": []
  }
 ],
 "metadata": {
  "kernelspec": {
   "display_name": "Python 2",
   "language": "python",
   "name": "python2"
  },
  "language_info": {
   "codemirror_mode": {
    "name": "ipython",
    "version": 2
   },
   "file_extension": ".py",
   "mimetype": "text/x-python",
   "name": "python",
   "nbconvert_exporter": "python",
   "pygments_lexer": "ipython2",
   "version": "2.7.11"
  }
 },
 "nbformat": 4,
 "nbformat_minor": 0
}
