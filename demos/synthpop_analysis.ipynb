{
 "cells": [
  {
   "cell_type": "code",
   "execution_count": 1,
   "metadata": {
    "collapsed": false
   },
   "outputs": [],
   "source": [
    "from synthpop.recipes.starter import Starter\n",
    "from synthpop.synthesizer import synthesize_all, enable_logging \n",
    "import os\n",
    "import pandas as pd"
   ]
  },
  {
   "cell_type": "code",
   "execution_count": 11,
   "metadata": {
    "collapsed": false
   },
   "outputs": [],
   "source": [
    "pmac=pd.read_csv(\"Macomb County_starter3_Pops.csv\", dtype={'serialno': 'object'})"
   ]
  },
  {
   "cell_type": "code",
   "execution_count": 9,
   "metadata": {
    "collapsed": false
   },
   "outputs": [],
   "source": [
    "pmac=pmac.reset_index()"
   ]
  },
  {
   "cell_type": "code",
   "execution_count": null,
   "metadata": {
    "collapsed": true
   },
   "outputs": [],
   "source": [
    "hmac=pd.read_csv(\"Macomb County_starter3_HHs.csv\", index_col='serialno')"
   ]
  },
  {
   "cell_type": "code",
   "execution_count": null,
   "metadata": {
    "collapsed": false
   },
   "outputs": [],
   "source": [
    "#pmac.columns.values"
   ]
  },
  {
   "cell_type": "code",
   "execution_count": null,
   "metadata": {
    "collapsed": false
   },
   "outputs": [],
   "source": [
    "#pmac=pmac.reset_index()\n",
    "#hmac=hmac.reset_index()"
   ]
  },
  {
   "cell_type": "code",
   "execution_count": 3,
   "metadata": {
    "collapsed": false
   },
   "outputs": [
    {
     "data": {
      "text/plain": [
       "'serialno'"
      ]
     },
     "execution_count": 3,
     "metadata": {},
     "output_type": "execute_result"
    }
   ],
   "source": [
    "pmac.index.name"
   ]
  },
  {
   "cell_type": "code",
   "execution_count": 13,
   "metadata": {
    "collapsed": false
   },
   "outputs": [
    {
     "data": {
      "text/plain": [
       "Unnamed: 0        int64\n",
       "ADJINC          float64\n",
       "AGEP            float64\n",
       "ANC             float64\n",
       "ANC1P05         float64\n",
       "ANC1P12         float64\n",
       "ANC2P05         float64\n",
       "ANC2P12         float64\n",
       "CIT             float64\n",
       "CITWP05         float64\n",
       "CITWP12         float64\n",
       "COW             float64\n",
       "DDRS            float64\n",
       "DEAR            float64\n",
       "DECADE          float64\n",
       "DEYE            float64\n",
       "DIS             float64\n",
       "DOUT            float64\n",
       "DPHY            float64\n",
       "DRAT            float64\n",
       "DRATX           float64\n",
       "DREM            float64\n",
       "DRIVESP         float64\n",
       "ENG             float64\n",
       "ESP             float64\n",
       "ESR             float64\n",
       "FAGEP           float64\n",
       "FANCP           float64\n",
       "FCITP           float64\n",
       "FCITWP          float64\n",
       "                 ...   \n",
       "SCIENGP         float64\n",
       "SCIENGRLP       float64\n",
       "SEMP            float64\n",
       "SEX             float64\n",
       "SFN             float64\n",
       "SFR             float64\n",
       "SOCP10           object\n",
       "SOCP12           object\n",
       "SPORDER         float64\n",
       "SSIP            float64\n",
       "SSP             float64\n",
       "ST                int64\n",
       "Unnamed: 0.1    float64\n",
       "VPS             float64\n",
       "WAGP            float64\n",
       "WAOB            float64\n",
       "WKHP            float64\n",
       "WKL             float64\n",
       "WKW             float64\n",
       "WRK             float64\n",
       "YOEP05          float64\n",
       "YOEP12          float64\n",
       "cat_id          float64\n",
       "hh_id           float64\n",
       "person_age       object\n",
       "person_sex       object\n",
       "puma00            int64\n",
       "puma10            int64\n",
       "race             object\n",
       "serialno         object\n",
       "dtype: object"
      ]
     },
     "execution_count": 13,
     "metadata": {},
     "output_type": "execute_result"
    }
   ],
   "source": [
    "pmac.dtypes"
   ]
  },
  {
   "cell_type": "code",
   "execution_count": 15,
   "metadata": {
    "collapsed": false
   },
   "outputs": [
    {
     "data": {
      "text/plain": [
       "'2.0120000357e+12'"
      ]
     },
     "execution_count": 15,
     "metadata": {},
     "output_type": "execute_result"
    }
   ],
   "source": [
    "pmac.serialno[1]"
   ]
  },
  {
   "cell_type": "code",
   "execution_count": null,
   "metadata": {
    "collapsed": false
   },
   "outputs": [],
   "source": [
    "pmac.drop(['PWGTP1',\n",
    " 'PWGTP10', 'PWGTP11' ,'PWGTP12', 'PWGTP13', 'PWGTP14' ,'PWGTP15' ,'PWGTP16',\n",
    " 'PWGTP17', 'PWGTP18', 'PWGTP19', 'PWGTP2', 'PWGTP20' ,'PWGTP21', 'PWGTP22',\n",
    " 'PWGTP23', 'PWGTP24', 'PWGTP25' ,'PWGTP26', 'PWGTP27', 'PWGTP28', 'PWGTP29',\n",
    " 'PWGTP3' ,'PWGTP30' ,'PWGTP31' ,'PWGTP32' ,'PWGTP33' ,'PWGTP34', 'PWGTP35',\n",
    " 'PWGTP36', 'PWGTP37' ,'PWGTP38', 'PWGTP39', 'PWGTP4' ,'PWGTP40' ,'PWGTP41',\n",
    " 'PWGTP42', 'PWGTP43', 'PWGTP44', 'PWGTP45', 'PWGTP46', 'PWGTP47' ,'PWGTP48',\n",
    " 'PWGTP49' ,'PWGTP5', 'PWGTP50' ,'PWGTP51' ,'PWGTP52', 'PWGTP53', 'PWGTP54',\n",
    " 'PWGTP55', 'PWGTP56', 'PWGTP57' ,'PWGTP58', 'PWGTP59', 'PWGTP6', 'PWGTP60',\n",
    " 'PWGTP61', 'PWGTP62', 'PWGTP63', 'PWGTP64', 'PWGTP65', 'PWGTP66', 'PWGTP67',\n",
    " 'PWGTP68', 'PWGTP69' ,'PWGTP7' ,'PWGTP70' ,'PWGTP71' ,'PWGTP72' ,'PWGTP73',\n",
    " 'PWGTP74', 'PWGTP75', 'PWGTP76' ,'PWGTP77' ,'PWGTP78', 'PWGTP79', 'PWGTP8',\n",
    " 'PWGTP80', 'PWGTP9','FAGEP' ,'FANCP' ,'FCITP', 'FCITWP' ,'FCOWP', 'FDDRSP','FDEARP' ,'FDEYEP',\n",
    " 'FDOUTP' ,'FDPHYP' ,'FDRATP' ,'FDRATXP' ,'FDREMP' ,'FENGP', 'FER' ,'FESRP',\n",
    " 'FFERP', 'FFODP', 'FGCLP' ,'FGCMP' ,'FGCRP' ,'FHINS1P', 'FHINS2P' ,'FHINS3C',\n",
    " 'FHINS3P', 'FHINS4C' ,'FHINS4P' ,'FHINS5C' ,'FHINS5P', 'FHINS6P', 'FHINS7P',\n",
    " 'FHISP' ,'FINDP' ,'FINTP' ,'FJWDP' ,'FJWMNP', 'FJWRIP', 'FJWTRP', 'FLANP',\n",
    " 'FLANXP', 'FMARHDP' ,'FMARHMP', 'FMARHTP' ,'FMARHWP' ,'FMARHYP' ,'FMARP' ,'FMIGP',\n",
    " 'FMIGSP', 'FMILPP', 'FMILSP' ,'FOCCP', 'FOD1P' ,'FOD2P' ,'FOIP' ,'FPAP' ,'FPOBP',\n",
    " 'FPOWSP', 'FRACP' ,'FRELP' ,'FRETP' ,'FSCHGP', 'FSCHLP' ,'FSCHP', 'FSEMP' ,'FSEXP',\n",
    " 'FSSIP', 'FSSP' ,'FWAGP' ,'FWKHP' ,'FWKLP', 'FWKWP' ,'FWRKP' ,'FYOEP' ], axis=1, inplace=True)\n",
    "pmac.drop(['ANC', 'ANC1P05',\n",
    "       'ANC1P12', 'ANC2P05', 'ANC2P12','CIT', 'CITWP05', 'CITWP12', 'COW',\n",
    "       'DDRS', 'DEAR', 'DECADE', 'DEYE', 'DIS', 'DOUT', 'DPHY', 'DRAT',\n",
    "       'DRATX', 'DREM', 'DRIVESP','GCL', 'GCM',\n",
    "       'GCR', 'HICOV', 'HINS1', 'HINS2', 'HINS3', 'HINS4', 'HINS5',\n",
    "       'HINS6', 'HINS7','INDP', 'INTP', 'JWAP', 'JWDP', 'JWMNP',\n",
    "       'JWRIP', 'JWTR', 'LANP05', 'LANP12', 'LANX', 'MAR', 'MARHD',\n",
    "       'MARHM', 'MARHT', 'MARHW', 'MARHYP05', 'MARHYP12','MIL', 'MLPA',\n",
    "       'MLPB', 'MLPCD', 'MLPE', 'MLPFG', 'MLPH', 'MLPI', 'MLPJ', 'MLPK',\n",
    "       'MSP',  'NATIVITY', 'NOP', 'NWAB', 'NWAV', 'NWLA', 'NWLK',\n",
    "       'NWRE', 'POBP05', 'POBP12', 'POVPIP','PRIVCOV', 'PUBCOV','QTRBIR','RAC2P05', 'RAC2P12', 'RAC3P05', 'RAC3P12', 'RACAIAN',\n",
    "       'RACASN', 'RACBLK', 'RACNHPI', 'RACNUM', 'RACSOR', 'RACWHT', 'RC','SCIENGP', 'SCIENGRLP',\n",
    "       'SEMP','SFN', 'SFR', 'SOCP10', 'SOCP12','SSIP',\n",
    "       'SSP', 'ST', 'Unnamed: 0.1', 'VPS'],axis=1, inplace=True)"
   ]
  },
  {
   "cell_type": "code",
   "execution_count": null,
   "metadata": {
    "collapsed": false
   },
   "outputs": [],
   "source": [
    "pmac.head(2)"
   ]
  },
  {
   "cell_type": "code",
   "execution_count": null,
   "metadata": {
    "collapsed": false
   },
   "outputs": [],
   "source": [
    "print pmac.columns.values"
   ]
  },
  {
   "cell_type": "code",
   "execution_count": null,
   "metadata": {
    "collapsed": false
   },
   "outputs": [],
   "source": [
    "#hmac.columns.values"
   ]
  },
  {
   "cell_type": "code",
   "execution_count": null,
   "metadata": {
    "collapsed": false
   },
   "outputs": [],
   "source": [
    "hmac=hmac[['ADJINC','NP','age_of_head', 'block group',\n",
    "       'cat_id', 'county', 'hh_age_of_head', 'hh_cars', 'hh_children',\n",
    "       'hh_income', 'hh_race_of_head', 'hh_size', 'hh_workers', 'insp',\n",
    "       'puma00', 'puma10', 'race_of_head', 'seniors', 'serialno', 'state',\n",
    "       'tract', 'workers']]"
   ]
  },
  {
   "cell_type": "code",
   "execution_count": null,
   "metadata": {
    "collapsed": false
   },
   "outputs": [],
   "source": [
    "hmac.columns.values"
   ]
  },
  {
   "cell_type": "code",
   "execution_count": null,
   "metadata": {
    "collapsed": false
   },
   "outputs": [],
   "source": [
    "pmac.columns.values"
   ]
  },
  {
   "cell_type": "code",
   "execution_count": null,
   "metadata": {
    "collapsed": false
   },
   "outputs": [],
   "source": [
    "pmac=pmac.fillna(-99999)"
   ]
  },
  {
   "cell_type": "code",
   "execution_count": null,
   "metadata": {
    "collapsed": true
   },
   "outputs": [],
   "source": [
    "hmac=hmac.fillna(-99999)"
   ]
  },
  {
   "cell_type": "code",
   "execution_count": null,
   "metadata": {
    "collapsed": false
   },
   "outputs": [],
   "source": [
    "pmac.head()"
   ]
  },
  {
   "cell_type": "code",
   "execution_count": null,
   "metadata": {
    "collapsed": false
   },
   "outputs": [],
   "source": [
    "hmac.head()"
   ]
  },
  {
   "cell_type": "code",
   "execution_count": null,
   "metadata": {
    "collapsed": false
   },
   "outputs": [],
   "source": [
    "pop=pd.merge(pmac, hmac, left_on='serialno', right_on='serialno',how='left')"
   ]
  },
  {
   "cell_type": "code",
   "execution_count": null,
   "metadata": {
    "collapsed": false
   },
   "outputs": [],
   "source": [
    "pmac.serialno"
   ]
  },
  {
   "cell_type": "code",
   "execution_count": null,
   "metadata": {
    "collapsed": true
   },
   "outputs": [],
   "source": [
    "pop.groupby(['tract','block group']).size()"
   ]
  },
  {
   "cell_type": "code",
   "execution_count": null,
   "metadata": {
    "collapsed": true
   },
   "outputs": [],
   "source": []
  },
  {
   "cell_type": "code",
   "execution_count": null,
   "metadata": {
    "collapsed": true
   },
   "outputs": [],
   "source": []
  },
  {
   "cell_type": "code",
   "execution_count": null,
   "metadata": {
    "collapsed": true
   },
   "outputs": [],
   "source": []
  },
  {
   "cell_type": "code",
   "execution_count": null,
   "metadata": {
    "collapsed": false
   },
   "outputs": [],
   "source": [
    "starter = Starter(os.environ[\"CENSUS\"], \"CA\", \"Santa Clara County\")"
   ]
  },
  {
   "cell_type": "code",
   "execution_count": null,
   "metadata": {
    "collapsed": false
   },
   "outputs": [],
   "source": [
    "ind = pd.Series([\"06\", \"085\", \"508203\", \"3\"], index=[\"state\", \"county\", \"tract\", \"block group\"])"
   ]
  },
  {
   "cell_type": "code",
   "execution_count": null,
   "metadata": {
    "collapsed": false
   },
   "outputs": [],
   "source": [
    "%time households, persons, fit = synthesize_all(starter, indexes=[ind])"
   ]
  },
  {
   "cell_type": "code",
   "execution_count": null,
   "metadata": {
    "collapsed": false
   },
   "outputs": [],
   "source": [
    "households.head(3)"
   ]
  },
  {
   "cell_type": "code",
   "execution_count": null,
   "metadata": {
    "collapsed": false
   },
   "outputs": [],
   "source": [
    "persons.head(3)"
   ]
  },
  {
   "cell_type": "code",
   "execution_count": null,
   "metadata": {
    "collapsed": false
   },
   "outputs": [],
   "source": [
    "fit"
   ]
  },
  {
   "cell_type": "code",
   "execution_count": null,
   "metadata": {
    "collapsed": false
   },
   "outputs": [],
   "source": [
    "starter = Starter(os.environ[\"CENSUS\"], \"MD\", \"Montgomery County\")"
   ]
  },
  {
   "cell_type": "code",
   "execution_count": null,
   "metadata": {
    "collapsed": false
   },
   "outputs": [],
   "source": [
    "ind = pd.Series([\"24\", \"031\", \"700101\", \"1\"], index=[\"state\", \"county\", \"tract\", \"block group\"])"
   ]
  },
  {
   "cell_type": "code",
   "execution_count": null,
   "metadata": {
    "collapsed": false
   },
   "outputs": [],
   "source": [
    "%time households, persons, fit = synthesize_all(starter, indexes=[ind])"
   ]
  },
  {
   "cell_type": "code",
   "execution_count": null,
   "metadata": {
    "collapsed": false
   },
   "outputs": [],
   "source": []
  }
 ],
 "metadata": {
  "kernelspec": {
   "display_name": "Python 2",
   "language": "python",
   "name": "python2"
  },
  "language_info": {
   "codemirror_mode": {
    "name": "ipython",
    "version": 2
   },
   "file_extension": ".py",
   "mimetype": "text/x-python",
   "name": "python",
   "nbconvert_exporter": "python",
   "pygments_lexer": "ipython2",
   "version": "2.7.11"
  }
 },
 "nbformat": 4,
 "nbformat_minor": 0
}
